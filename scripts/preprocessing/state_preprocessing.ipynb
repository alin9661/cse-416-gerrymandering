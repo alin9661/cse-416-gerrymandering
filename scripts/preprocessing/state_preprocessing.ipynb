{
 "cells": [
  {
   "cell_type": "code",
   "execution_count": 2,
   "id": "0d15f3f4-3f7e-4237-8f65-fffa3290563c",
   "metadata": {
    "ExecuteTime": {
     "end_time": "2024-05-06T18:53:06.878569Z",
     "start_time": "2024-05-06T18:53:06.268104Z"
    }
   },
   "source": [
    "from shapely.wkt import dumps\n",
    "from pyproj import CRS\n",
    "from shapely.geometry import MultiPolygon, Polygon\n",
    "from shapely.ops import cascaded_union\n",
    "from shapely import unary_union\n",
    "from shapely.geometry import shape, mapping\n",
    "from pymongo.errors import BulkWriteError\n",
    "import matplotlib.pyplot as plt\n",
    "import multiprocessing as mp\n",
    "from pprint import pprint\n",
    "from typing import Dict\n",
    "import geopandas as gpd\n",
    "from shapely import wkt\n",
    "import pandas as pd\n",
    "import numpy as np\n",
    "import fiona\n",
    "import os\n",
    "import folium\n",
    "import maup"
   ],
   "outputs": []
  },
  {
   "cell_type": "markdown",
   "id": "5f3948df-4ef5-4a60-90fa-4e97c47f114d",
   "metadata": {},
   "source": [
    "# Useful functions"
   ]
  },
  {
   "cell_type": "code",
   "execution_count": 3,
   "id": "31a4c789-a55c-49e3-b639-354b46db8d60",
   "metadata": {
    "ExecuteTime": {
     "end_time": "2024-05-07T00:26:57.154865Z",
     "start_time": "2024-05-07T00:26:57.149142Z"
    }
   },
   "source": [
    "# Demographic Heat Map of Precincts\n",
    "# + Election Results (Pres, Sen, Gov, etc.)\n",
    "def block_to_precinct(block_data: gpd.GeoDataFrame,\n",
    "                      precinct_data: gpd.GeoDataFrame):\n",
    "\n",
    "    block_prec_assigns = maup.assign(block_data, precinct_data)\n",
    "    return block_prec_assigns\n",
    "\n",
    "def variable_grouping(assignment_data,\n",
    "                      block_data,\n",
    "                      precinct_data,\n",
    "                      variables: list):\n",
    "    precinct_data[variables] = block_data[variables].groupby(assignment_data).sum()\n",
    "    return precinct_data\n",
    "\n",
    "### Demographic Heat Map of Districts ###\n",
    "def precinct_to_district(precinct_data: gpd.GeoDataFrame,\n",
    "                      district_data: gpd.GeoDataFrame):\n",
    "    prec_district_assigns = maup.assign(precinct_data, district_data)\n",
    "    return prec_district_assigns\n",
    "\n",
    "def geometry_to_wkt(geometry_data):\n",
    "    \"\"\"Convert a GeoDataFrame geometries to WKT format\"\"\"\n",
    "    try:\n",
    "        geometry_data['geometry'] = gpd.array.to_wkt(geometry_data['geometry'].values)\n",
    "    except Exception as e:\n",
    "        pprint(e)\n",
    "\n",
    "    return geometry_data\n",
    "\n",
    "def find_precinct_neighbors(precinct_data: gpd.GeoDataFrame) -> gpd.GeoDataFrame:\n",
    "    '''Find the neighbors of each precinct in the precinct data and add it to the dataframe'''\n",
    "    neighbors = maup.adjacencies(precinct_data)\n",
    "    precinct_data['neighbors'] = neighbors\n",
    "    return precinct_data\n",
    "\n",
    "def rename_columns(dataframe: pd.DataFrame, columns_map) -> None:\n",
    "    dataframe.rename(columns_map, inplace=True, axis=1)\n",
    "\n",
    "def reorder_columns(dataframe: pd.DataFrame, columns: list):\n",
    "    return dataframe[columns]\n",
    "\n",
    "def fill_missing_pop_w_zero(dataframe: pd.DataFrame,\n",
    "                                  name: str,\n",
    "                                  column: pd.Series\n",
    "                                  ) -> pd.Series:\n",
    "    '''\n",
    "    Randomly generating regions with a population of NaN\n",
    "    using a gamma distribution which favors generating numbers at the lower range\n",
    "    to prevent skewing our significant regions\n",
    "    '''\n",
    "    mean = column.mean()\n",
    "    std = column.std()\n",
    "    # adj_std = np.clip(std / 1000, 0, std)\n",
    "    # adj_mean = np.clip(mean - std, 0, mean)\n",
    "    is_null = column.isna()\n",
    "    num_missing = is_null.sum()\n",
    "    # maximum_acceptable_pop = dataframe[name].max()\n",
    "    # pprint(mean, std, maximum_acceptable_pop)\n",
    "    \n",
    "    if num_missing > 0:\n",
    "        # fill_values = np.random.default_rng().gamma(adj_mean, adj_std, num_missing)        \n",
    "        # column[is_null] = np.clip(fill_values, 0, maximum_acceptable_pop)\n",
    "        column[is_null] = 0\n",
    "    return column\n",
    "\n",
    "def calculate_state_wide_stats(dataframe: pd.DataFrame, columns) -> pd.DataFrame:\n",
    "    return dataframe[columns].astype(int).sum()\n",
    "\n",
    "def combine_election_results(block_df: pd.DataFrame, precinct_df: pd.DataFrame) -> pd.DataFrame:\n",
    "    block_precinct_assign = maup.assign(block_df, precinct_df)\n",
    "    columns = []\n",
    "    aggregated_election_results = block_df.groupby(block_precinct_assign).sum()\n",
    "    return aggregated_election_results\n",
    "\n",
    "### TRANSFORM FUNCTIONS ###\n",
    "\n",
    "def to_math_crs(geometry_data, crs=32030):\n",
    "    geometry_data.to_crs(crs, inplace=True)\n",
    "    return geometry_data\n",
    "\n",
    "def to_world_crs(geometry_data, crs=4326):\n",
    "    geometry_data.to_crs(crs, inplace=True)\n",
    "    return geometry_data\n",
    "\n",
    "def simplify_geometry(geometry_data):\n",
    "    geometry_data['geometry'] = geometry_data['geometry'].simplify(0.001)\n",
    "    return geometry_data\n",
    "\n",
    "### Data Observation Functions ###\n",
    "def common_columns(precinct_data: gpd.GeoDataFrame, block_data: gpd.GeoDataFrame) -> None:\n",
    "    pprint(precinct_data.columns.intersection(block_data.columns))\n",
    "\n",
    "def missing_data(precinct_data: gpd.GeoDataFrame) -> None:\n",
    "    pprint(precinct_data.isna().sum())\n",
    "\n",
    "def print_columns(precinct_data: gpd.GeoDataFrame) -> None:\n",
    "    pprint(precinct_data.columns)\n",
    "\n",
    "def print_df(precinct_data: gpd.GeoDataFrame) -> None:\n",
    "    pprint(precinct_data.head())\n",
    "\n",
    "def print_spacer() -> None:\n",
    "    pprint('------------')\n",
    "\n",
    "def print_crs(data: gpd.GeoDataFrame) -> None:\n",
    "    pprint(data.crs)"
   ],
   "outputs": []
  },
  {
   "cell_type": "code",
   "execution_count": 4,
   "id": "0dd6c182-0650-439c-8899-6ff0323886c5",
   "metadata": {
    "ExecuteTime": {
     "end_time": "2024-05-06T18:53:46.772085Z",
     "start_time": "2024-05-06T18:53:46.769921Z"
    }
   },
   "source": [
    "# Get the current working directory\n",
    "current_directory = os.getcwd()\n",
    "move_up = os.path.dirname(os.path.dirname(current_directory))\n",
    "data_dir = os.path.join(move_up, 'Data')\n",
    "new_path = os.chdir(data_dir)\n",
    "print(os.getcwd())"
   ],
   "outputs": []
  },
  {
   "cell_type": "markdown",
   "id": "8bb047e6-c209-48a0-b71e-763bc01a3353",
   "metadata": {},
   "source": [
    "# Nevada Preprocessing"
   ]
  },
  {
   "cell_type": "markdown",
   "id": "71411f1f-f89e-484f-a0ba-2150ad7870a3",
   "metadata": {},
   "source": [
    "### District-level data"
   ]
  },
  {
   "cell_type": "code",
   "execution_count": 5,
   "id": "1f5d666e-3dc4-4119-bad6-8f7f92724363",
   "metadata": {},
   "source": [
    "nv_district_df = gpd.read_file('NV Data/nv_sldl_2021/nv_sldl_2021.shp')\n",
    "\n",
    "nv_district_df.plot()\n",
    "display(nv_district_df.columns)"
   ],
   "outputs": []
  },
  {
   "cell_type": "markdown",
   "id": "d2c7c5e3-4939-40bf-b207-5eac740d37de",
   "metadata": {},
   "source": [
    "### Precinct-level Election Data\n",
    "\n",
    "We begin by aggregating data on the precinct-level by merging Presidential data with Gubernational and US Senate"
   ]
  },
  {
   "cell_type": "code",
   "execution_count": 6,
   "id": "66c8e527-4901-4493-9e43-59822e30c8cb",
   "metadata": {
    "ExecuteTime": {
     "end_time": "2024-05-07T00:27:07.986051Z",
     "start_time": "2024-05-07T00:27:00.985047Z"
    }
   },
   "source": [
    "nv_2022_gen_elc = gpd.read_file('NV Data/nv_2022_gen_prec/nv_2022_gen_prec.csv')\n",
    "\n",
    "# Gather US Senate\n",
    "nv_gov_vote_2022 = nv_2022_gen_elc.iloc[:, :4].join(nv_2022_gen_elc.iloc[:, 12:16]).join(nv_2022_gen_elc.iloc[:, [39,43]])\n",
    "# Removing Non-Democratic/Non-Republican votes\n",
    "nv_gov_vote_2022.drop(['G22GOVOWRI', 'G22GOVLDAV'], axis=1, inplace=True)\n",
    "nv_gov_vote_2022['PREC'] = nv_gov_vote_2022['PREC'].str.extract('(\\\\d+)').astype(float)\n",
    "# # Some districts don't have numbers associated with them, when taking a closer look these districts\n",
    "# # don't have any votes associated with them so we are safe to drop them\n",
    "nv_gov_vote_2022.dropna(inplace=True)\n",
    "nv_gov_vote_2022['PREC'] = nv_gov_vote_2022['PREC'].astype(int)\n",
    "# # Creating a unique id to join the dataframes on\n",
    "nv_gov_vote_2022['UNIQUE_ID'] = nv_gov_vote_2022['COUNTYFP'] + '-' + nv_gov_vote_2022['PREC'].astype(str)"
   ],
   "outputs": []
  },
  {
   "cell_type": "markdown",
   "id": "4d211ff3-cc68-4dba-afdb-2de191da52a4",
   "metadata": {},
   "source": [
    "Precinct-Level Gubernational and Attorney General Results from [Redistricting Data Hub](https://redistrictingdatahub.org/dataset/nevada-2022-general-election-precinct-level-results/)"
   ]
  },
  {
   "cell_type": "code",
   "execution_count": 44,
   "id": "9a57c8ec-4837-42fa-89dd-5c8e6378fdec",
   "metadata": {
    "ExecuteTime": {
     "end_time": "2024-05-07T00:27:11.818063Z",
     "start_time": "2024-05-07T00:27:11.179660Z"
    }
   },
   "source": [
    "nv_vest_shp = gpd.read_file('NV Data/nv_vest_20/nv_vest_20.shp')\n",
    "\n",
    "nv_vest_shp = nv_vest_shp[nv_vest_shp['NAME'] != 'Voting Districts Not Defined']\n",
    "# Formating unique id column as the gubernational election dataframe\n",
    "nv_vest_shp['UNIQUE_ID'] = nv_vest_shp['COUNTY'] + '-' + nv_vest_shp['VTDST'].str.lstrip('0')"
   ],
   "outputs": []
  },
  {
   "cell_type": "code",
   "execution_count": 45,
   "id": "a53840aac86d3b15",
   "metadata": {
    "ExecuteTime": {
     "end_time": "2024-05-07T00:27:17.295153Z",
     "start_time": "2024-05-07T00:27:12.685408Z"
    },
    "scrolled": true
   },
   "source": [
    "maup.doctor(nv_vest_shp)"
   ],
   "outputs": []
  },
  {
   "cell_type": "code",
   "execution_count": 46,
   "id": "914e3940f4802e81",
   "metadata": {
    "ExecuteTime": {
     "end_time": "2024-05-06T21:32:47.948542Z",
     "start_time": "2024-05-06T21:32:47.833362Z"
    }
   },
   "source": [
    "to_math_crs(nv_vest_shp)\n",
    "nv_vest_shp = maup.smart_repair(nv_vest_shp)"
   ],
   "outputs": []
  },
  {
   "cell_type": "code",
   "execution_count": 10,
   "id": "21d29890-848d-49ba-9e21-acc43819020b",
   "metadata": {
    "scrolled": true
   },
   "source": [
    "maup.doctor(nv_vest_shp)"
   ],
   "outputs": []
  },
  {
   "cell_type": "code",
   "execution_count": 11,
   "id": "ab545e30-da71-41f1-b79b-913e96ffb2f9",
   "metadata": {},
   "source": [
    "nv_vest_shp.columns"
   ],
   "outputs": []
  },
  {
   "cell_type": "markdown",
   "id": "91f198a3-0140-4d96-8958-f1fdd6488a5a",
   "metadata": {},
   "source": [
    "Precinct-Level Presidential Data from [Redistricting Data Hub](https://redistrictingdatahub.org/dataset/vest-2020-nevada-precinct-boundaries-and-election-results-shapefile/)"
   ]
  },
  {
   "cell_type": "markdown",
   "id": "d41c3c9b-3f02-4926-b1c0-c5e5ee8e9f03",
   "metadata": {},
   "source": [
    "### Merging Presidential, Gubernational, Attornery General Elections by Precinct\n",
    "\n",
    "Using an outer join and removing precincts with missing geometry\n",
    "\n",
    "We need geometries do this in order to assign block data to precincts"
   ]
  },
  {
   "cell_type": "code",
   "execution_count": 12,
   "id": "3cde7c0d-06ae-46ce-a8ea-e317b7cd4e41",
   "metadata": {
    "ExecuteTime": {
     "end_time": "2024-05-07T00:27:25.919550Z",
     "start_time": "2024-05-07T00:27:25.905502Z"
    }
   },
   "source": [
    "nv_elections = pd.merge(nv_vest_shp, nv_gov_vote_2022, on='UNIQUE_ID', how='outer')"
   ],
   "outputs": []
  },
  {
   "cell_type": "code",
   "execution_count": 13,
   "id": "ca29662a-5299-40e7-b062-9e253cc4f8fa",
   "metadata": {
    "ExecuteTime": {
     "end_time": "2024-05-07T00:27:32.587164Z",
     "start_time": "2024-05-07T00:27:27.145467Z"
    }
   },
   "source": [
    "# Filter elections with geometry\n",
    "nv_elections_precinct = gpd.GeoDataFrame(nv_elections[nv_elections.geometry != None])\n",
    "nv_elections_precinct.reset_index(drop=True, inplace=True)\n",
    "\n",
    "to_math_crs(nv_elections_precinct)\n",
    "maup.doctor(nv_elections_precinct)"
   ],
   "outputs": []
  },
  {
   "cell_type": "code",
   "execution_count": 14,
   "id": "02fcf292-2bd8-4d9f-8711-f2ad6ef22260",
   "metadata": {},
   "source": [
    "unnecessary_columns = ['COUNTYFP_x', 'CNTY_NAME', 'PREC', 'COUNTYFP_y', 'COUNTY',\n",
    "                       'VTDST', 'NAME', 'G20PRELJOR', 'G20PREIBLA', 'G20PREONON']"
   ],
   "outputs": []
  },
  {
   "cell_type": "code",
   "execution_count": 15,
   "id": "7bf6f40e-2dbe-4c74-bcc2-b94b0a26c20c",
   "metadata": {},
   "source": [
    "nv_elections_precinct.drop(unnecessary_columns, axis=1, inplace=True)"
   ],
   "outputs": []
  },
  {
   "cell_type": "markdown",
   "id": "551fe10e-c265-4a1d-843f-f21be26d9089",
   "metadata": {},
   "source": [
    "### Block-level Demographic data\n",
    "\n",
    "We process the block data to be assigned to precinct-level data using the maup library"
   ]
  },
  {
   "cell_type": "code",
   "execution_count": 16,
   "id": "4d4b16eb-4b44-4a18-81e9-1cfb87be8294",
   "metadata": {
    "ExecuteTime": {
     "end_time": "2024-05-06T19:07:02.457049Z",
     "start_time": "2024-05-06T19:07:01.934630Z"
    }
   },
   "source": [
    "districtr_block_df = gpd.read_file('NV Data/districtr_nv_blockDemo/export-2657.shp')"
   ],
   "outputs": []
  },
  {
   "cell_type": "markdown",
   "id": "eeacf149-ab9c-4288-8ffa-1ec4a51d8754",
   "metadata": {},
   "source": [
    "Block-Level Demographic Data from [districtr](https://districtr.org/plan)"
   ]
  },
  {
   "cell_type": "code",
   "execution_count": 17,
   "id": "a27b091a-1974-4655-ae54-30ce03b139c8",
   "metadata": {
    "scrolled": true
   },
   "source": [
    "to_math_crs(nv_elections_precinct)\n",
    "\n",
    "to_math_crs(districtr_block_df)"
   ],
   "outputs": []
  },
  {
   "cell_type": "code",
   "execution_count": 18,
   "id": "09d38959-9807-4d12-9baa-95fb2a51e160",
   "metadata": {},
   "source": [
    "nv_blocks_to_precinct_assignments = block_to_precinct(districtr_block_df, nv_elections_precinct)"
   ],
   "outputs": []
  },
  {
   "cell_type": "code",
   "execution_count": 19,
   "id": "fcde4a96-bb4d-411c-86d8-e324e228f8e3",
   "metadata": {},
   "source": [
    "districtr_block_df.columns"
   ],
   "outputs": []
  },
  {
   "cell_type": "code",
   "execution_count": 20,
   "id": "0be39071-450c-46ed-b575-cad46a629db6",
   "metadata": {},
   "source": [
    "nv_block_columns = ['VAP', 'WVAP', 'BVAP', 'ASIANVAP', 'HVAP']\n",
    "nv_elections_precinct = variable_grouping(assignment_data=nv_blocks_to_precinct_assignments,\n",
    "                  block_data=districtr_block_df,\n",
    "                  precinct_data=nv_elections_precinct,\n",
    "                  variables=nv_block_columns)"
   ],
   "outputs": []
  },
  {
   "cell_type": "code",
   "execution_count": 21,
   "id": "52b5c68e-4786-4520-bbc0-df132812bd20",
   "metadata": {},
   "source": [
    "maup.doctor(nv_elections_precinct)"
   ],
   "outputs": []
  },
  {
   "cell_type": "code",
   "execution_count": 22,
   "id": "6c3e51e1-a87a-47c6-804e-6ba428fb4fee",
   "metadata": {},
   "source": [
    "columns_to_fill = ['G22GOVDSIS', 'G22GOVRLOM', 'G22USSDCOR',\n",
    "                   'G22USSRLAX', 'VAP', 'WVAP', 'BVAP', 'ASIANVAP', 'HVAP']\n",
    "vote_results_to_int = ['G22GOVDSIS', 'G22GOVRLOM', 'G22USSDCOR', 'G22USSRLAX',\n",
    "                       'G20PREDBID', 'G20PRERTRU', 'VAP', 'WVAP', 'BVAP', 'ASIANVAP', 'HVAP']"
   ],
   "outputs": []
  },
  {
   "cell_type": "markdown",
   "id": "add56953-35d5-41ae-80ae-93fcbf2d1b86",
   "metadata": {},
   "source": [
    "Before merging, some of the vote results were formatted as strings rather than integers. \\\n",
    "We reformat all of the voting results as integers for santiy and completeness."
   ]
  },
  {
   "cell_type": "code",
   "execution_count": 23,
   "id": "e3f66af8-547f-4990-8452-805bdbceada3",
   "metadata": {
    "scrolled": true
   },
   "source": [
    "for column in vote_results_to_int:\n",
    "    nv_elections_precinct[column] = pd.to_numeric(nv_elections_precinct[column], errors='coerce')"
   ],
   "outputs": []
  },
  {
   "cell_type": "markdown",
   "id": "97f8ac11-6cae-4df5-a972-da71257c6c0c",
   "metadata": {},
   "source": [
    "Randomly generate missing values"
   ]
  },
  {
   "cell_type": "code",
   "execution_count": 24,
   "id": "be2ae561-4863-4b18-ab1c-1be42a95cd58",
   "metadata": {},
   "source": [
    "for column_name in columns_to_fill:\n",
    "    fill_missing_pop_w_zero(dataframe=nv_elections_precinct,\n",
    "                                   name=column_name,\n",
    "                                   column=nv_elections_precinct[column_name])"
   ],
   "outputs": []
  },
  {
   "cell_type": "markdown",
   "id": "927a6dc0-7b33-44b8-93b5-aef2ddb3ba0e",
   "metadata": {},
   "source": [
    "Some values came out as decimals! We can't have partial votes! \\\n",
    "We reformat values into whole integers again"
   ]
  },
  {
   "cell_type": "code",
   "execution_count": 25,
   "id": "7acff755-26fa-4c06-bc6c-0ca857891c79",
   "metadata": {},
   "source": [
    "nv_elections_precinct[columns_to_fill] = np.ceil(nv_elections_precinct[columns_to_fill]).astype(int)"
   ],
   "outputs": []
  },
  {
   "cell_type": "markdown",
   "id": "04551159-52ad-46fa-8048-bba43958aa28",
   "metadata": {},
   "source": [
    "We reorganize the column names for readiability and formatting"
   ]
  },
  {
   "cell_type": "code",
   "execution_count": 26,
   "id": "5e3c1881-f775-4da1-81fc-15c64833ee54",
   "metadata": {},
   "source": [
    "pct_votes = ['pct_wvap', 'pct_bvap', 'pct_asianvap', 'pct_hvap']"
   ],
   "outputs": []
  },
  {
   "cell_type": "code",
   "execution_count": 27,
   "id": "15c2ced6-2c0f-494d-95c3-c351aedeb5c9",
   "metadata": {},
   "source": [
    "nv_elections_precinct[pct_votes] = (nv_elections_precinct[['WVAP', 'BVAP', 'ASIANVAP', 'HVAP']]\n",
    "                                    .div(nv_elections_precinct['VAP'], axis=0)).astype(float)"
   ],
   "outputs": []
  },
  {
   "cell_type": "code",
   "execution_count": 28,
   "id": "ac87ebb9-55f3-4fe8-87dc-aa7a0876730a",
   "metadata": {},
   "source": [
    "vote_share = ['pct_bid', 'pct_tru', 'pct_cor', 'pct_lax']\n",
    "\n",
    "nv_elections_precinct = nv_elections_precinct.assign(\n",
    "                             pct_tru=lambda row: (row['G20PRERTRU'] / (row['G20PRERTRU'] + row['G20PREDBID'])).astype(float),\n",
    "                             pct_bid=lambda row: (row['G20PREDBID'] / (row['G20PRERTRU'] + row['G20PREDBID'])).astype(float),\n",
    "                             pct_cor=lambda row: (row['G22USSDCOR'] / (row['G22USSRLAX'] + row['G22USSDCOR'])).astype(float),\n",
    "                             pct_lax=lambda row: (row['G22USSRLAX'] / (row['G22USSRLAX'] + row['G22USSDCOR'])).astype(float))"
   ],
   "outputs": []
  },
  {
   "cell_type": "code",
   "execution_count": 29,
   "id": "b877b8ba-952a-4fba-8159-cd6c07bac4f3",
   "metadata": {
    "ExecuteTime": {
     "end_time": "2024-05-06T21:17:46.767446Z",
     "start_time": "2024-05-06T21:17:46.737511Z"
    }
   },
   "source": [
    "new_column_order = ['UNIQUE_ID', 'STATEFP', 'G20PREDBID', 'G20PRERTRU', 'G22USSDCOR', 'G22USSRLAX', \n",
    "                    'pct_bid', 'pct_tru', 'pct_cor', 'pct_lax', 'VAP', 'WVAP', 'BVAP', 'ASIANVAP', \n",
    "                    'HVAP', 'pct_wvap', 'pct_bvap', 'pct_asianvap', 'pct_hvap', 'geometry']\n",
    "new_column_names = {\n",
    "    'UNIQUE_ID': 'uniqueId',\n",
    "    'STATEFP': 'state', \n",
    "    'G20PREDBID': 'PRE20D',\n",
    "    'G20PRERTRU': 'PRE20R', \n",
    "    'G22USSDCOR': 'USS22D', \n",
    "    'G22USSRLAX': 'USS22R', \n",
    "    'VAP': 'vap', \n",
    "    'WVAP': 'wvap', \n",
    "    'BVAP': 'bvap', \n",
    "    'ASIANVAP': 'asianvap', \n",
    "    'HVAP': 'hvap',\n",
    "    'pct_wvap' :'pct_wvap', \n",
    "    'pct_bvap' :'pct_bvap', \n",
    "    'pct_asianvap': 'pct_asianvap', \n",
    "    'pct_hvap': 'pct_hvap',\n",
    "    'geometry': 'geometry'\n",
    "}\n",
    "\n",
    "nv_elections_precinct['STATEFP'] = 'Nevada'\n",
    "\n",
    "nv_precinct_level_data = reorder_columns(dataframe=nv_elections_precinct, columns=new_column_order)\n",
    "rename_columns(dataframe=nv_precinct_level_data, columns_map=new_column_names)"
   ],
   "outputs": []
  },
  {
   "cell_type": "markdown",
   "id": "b8123235-bdc2-4072-96de-852439fcca5a",
   "metadata": {},
   "source": [
    "Because some of the areas have ZERO population, the dataframe results in NaN values, \\\n",
    "so we will fill them with "
   ]
  },
  {
   "cell_type": "code",
   "execution_count": 30,
   "id": "b4651612-f8cf-4ff8-9863-a84fb131af23",
   "metadata": {},
   "source": [
    "nv_precinct_level_data[pct_votes] = nv_precinct_level_data[pct_votes].fillna(0)\n",
    "nv_precinct_level_data[vote_share] = nv_precinct_level_data[vote_share].fillna(0)"
   ],
   "outputs": []
  },
  {
   "cell_type": "code",
   "execution_count": 31,
   "id": "10becb01-1866-4552-8836-ed275cbd6457",
   "metadata": {},
   "source": [
    "pct_columns_to_int = ['pct_bid', 'pct_tru', 'pct_cor', 'pct_lax', \n",
    "                           'pct_wvap', 'pct_bvap', 'pct_asianvap', 'pct_hvap']"
   ],
   "outputs": []
  },
  {
   "cell_type": "code",
   "execution_count": 32,
   "id": "4ebc6de6-d739-434a-841f-30bf732774c2",
   "metadata": {},
   "source": [
    "for column in pct_columns_to_int:\n",
    "    nv_precinct_level_data[column] = nv_precinct_level_data[column].astype(float)"
   ],
   "outputs": []
  },
  {
   "cell_type": "code",
   "execution_count": 33,
   "id": "0751310f-fd59-4082-88c7-8f7ad31cd02c",
   "metadata": {},
   "source": [
    "to_math_crs(nv_precinct_level_data)\n",
    "maup.doctor(nv_precinct_level_data)"
   ],
   "outputs": []
  },
  {
   "cell_type": "code",
   "execution_count": 34,
   "id": "b323635c-6f97-4c3e-a793-3199fedd84d3",
   "metadata": {
    "scrolled": true
   },
   "source": [
    "nv_prec_adj = maup.adjacencies(nv_precinct_level_data)\n",
    "nv_prec_adj"
   ],
   "outputs": []
  },
  {
   "cell_type": "markdown",
   "id": "ed2872b2-910f-42a1-9d8e-273bad5c36fd",
   "metadata": {},
   "source": [
    "### Cleaning the district-level"
   ]
  },
  {
   "cell_type": "code",
   "execution_count": 35,
   "id": "8386893b-4e66-4ac7-805c-4b29b4ffb2ce",
   "metadata": {
    "ExecuteTime": {
     "end_time": "2024-05-07T02:15:25.686689Z",
     "start_time": "2024-05-07T02:15:25.683409Z"
    }
   },
   "source": [
    "nv_district_df.drop(['ADJPOP', 'TAWHITEALN', 'TABLACKCMB', 'TAAIANCMB',\n",
    "       'TAASIANCMB', 'TANHOPICMB', 'TAOTHERALN', 'TA2RACE', 'TAHISPANIC',\n",
    "       'VAPERSONS', 'TOTVOTER20', 'DEMVOTER20', 'REPVOTER20', 'NPVOTER20',\n",
    "       'OTHVOTER20', 'PRES20_TOT', 'PRES20_DEM', 'PRES20_REP', 'PRES20_OTH',\n",
    "       'AG18_TOTAL', 'AG18_DEM', 'AG18_REP', 'AG18_OTH', 'SOS18_TOTA',\n",
    "       'SOS18_DEM', 'SOS18_REP', 'SOS18_OTH', 'PRES16_TOT', 'PRES16_DEM',\n",
    "       'PRES16_REP', 'PRES16_OTH'], inplace=True, axis=1)"
   ],
   "outputs": []
  },
  {
   "cell_type": "code",
   "execution_count": 36,
   "id": "8d8fbf6d-5097-4120-9869-0ee5d9ad47d4",
   "metadata": {
    "ExecuteTime": {
     "end_time": "2024-05-07T02:15:28.728141Z",
     "start_time": "2024-05-07T02:15:28.600757Z"
    },
    "scrolled": true
   },
   "source": [
    "to_math_crs(nv_district_df)"
   ],
   "outputs": []
  },
  {
   "cell_type": "code",
   "execution_count": 37,
   "id": "3b2e134b-b909-4812-af70-e1db8d2b2bde",
   "metadata": {
    "ExecuteTime": {
     "end_time": "2024-05-07T02:15:30.354944Z",
     "start_time": "2024-05-07T02:15:30.343811Z"
    }
   },
   "source": [
    "precinct_to_district_assignment = maup.assign(nv_precinct_level_data, nv_district_df)\n",
    "# Add the assigned districts as a column of the `precincts` GeoDataFrame:\n",
    "nv_precinct_level_data[\"districtNum\"] = precinct_to_district_assignment\n",
    "precinct_to_district_assignment.head()"
   ],
   "outputs": []
  },
  {
   "cell_type": "code",
   "execution_count": 38,
   "id": "7299f737-2460-4eb8-9b85-12e89c0029c3",
   "metadata": {},
   "source": [
    "nv_district_variables = ['PRE20D', 'PRE20R', 'USS22D', 'USS22R', 'vap', 'wvap', 'bvap', 'asianvap', 'hvap']\n",
    "variable_grouping(assignment_data=precinct_to_district_assignment,\n",
    "                  block_data=nv_precinct_level_data, \n",
    "                  precinct_data=nv_district_df,\n",
    "                  variables=nv_district_variables)\n",
    "\n",
    "nv_district_df[pct_votes] = (nv_district_df[['wvap', 'bvap', 'asianvap', 'hvap']].div(nv_district_df['vap'], axis=0)).astype(float)\n",
    "nv_district_df['state'] = 'Nevada'\n",
    "nv_district_df = nv_district_df.assign(\n",
    "                             pct_rep=lambda row: (row['PRE20R'] / (row['PRE20R'] + row['PRE20D'])).astype(float),\n",
    "                             pct_dem=lambda row: (row['PRE20D'] / (row['PRE20R'] + row['PRE20D'])).astype(float))"
   ],
   "outputs": []
  },
  {
   "cell_type": "code",
   "execution_count": 39,
   "id": "e50a726e-8359-4a51-a196-3ab10278c998",
   "metadata": {},
   "source": [
    "nv_district_df.columns"
   ],
   "outputs": []
  },
  {
   "cell_type": "code",
   "execution_count": 40,
   "id": "aaebbade-65f9-45b9-9784-60caa6a8ecc1",
   "metadata": {},
   "source": [
    "district_column_names = {\n",
    "    'DISTRICTNO': 'districtNum'\n",
    "}\n",
    "\n",
    "rename_columns(dataframe=nv_district_df, columns_map=district_column_names)"
   ],
   "outputs": []
  },
  {
   "cell_type": "code",
   "execution_count": 41,
   "id": "70ac1902-a7db-4e86-97ee-012af7812dce",
   "metadata": {},
   "source": [
    "for column in pct_votes:\n",
    "    nv_district_df[column] = nv_district_df[column].astype(float)\n",
    "for column in ['pct_rep', 'pct_dem']:\n",
    "    nv_district_df[column] = nv_district_df[column].astype(float)"
   ],
   "outputs": []
  },
  {
   "cell_type": "code",
   "execution_count": 42,
   "id": "3ba04071-d73e-4289-bda7-5df75050f5ac",
   "metadata": {},
   "source": [
    "testing = nv_precinct_level_data.copy()"
   ],
   "outputs": []
  },
  {
   "cell_type": "code",
   "execution_count": 43,
   "id": "9abe5de7-fd3e-4eb5-9c71-a1c88e4bcdfc",
   "metadata": {},
   "source": [
    "to_math_crs(testing, testing.estimate_utm_crs())"
   ],
   "outputs": []
  },
  {
   "cell_type": "code",
   "execution_count": 1182,
   "id": "14d140e4-404f-40a5-b046-09de42dbb523",
   "metadata": {
    "scrolled": true
   },
   "source": [
    "testing_repaired = maup.smart_repair(testing)"
   ],
   "outputs": []
  },
  {
   "cell_type": "code",
   "execution_count": 1183,
   "id": "e487fef2-e084-4be7-80f0-d1e75b404176",
   "metadata": {},
   "source": [
    "maup.doctor(testing_repaired)"
   ],
   "outputs": []
  },
  {
   "cell_type": "code",
   "execution_count": 1184,
   "id": "d8f4f773-4610-47a2-9558-0c908f95a93c",
   "metadata": {},
   "source": [
    "def close_holes(poly: Polygon) -> Polygon:\n",
    "        \"\"\"\n",
    "        Close polygon holes by limitation to the exterior ring.\n",
    "        Args:\n",
    "            poly: Input shapely Polygon\n",
    "        Example:\n",
    "            df.geometry.apply(lambda p: close_holes(p))\n",
    "        \"\"\"\n",
    "        if poly.interiors:\n",
    "            # return MultiPolygon(Polygon(p.exterior) for p in poly)\n",
    "            return Polygon(list(poly.exterior.coords))\n",
    "        else:\n",
    "            return poly\n",
    "\n",
    "def hole_func(poly: MultiPolygon):\n",
    "    # eps = 0.01\n",
    "    # omega = unary_union([\n",
    "    #     Polygon(component.exterior).buffer(eps).buffer(-eps) for component in poly.geoms\n",
    "    # ])\n",
    "    return MultiPolygon(Polygon(p.exterior) for p in poly.geoms)"
   ],
   "outputs": []
  },
  {
   "cell_type": "code",
   "execution_count": 1186,
   "id": "7f9c895f-9f76-4d11-9702-81b4694dfa79",
   "metadata": {},
   "source": [
    "testing_repaired = testing_repaired.geometry.apply(lambda p: hole_func(p) if p.geom_type == 'MultiPolygon' else close_holes(p))\n",
    "# testing_repaired = testing_repaired.geometry.apply(lambda p: hole_func(p))"
   ],
   "outputs": []
  },
  {
   "cell_type": "code",
   "execution_count": 1187,
   "id": "ae5ddc07-3d85-46ce-87cf-94fa4943e623",
   "metadata": {},
   "source": [
    "maup.doctor(testing_repaired)"
   ],
   "outputs": []
  },
  {
   "cell_type": "code",
   "execution_count": 1188,
   "id": "02788fd2-9505-49ec-a2ff-1f4faaeffd8b",
   "metadata": {},
   "source": [
    "testing_repaired.plot()"
   ],
   "outputs": []
  },
  {
   "cell_type": "code",
   "execution_count": 1189,
   "id": "e88c7fb0-e9bf-48e1-9cb0-e79b5ef0b801",
   "metadata": {},
   "source": [
    "testing_repaired2 = maup.smart_repair(testing_repaired)"
   ],
   "outputs": []
  },
  {
   "cell_type": "code",
   "execution_count": 1190,
   "id": "6262c677-e156-4216-b82a-a05e00925dd2",
   "metadata": {},
   "source": [
    "maup.doctor(testing_repaired2)"
   ],
   "outputs": []
  },
  {
   "cell_type": "code",
   "execution_count": 1194,
   "id": "f3d0d1ad-28c9-47c4-8cdf-2f901aaeda3f",
   "metadata": {},
   "source": [
    "testing_repaired2 = testing_repaired2.geometry.apply(lambda p: hole_func(p) if p.geom_type == 'MultiPolygon' else close_holes(p))\n",
    "# testing_repaired = testing_repaired.geometry.apply(lambda p: hole_func(p))"
   ],
   "outputs": []
  },
  {
   "cell_type": "code",
   "execution_count": 1195,
   "id": "515b689f-49bb-413c-96b8-7d80da83c3e4",
   "metadata": {},
   "source": [
    "maup.doctor(testing_repaired2)"
   ],
   "outputs": []
  },
  {
   "cell_type": "code",
   "execution_count": 1196,
   "id": "9681da4d-ce99-4d3d-a02e-3a070fc15f8c",
   "metadata": {},
   "source": [
    "testing_repaired2.plot()"
   ],
   "outputs": []
  },
  {
   "cell_type": "code",
   "execution_count": 1192,
   "id": "66392cc9-db12-48a6-86a7-38f129af24fc",
   "metadata": {},
   "source": [
    "testing_repaired3 = maup.smart_repair(testing_repaired2)"
   ],
   "outputs": []
  },
  {
   "cell_type": "code",
   "execution_count": 1075,
   "id": "4c4d8522-d09f-41f5-b525-abc29447a7b5",
   "metadata": {},
   "source": [
    "# nv_district_df.to_file('nv_district_final_data.shp')\n",
    "# nv_precinct_level_data.to_file('nv_precinct_final_data.shp')"
   ],
   "outputs": []
  },
  {
   "cell_type": "code",
   "execution_count": null,
   "id": "7682a203-ae4b-44b9-8e73-c3574fecabdc",
   "metadata": {},
   "source": [
    "to_world_crs(nv_district_df)\n",
    "to_world_crs(nv_precinct_level_data)"
   ],
   "outputs": []
  },
  {
   "cell_type": "code",
   "execution_count": null,
   "id": "b91a0fdf-56f2-455b-8550-33470b7d0d83",
   "metadata": {},
   "source": [
    "simplify_geometry(nv_district_df)\n",
    "simplify_geometry(nv_precinct_level_data)"
   ],
   "outputs": []
  },
  {
   "cell_type": "code",
   "execution_count": null,
   "id": "b41fcccc-0e81-43f1-aea9-fc0f2c84ce27",
   "metadata": {
    "scrolled": true
   },
   "source": [
    "geometry_to_wkt(nv_district_df)\n",
    "geometry_to_wkt(nv_precinct_level_data)"
   ],
   "outputs": []
  },
  {
   "cell_type": "markdown",
   "id": "b25391ca-66fa-4a11-a063-ed48a09ce8bf",
   "metadata": {},
   "source": [
    "### Exporting Files\n",
    "\n",
    "Before we export them we must simplifiy the geometry and turn them into WKT, we also format them into dictionaries to be sent to the database"
   ]
  },
  {
   "cell_type": "code",
   "execution_count": 974,
   "id": "79477064-b106-41eb-bffa-162ba65d26d3",
   "metadata": {},
   "source": [
    "# nv_district_df.to_file('nv_district_final_data.shp')\n",
    "# nv_district_df.to_file('nv_district_final_data.geojson', driver='GeoJSON')\n",
    "nv_district_df.to_csv('nv_district_final_data.csv', index=False)"
   ],
   "outputs": []
  },
  {
   "cell_type": "code",
   "execution_count": 975,
   "id": "9036f3e2-2152-476d-b74a-59f8e50507e7",
   "metadata": {},
   "source": [
    "# nv_precinct_level_data.to_file('nv_precinct_final_data.shp')\n",
    "# nv_precinct_level_data.to_file('nv_precinct_final_data.geojson', driver='GeoJSON')\n",
    "nv_precinct_level_data.to_csv('nv_precinct_final_data.csv', index=False)"
   ],
   "outputs": []
  },
  {
   "cell_type": "markdown",
   "id": "2b5b839d-ccf1-4cc4-80c7-fef32e7aa3cf",
   "metadata": {},
   "source": [
    "# Mississippi Preprocessing"
   ]
  },
  {
   "cell_type": "markdown",
   "id": "27f43123-2e66-49d8-b0c0-6844adb0c6a2",
   "metadata": {},
   "source": [
    "### Importing Block-level data\n",
    "\n",
    "This data includes the demographic values on a block level collected MGGG's Districtr website source, which was sourced via the US Census Bureau"
   ]
  },
  {
   "cell_type": "code",
   "execution_count": 983,
   "id": "9cd931ce-509a-4e20-8b06-bc3c4c6ff4f5",
   "metadata": {},
   "source": [
    "ms_districtr_block_df = gpd.read_file('MS Data/districtr_ms_blockDemo/export-3230.shp')"
   ],
   "outputs": []
  },
  {
   "cell_type": "markdown",
   "id": "32dd2b5c-fd86-42a3-ba87-aca30d194b5b",
   "metadata": {},
   "source": [
    "Block-Level Demographic Data from [districtr](https://districtr.org/plan)"
   ]
  },
  {
   "cell_type": "code",
   "execution_count": 984,
   "id": "41c3d8e1-6de5-481f-a14d-6d883d103331",
   "metadata": {
    "scrolled": true
   },
   "source": [
    "to_math_crs(ms_districtr_block_df)"
   ],
   "outputs": []
  },
  {
   "cell_type": "code",
   "execution_count": 985,
   "id": "a5d55e49-6c66-4d53-ae0b-7c1ede21d0fc",
   "metadata": {},
   "source": [
    "ms_vest_20 = gpd.read_file('MS Data/ms_vest_20/ms_vest_20.shp')"
   ],
   "outputs": []
  },
  {
   "cell_type": "code",
   "execution_count": null,
   "id": "6c89ca6a-eff6-4126-9695-8278fe7ae903",
   "metadata": {},
   "source": [],
   "outputs": []
  },
  {
   "cell_type": "markdown",
   "id": "0879b20c-6525-4e0f-972e-57f653253be5",
   "metadata": {},
   "source": [
    "\"VEST Presidential Election Data from [Redistricting Hub](https://redistrictingdatahub.org/dataset/vest-2020-mississippi-precinct-and-election-results/) \\\n",
    "Precinct-Level Presidential Data + Geometry"
   ]
  },
  {
   "cell_type": "code",
   "execution_count": 986,
   "id": "379343c3-a8f4-4d64-ad46-95545dd4da19",
   "metadata": {},
   "source": [
    "to_math_crs(ms_vest_20)\n",
    "ms_vest_repaired = maup.smart_repair(ms_vest_20)"
   ],
   "outputs": []
  },
  {
   "cell_type": "code",
   "execution_count": 1096,
   "id": "eb1dcde8-b315-4671-a171-61a38540b8d4",
   "metadata": {},
   "source": [
    "ms_vest_repaired['UNIQUE_ID'] = ms_vest_repaired['NAME20'] + '-' + ms_vest_repaired['VTDST20'].astype(str)"
   ],
   "outputs": []
  },
  {
   "cell_type": "markdown",
   "id": "29941ee0-0077-4574-8110-fd2023a2b0b0",
   "metadata": {},
   "source": [
    "Dropping unused columns"
   ]
  },
  {
   "cell_type": "code",
   "execution_count": 1097,
   "id": "9945ddd6-57b3-4735-8297-23ae5ab94a78",
   "metadata": {},
   "source": [
    "ms_unused_prec_col = [ 'G20PRELJOR', 'G20PREGHAW', 'G20PREABLA', \n",
    "                      'G20PREOCAR', 'G20PREIWES', 'G20PREICOL', \n",
    "                      'G20PREIPIE','G20USSLEDW', 'GEOID20']\n",
    "pres_str_to_int = ['STATEFP20', 'COUNTYFP20', 'VTDST20']\n",
    "ms_pres_20 = ms_vest_repaired.drop(ms_unused_prec_col, axis=1)\n",
    "ms_pres_20[pres_str_to_int] = ms_pres_20[pres_str_to_int].astype(int)\n",
    "ms_pres_20.sort_values(by='COUNTYFP20', inplace=True)"
   ],
   "outputs": []
  },
  {
   "cell_type": "code",
   "execution_count": 1098,
   "id": "f11a1150-f52f-48c2-80b8-565ba74e4085",
   "metadata": {},
   "source": [
    "ms_blocks_to_precinct_assignments = block_to_precinct(ms_districtr_block_df, ms_pres_20)"
   ],
   "outputs": []
  },
  {
   "cell_type": "code",
   "execution_count": 1099,
   "id": "40aee28a-85ee-403e-a8e7-76ccd8175476",
   "metadata": {},
   "source": [
    "nv_block_columns = ['VAP', 'WVAP', 'BVAP', 'ASIANVAP', 'HVAP']\n",
    "ms_precinct_data = variable_grouping(assignment_data=nv_blocks_to_precinct_assignments,\n",
    "                  block_data=districtr_block_df,\n",
    "                  precinct_data=ms_pres_20,\n",
    "                  variables=nv_block_columns)"
   ],
   "outputs": []
  },
  {
   "cell_type": "markdown",
   "id": "4cb2143a-9fc3-40ef-90bc-41c32dad4827",
   "metadata": {},
   "source": [
    "We're starting to notice a pattern here with cleaning our data..."
   ]
  },
  {
   "cell_type": "code",
   "execution_count": 1100,
   "id": "a0d21b4d-10f9-4bc6-ad87-0ac3ac467776",
   "metadata": {},
   "source": [
    "columns_to_fill = ['VAP', 'WVAP', 'BVAP', 'ASIANVAP', 'HVAP']"
   ],
   "outputs": []
  },
  {
   "cell_type": "code",
   "execution_count": 1101,
   "id": "fc9f0e28-3c93-46a0-afd2-a62850905127",
   "metadata": {},
   "source": [
    "ms_precinct_data[columns_to_fill] = ms_precinct_data[columns_to_fill].fillna(0)\n",
    "ms_precinct_data[columns_to_fill] = np.ceil(ms_precinct_data[columns_to_fill]).astype(int)"
   ],
   "outputs": []
  },
  {
   "cell_type": "code",
   "execution_count": 1102,
   "id": "9cebb1fc-d3bd-41c6-9b28-a5a73f6fb351",
   "metadata": {},
   "source": [
    "ms_precinct_data[pct_votes] = (ms_precinct_data[['WVAP', 'BVAP', 'ASIANVAP', 'HVAP']]\n",
    "                                    .div(ms_precinct_data['VAP'], axis=0)).astype(float)"
   ],
   "outputs": []
  },
  {
   "cell_type": "code",
   "execution_count": 1103,
   "id": "d9ff1781-cc05-40a7-9434-62bcc7ccdb6c",
   "metadata": {},
   "source": [
    "ms_precinct_data[pct_votes] = ms_precinct_data[pct_votes].fillna(0)"
   ],
   "outputs": []
  },
  {
   "cell_type": "code",
   "execution_count": 1104,
   "id": "3ac5aa52-3f5e-47b0-98b4-dd94636941ab",
   "metadata": {},
   "source": [
    "vote_share = ['pct_bid', 'pct_tru', 'pct_hyd', 'pct_esp']\n",
    "\n",
    "ms_precinct_data = ms_precinct_data.assign(\n",
    "                             pct_tru=lambda row: (row['G20PRERTRU'] / (row['G20PRERTRU'] + row['G20PREDBID'])).astype(float),\n",
    "                             pct_bid=lambda row: (row['G20PREDBID'] / (row['G20PRERTRU'] + row['G20PREDBID'])).astype(float),\n",
    "                             pct_hyd=lambda row: (row['G20USSRHYD'] / (row['G20USSDESP'] + row['G20USSRHYD'])).astype(float),\n",
    "                             pct_esp=lambda row: (row['G20USSDESP'] / (row['G20USSDESP'] + row['G20USSRHYD'])).astype(float))"
   ],
   "outputs": []
  },
  {
   "cell_type": "code",
   "execution_count": 1105,
   "id": "3a2826b4-eef7-4005-bed0-6167909dc561",
   "metadata": {},
   "source": [
    "new_column_order = ['UNIQUE_ID', 'STATEFP', 'G20PREDBID', 'G20PRERTRU', 'G20USSDESP', 'G20USSRHYD', \n",
    "                    'pct_bid', 'pct_tru', 'pct_hyd', 'pct_esp', 'VAP', 'WVAP', 'BVAP', 'ASIANVAP', \n",
    "                    'HVAP', 'pct_wvap', 'pct_bvap', 'pct_asianvap', 'pct_hvap', 'geometry']\n",
    "new_column_names = {\n",
    "    'UNIQUE_ID': 'uniqueId',\n",
    "    'STATEFP': 'state', \n",
    "    'G20PREDBID': 'PRE20D',\n",
    "    'G20PRERTRU': 'PRE20R', \n",
    "    'G20USSDESP': 'USS20D', \n",
    "    'G20USSRHYD': 'USS20R', \n",
    "    'VAP': 'vap', \n",
    "    'WVAP': 'wvap', \n",
    "    'BVAP': 'bvap', \n",
    "    'ASIANVAP': 'asianvap', \n",
    "    'HVAP': 'hvap',\n",
    "    'pct_wvap' :'pct_wvap', \n",
    "    'pct_bvap' :'pct_bvap', \n",
    "    'pct_asianvap': 'pct_asianvap', \n",
    "    'pct_hvap': 'pct_hvap',\n",
    "    'geometry': 'geometry'\n",
    "}\n",
    "\n",
    "ms_precinct_data['STATEFP'] = 'Mississippi'\n",
    "\n",
    "ms_precinct_level_data = reorder_columns(dataframe=ms_precinct_data, columns=new_column_order)\n",
    "rename_columns(dataframe=ms_precinct_level_data, columns_map=new_column_names)\n",
    "ms_precinct_level_data.reset_index(inplace=True)"
   ],
   "outputs": []
  },
  {
   "cell_type": "code",
   "execution_count": 1106,
   "id": "2facd8d3-e9c0-42c9-8913-7382462b84d2",
   "metadata": {},
   "source": [
    "ms_precinct_level_data.columns"
   ],
   "outputs": []
  },
  {
   "cell_type": "markdown",
   "id": "6d6d4e0c-e9e3-41e6-b73b-c2744665b2fb",
   "metadata": {},
   "source": [
    "### Importing Mississippi District Data\n",
    "\n",
    "We only need the geometry and the District Num associated with it, so we drop everything else"
   ]
  },
  {
   "cell_type": "code",
   "execution_count": 1107,
   "id": "acb76ec4-ac74-4709-b0d7-f5e752e480c0",
   "metadata": {
    "scrolled": true
   },
   "source": [
    "ms_districts_lower = gpd.read_file('MS Data/ms_sldl_adopted_2022/MS_HouseDists_Mar292022.shp')"
   ],
   "outputs": []
  },
  {
   "cell_type": "markdown",
   "id": "8c13e61c-06c4-4860-9fbb-de2490272d50",
   "metadata": {},
   "source": [
    "District-level Data from [Redistricting Hub](https://redistrictingdatahub.org/dataset/2022-mississippi-senate-districts-approved-plan/)"
   ]
  },
  {
   "cell_type": "code",
   "execution_count": 1108,
   "id": "11274d2d-615c-4555-884f-c8144b9ce858",
   "metadata": {
    "scrolled": true
   },
   "source": [
    "ms_districts_lower.drop(['ID', 'MEMBERS', 'LOCKED', 'NAME', 'POPULATION', 'WHITE', 'BLACK', \n",
    "                         'F18_POP', 'F18_WHT', 'F18_BLK', 'F18_AP_BLK', 'DEVIATION', 'F_DEVIATIO', \n",
    "                         'F_WHITE', 'F_BLACK', 'F_18_POP', 'F_18_WHT', 'F_18_BLK', 'MULTIPLE_F', \n",
    "                         'F_18_AP_BL', 'DISTRICT_L', 'Shade_Num', 'DISTRICT', 'AREA', 'IDEAL_VALU'], inplace=True, axis=1)"
   ],
   "outputs": []
  },
  {
   "cell_type": "code",
   "execution_count": 1109,
   "id": "7e28e48e-5c5e-4b47-bd40-a7aeafdcb4dc",
   "metadata": {},
   "source": [
    "to_math_crs(ms_districts_lower)"
   ],
   "outputs": []
  },
  {
   "cell_type": "code",
   "execution_count": 1110,
   "id": "3051d7d6-d8fd-454a-b3a7-ad967bc779fc",
   "metadata": {},
   "source": [
    "ms_precinct_to_district_assignment = maup.assign(ms_precinct_level_data, ms_districts_lower)\n",
    "# Add the assigned districts as a column of the `precincts` GeoDataFrame:\n",
    "ms_precinct_level_data[\"distrctNum\"] = ms_precinct_to_district_assignment"
   ],
   "outputs": []
  },
  {
   "cell_type": "code",
   "execution_count": 1111,
   "id": "57575007-1d84-4e81-ae5d-a35468d31570",
   "metadata": {},
   "source": [
    "ms_district_variables = ['PRE20D', 'PRE20R', 'USS20D', 'USS20R',\n",
    "                         'vap', 'wvap', 'bvap', 'asianvap', 'hvap']\n",
    "ms_district_df = variable_grouping(assignment_data=ms_precinct_to_district_assignment,\n",
    "                  block_data=ms_precinct_level_data, \n",
    "                  precinct_data=ms_districts_lower,\n",
    "                  variables=ms_district_variables)"
   ],
   "outputs": []
  },
  {
   "cell_type": "code",
   "execution_count": 1112,
   "id": "47109c50-758c-4120-8b1f-433c1b0c9480",
   "metadata": {},
   "source": [
    "ms_district_df[pct_votes] = (ms_district_df[['wvap', 'bvap', 'asianvap', 'hvap']].div(ms_district_df['vap'], axis=0)).astype(float)\n",
    "ms_district_df['state'] = 'Mississippi'\n",
    "ms_district_df = ms_district_df.assign(\n",
    "                             pct_rep=lambda row: (row['PRE20R'] / (row['PRE20R'] + row['PRE20D'])).astype(float),\n",
    "                             pct_dem=lambda row: (row['PRE20D'] / (row['PRE20R'] + row['PRE20D'])).astype(float))"
   ],
   "outputs": []
  },
  {
   "cell_type": "code",
   "execution_count": 1113,
   "id": "9386decc-4f30-4ca2-af47-f10f6c2a64df",
   "metadata": {},
   "source": [
    "ms_district_df.columns"
   ],
   "outputs": []
  },
  {
   "cell_type": "code",
   "execution_count": 1114,
   "id": "ffd66360-b59a-4237-a25a-2e4c63dd5fb9",
   "metadata": {},
   "source": [
    "new_column_order = ['Distnum', 'state', 'PRE20D', 'PRE20R', 'USS20D', 'USS20R', 'pct_rep', 'pct_dem', 'vap', \n",
    "                    'wvap', 'bvap', 'asianvap', 'hvap', 'pct_wvap', 'pct_bvap', 'pct_asianvap', 'pct_hvap', 'geometry']\n",
    "\n",
    "district_column_names = {\n",
    "    'Distnum': 'districtNum'\n",
    "}\n",
    "\n",
    "ms_district_df = reorder_columns(dataframe=ms_district_df, columns=new_column_order)\n",
    "rename_columns(dataframe=ms_district_df, columns_map=district_column_names)\n",
    "ms_district_df.sort_values(by='districtNum', inplace=True)"
   ],
   "outputs": []
  },
  {
   "cell_type": "code",
   "execution_count": 1117,
   "id": "fa01ab92-b193-4488-9440-410b073e02d3",
   "metadata": {},
   "source": [
    "ms_district_df.to_file('ms_district_final_data.shp')\n",
    "ms_precinct_level_data.to_file('ms_precinct_final_data.shp')"
   ],
   "outputs": []
  },
  {
   "cell_type": "code",
   "execution_count": 1095,
   "id": "cbd7202c-bff1-4eaa-9003-50c578abbe03",
   "metadata": {},
   "source": [
    "to_world_crs(ms_district_df)\n",
    "to_world_crs(ms_precinct_level_data)"
   ],
   "outputs": []
  },
  {
   "cell_type": "code",
   "execution_count": null,
   "id": "4e2dd7d6-133b-451f-86a3-7020ca044da1",
   "metadata": {},
   "source": [
    "simplify_geometry(ms_district_df)\n",
    "simplify_geometry(ms_precinct_level_data)"
   ],
   "outputs": []
  },
  {
   "cell_type": "code",
   "execution_count": null,
   "id": "68da49ed-eb3a-4158-82f4-da1fe963dc92",
   "metadata": {
    "scrolled": true
   },
   "source": [
    "geometry_to_wkt(ms_district_df)\n",
    "geometry_to_wkt(ms_precinct_level_data)"
   ],
   "outputs": []
  },
  {
   "cell_type": "markdown",
   "id": "f15dbe6c-db2f-43e7-a4af-c92dbd0ac624",
   "metadata": {},
   "source": [
    "### Exporting Mississippi Data\n",
    "\n",
    "Just like before, we export the data to a csv for convenience"
   ]
  },
  {
   "cell_type": "code",
   "execution_count": 1033,
   "id": "48c0616d-4e0a-418b-9817-6682d6333313",
   "metadata": {},
   "source": [
    "ms_district_df.to_csv('ms_district_final_data.csv')\n",
    "ms_precinct_level_data.to_csv('ms_precinct_final_data.csv')"
   ],
   "outputs": []
  },
  {
   "cell_type": "markdown",
   "id": "b1db9aa2-ffb9-4a2e-818b-38d1c3b77e6f",
   "metadata": {},
   "source": [
    "### Assigning Demographic data on the Block Level to Election Results on the Precinct Level\n",
    "\n",
    "Using the Maup library we assign blocks to precincts"
   ]
  },
  {
   "cell_type": "code",
   "execution_count": 823,
   "id": "1c45a845-eaea-407a-b7ac-22bb6bda6339",
   "metadata": {},
   "source": [
    "test = gpd.read_file('NV Data/nv_sldl_2021/nv_sldl_2021.shp')\n",
    "\n",
    "test.to_excel('nv_districts.xlsx')"
   ],
   "outputs": []
  },
  {
   "cell_type": "code",
   "execution_count": null,
   "id": "b1395dba-84b9-4d84-9ce5-f991cc6040be",
   "metadata": {},
   "source": [],
   "outputs": []
  }
 ],
 "metadata": {
  "kernelspec": {
   "display_name": "Python 3 (ipykernel)",
   "language": "python",
   "name": "python3"
  },
  "language_info": {
   "codemirror_mode": {
    "name": "ipython",
    "version": 3
   },
   "file_extension": ".py",
   "mimetype": "text/x-python",
   "name": "python",
   "nbconvert_exporter": "python",
   "pygments_lexer": "ipython3",
   "version": "3.11.5"
  }
 },
 "nbformat": 4,
 "nbformat_minor": 5
}
