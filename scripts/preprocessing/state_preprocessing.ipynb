{
 "cells": [
  {
   "cell_type": "code",
   "execution_count": 2,
   "id": "0d15f3f4-3f7e-4237-8f65-fffa3290563c",
   "metadata": {
    "ExecuteTime": {
     "end_time": "2024-05-06T18:53:06.878569Z",
     "start_time": "2024-05-06T18:53:06.268104Z"
    }
   },
   "outputs": [],
   "source": [
    "from shapely.wkt import dumps\n",
    "from pyproj import CRS\n",
    "from shapely.geometry import MultiPolygon, Polygon\n",
    "from shapely.ops import cascaded_union\n",
    "from shapely import unary_union\n",
    "from shapely.geometry import shape, mapping\n",
    "from pymongo.errors import BulkWriteError\n",
    "import matplotlib.pyplot as plt\n",
    "import multiprocessing as mp\n",
    "from pprint import pprint\n",
    "from typing import Dict\n",
    "import geopandas as gpd\n",
    "from shapely import wkt\n",
    "import pandas as pd\n",
    "import numpy as np\n",
    "import fiona\n",
    "import os\n",
    "import folium\n",
    "import maup"
   ]
  },
  {
   "cell_type": "markdown",
   "id": "5f3948df-4ef5-4a60-90fa-4e97c47f114d",
   "metadata": {},
   "source": [
    "# Useful functions"
   ]
  },
  {
   "cell_type": "code",
   "execution_count": 3,
   "id": "31a4c789-a55c-49e3-b639-354b46db8d60",
   "metadata": {
    "ExecuteTime": {
     "end_time": "2024-05-07T00:26:57.154865Z",
     "start_time": "2024-05-07T00:26:57.149142Z"
    }
   },
   "outputs": [],
   "source": [
    "# Demographic Heat Map of Precincts\n",
    "# + Election Results (Pres, Sen, Gov, etc.)\n",
    "def block_to_precinct(block_data: gpd.GeoDataFrame,\n",
    "                      precinct_data: gpd.GeoDataFrame):\n",
    "\n",
    "    block_prec_assigns = maup.assign(block_data, precinct_data)\n",
    "    return block_prec_assigns\n",
    "\n",
    "def variable_grouping(assignment_data,\n",
    "                      block_data,\n",
    "                      precinct_data,\n",
    "                      variables: list):\n",
    "    precinct_data[variables] = block_data[variables].groupby(assignment_data).sum()\n",
    "    return precinct_data\n",
    "\n",
    "### Demographic Heat Map of Districts ###\n",
    "def precinct_to_district(precinct_data: gpd.GeoDataFrame,\n",
    "                      district_data: gpd.GeoDataFrame):\n",
    "    prec_district_assigns = maup.assign(precinct_data, district_data)\n",
    "    return prec_district_assigns\n",
    "\n",
    "def geometry_to_wkt(geometry_data):\n",
    "    \"\"\"Convert a GeoDataFrame geometries to WKT format\"\"\"\n",
    "    try:\n",
    "        geometry_data['geometry'] = gpd.array.to_wkt(geometry_data['geometry'].values)\n",
    "    except Exception as e:\n",
    "        pprint(e)\n",
    "\n",
    "    return geometry_data\n",
    "\n",
    "def find_precinct_neighbors(precinct_data: gpd.GeoDataFrame) -> gpd.GeoDataFrame:\n",
    "    '''Find the neighbors of each precinct in the precinct data and add it to the dataframe'''\n",
    "    neighbors = maup.adjacencies(precinct_data)\n",
    "    precinct_data['neighbors'] = neighbors\n",
    "    return precinct_data\n",
    "\n",
    "def rename_columns(dataframe: pd.DataFrame, columns_map) -> None:\n",
    "    dataframe.rename(columns_map, inplace=True, axis=1)\n",
    "\n",
    "def reorder_columns(dataframe: pd.DataFrame, columns: list):\n",
    "    return dataframe[columns]\n",
    "\n",
    "def fill_missing_pop_w_zero(dataframe: pd.DataFrame,\n",
    "                                  name: str,\n",
    "                                  column: pd.Series\n",
    "                                  ) -> pd.Series:\n",
    "    '''\n",
    "    Randomly generating regions with a population of NaN\n",
    "    using a gamma distribution which favors generating numbers at the lower range\n",
    "    to prevent skewing our significant regions\n",
    "    '''\n",
    "    mean = column.mean()\n",
    "    std = column.std()\n",
    "    # adj_std = np.clip(std / 1000, 0, std)\n",
    "    # adj_mean = np.clip(mean - std, 0, mean)\n",
    "    is_null = column.isna()\n",
    "    num_missing = is_null.sum()\n",
    "    # maximum_acceptable_pop = dataframe[name].max()\n",
    "    # pprint(mean, std, maximum_acceptable_pop)\n",
    "    \n",
    "    if num_missing > 0:\n",
    "        # fill_values = np.random.default_rng().gamma(adj_mean, adj_std, num_missing)        \n",
    "        # column[is_null] = np.clip(fill_values, 0, maximum_acceptable_pop)\n",
    "        column[is_null] = 0\n",
    "    return column\n",
    "\n",
    "def calculate_state_wide_stats(dataframe: pd.DataFrame, columns) -> pd.DataFrame:\n",
    "    return dataframe[columns].astype(int).sum()\n",
    "\n",
    "def combine_election_results(block_df: pd.DataFrame, precinct_df: pd.DataFrame) -> pd.DataFrame:\n",
    "    block_precinct_assign = maup.assign(block_df, precinct_df)\n",
    "    columns = []\n",
    "    aggregated_election_results = block_df.groupby(block_precinct_assign).sum()\n",
    "    return aggregated_election_results\n",
    "\n",
    "### TRANSFORM FUNCTIONS ###\n",
    "\n",
    "def to_math_crs(geometry_data, crs=32030):\n",
    "    geometry_data.to_crs(crs, inplace=True)\n",
    "    return geometry_data\n",
    "\n",
    "def to_world_crs(geometry_data, crs=4326):\n",
    "    geometry_data.to_crs(crs, inplace=True)\n",
    "    return geometry_data\n",
    "\n",
    "def simplify_geometry(geometry_data):\n",
    "    geometry_data['geometry'] = geometry_data['geometry'].simplify(0.001)\n",
    "    return geometry_data\n",
    "\n",
    "### Data Observation Functions ###\n",
    "def common_columns(precinct_data: gpd.GeoDataFrame, block_data: gpd.GeoDataFrame) -> None:\n",
    "    pprint(precinct_data.columns.intersection(block_data.columns))\n",
    "\n",
    "def missing_data(precinct_data: gpd.GeoDataFrame) -> None:\n",
    "    pprint(precinct_data.isna().sum())\n",
    "\n",
    "def print_columns(precinct_data: gpd.GeoDataFrame) -> None:\n",
    "    pprint(precinct_data.columns)\n",
    "\n",
    "def print_df(precinct_data: gpd.GeoDataFrame) -> None:\n",
    "    pprint(precinct_data.head())\n",
    "\n",
    "def print_spacer() -> None:\n",
    "    pprint('------------')\n",
    "\n",
    "def print_crs(data: gpd.GeoDataFrame) -> None:\n",
    "    pprint(data.crs)"
   ]
  },
  {
   "cell_type": "code",
   "execution_count": 4,
   "id": "0dd6c182-0650-439c-8899-6ff0323886c5",
   "metadata": {
    "ExecuteTime": {
     "end_time": "2024-05-06T18:53:46.772085Z",
     "start_time": "2024-05-06T18:53:46.769921Z"
    }
   },
   "outputs": [
    {
     "name": "stdout",
     "output_type": "stream",
     "text": [
      "/Users/aaronlin/Downloads/Spring 2024/CSE 416/Data\n"
     ]
    }
   ],
   "source": [
    "# Get the current working directory\n",
    "current_directory = os.getcwd()\n",
    "move_up = os.path.dirname(os.path.dirname(current_directory))\n",
    "data_dir = os.path.join(move_up, 'Data')\n",
    "new_path = os.chdir(data_dir)\n",
    "print(os.getcwd())"
   ]
  },
  {
   "cell_type": "markdown",
   "id": "8bb047e6-c209-48a0-b71e-763bc01a3353",
   "metadata": {},
   "source": [
    "# Nevada Preprocessing"
   ]
  },
  {
   "cell_type": "markdown",
   "id": "71411f1f-f89e-484f-a0ba-2150ad7870a3",
   "metadata": {},
   "source": [
    "### District-level data"
   ]
  },
  {
   "cell_type": "code",
   "execution_count": 5,
   "id": "1f5d666e-3dc4-4119-bad6-8f7f92724363",
   "metadata": {},
   "outputs": [
    {
     "data": {
      "text/plain": [
       "Index(['DISTRICTNO', 'ADJPOP', 'TAWHITEALN', 'TABLACKCMB', 'TAAIANCMB',\n",
       "       'TAASIANCMB', 'TANHOPICMB', 'TAOTHERALN', 'TA2RACE', 'TAHISPANIC',\n",
       "       'VAPERSONS', 'TOTVOTER20', 'DEMVOTER20', 'REPVOTER20', 'NPVOTER20',\n",
       "       'OTHVOTER20', 'PRES20_TOT', 'PRES20_DEM', 'PRES20_REP', 'PRES20_OTH',\n",
       "       'AG18_TOTAL', 'AG18_DEM', 'AG18_REP', 'AG18_OTH', 'SOS18_TOTA',\n",
       "       'SOS18_DEM', 'SOS18_REP', 'SOS18_OTH', 'PRES16_TOT', 'PRES16_DEM',\n",
       "       'PRES16_REP', 'PRES16_OTH', 'geometry'],\n",
       "      dtype='object')"
      ]
     },
     "metadata": {},
     "output_type": "display_data"
    },
    {
     "data": {
      "image/png": "[encoded data removed]",
      "text/plain": [
       "<Figure size 640x480 with 1 Axes>"
      ]
     },
     "metadata": {},
     "output_type": "display_data"
    }
   ],
   "source": [
    "nv_district_df = gpd.read_file('NV Data/nv_sldl_2021/nv_sldl_2021.shp')\n",
    "\n",
    "nv_district_df.plot()\n",
    "display(nv_district_df.columns)"
   ]
  },
  {
   "cell_type": "markdown",
   "id": "d2c7c5e3-4939-40bf-b207-5eac740d37de",
   "metadata": {},
   "source": [
    "### Precinct-level Election Data\n",
    "\n",
    "We begin by aggregating data on the precinct-level by merging Presidential data with Gubernational and US Senate"
   ]
  },
  {
   "cell_type": "code",
   "execution_count": 6,
   "id": "66c8e527-4901-4493-9e43-59822e30c8cb",
   "metadata": {
    "ExecuteTime": {
     "end_time": "2024-05-07T00:27:07.986051Z",
     "start_time": "2024-05-07T00:27:00.985047Z"
    }
   },
   "outputs": [],
   "source": [
    "nv_2022_gen_elc = gpd.read_file('NV Data/nv_2022_gen_prec/nv_2022_gen_prec.csv')\n",
    "\n",
    "# Gather US Senate\n",
    "nv_gov_vote_2022 = nv_2022_gen_elc.iloc[:, :4].join(nv_2022_gen_elc.iloc[:, 12:16]).join(nv_2022_gen_elc.iloc[:, [39,43]])\n",
    "# Removing Non-Democratic/Non-Republican votes\n",
    "nv_gov_vote_2022.drop(['G22GOVOWRI', 'G22GOVLDAV'], axis=1, inplace=True)\n",
    "nv_gov_vote_2022['PREC'] = nv_gov_vote_2022['PREC'].str.extract('(\\\\d+)').astype(float)\n",
    "# # Some districts don't have numbers associated with them, when taking a closer look these districts\n",
    "# # don't have any votes associated with them so we are safe to drop them\n",
    "nv_gov_vote_2022.dropna(inplace=True)\n",
    "nv_gov_vote_2022['PREC'] = nv_gov_vote_2022['PREC'].astype(int)\n",
    "# # Creating a unique id to join the dataframes on\n",
    "nv_gov_vote_2022['UNIQUE_ID'] = nv_gov_vote_2022['COUNTYFP'] + '-' + nv_gov_vote_2022['PREC'].astype(str)"
   ]
  },
  {
   "cell_type": "markdown",
   "id": "4d211ff3-cc68-4dba-afdb-2de191da52a4",
   "metadata": {},
   "source": [
    "Precinct-Level Gubernational and Attorney General Results from [Redistricting Data Hub](https://redistrictingdatahub.org/dataset/nevada-2022-general-election-precinct-level-results/)"
   ]
  },
  {
   "cell_type": "code",
   "execution_count": 44,
   "id": "9a57c8ec-4837-42fa-89dd-5c8e6378fdec",
   "metadata": {
    "ExecuteTime": {
     "end_time": "2024-05-07T00:27:11.818063Z",
     "start_time": "2024-05-07T00:27:11.179660Z"
    }
   },
   "outputs": [],
   "source": [
    "nv_vest_shp = gpd.read_file('NV Data/nv_vest_20/nv_vest_20.shp')\n",
    "\n",
    "nv_vest_shp = nv_vest_shp[nv_vest_shp['NAME'] != 'Voting Districts Not Defined']\n",
    "# Formating unique id column as the gubernational election dataframe\n",
    "nv_vest_shp['UNIQUE_ID'] = nv_vest_shp['COUNTY'] + '-' + nv_vest_shp['VTDST'].str.lstrip('0')"
   ]
  },
  {
   "cell_type": "code",
   "execution_count": 45,
   "id": "a53840aac86d3b15",
   "metadata": {
    "ExecuteTime": {
     "end_time": "2024-05-07T00:27:17.295153Z",
     "start_time": "2024-05-07T00:27:12.685408Z"
    },
    "scrolled": true
   },
   "outputs": [
    {
     "name": "stderr",
     "output_type": "stream",
     "text": [
      "/Users/aaronlin/anaconda3/lib/python3.11/site-packages/maup/repair.py:331: UserWarning: Geometry is in a geographic CRS. Results from 'area' are likely incorrect. Use 'GeoSeries.to_crs()' to re-project geometries to a projected CRS before this operation.\n",
      "\n",
      "  overlaps = inters[inters.area > 0].make_valid()\n"
     ]
    },
    {
     "name": "stdout",
     "output_type": "stream",
     "text": [
      "There are 754 overlaps.\n",
      "There are 2200 holes.\n"
     ]
    },
    {
     "data": {
      "text/plain": [
       "False"
      ]
     },
     "execution_count": 45,
     "metadata": {},
     "output_type": "execute_result"
    }
   ],
   "source": [
    "maup.doctor(nv_vest_shp)"
   ]
  },
  {
   "cell_type": "code",
   "execution_count": 46,
   "id": "914e3940f4802e81",
   "metadata": {
    "ExecuteTime": {
     "end_time": "2024-05-06T21:32:47.948542Z",
     "start_time": "2024-05-06T21:32:47.833362Z"
    }
   },
   "outputs": [
    {
     "name": "stdout",
     "output_type": "stream",
     "text": [
      "Snapping all geometries to a grid with precision 10^( -4 ) to avoid GEOS errors.\n",
      "Identifying overlaps...\n",
      "Resolving overlaps...\n",
      "Assigning order 2 pieces...\n",
      "Assigning order 3 pieces...\n",
      "Filling gaps...\n"
     ]
    },
    {
     "name": "stderr",
     "output_type": "stream",
     "text": [
      "Gaps to simplify: 3250it [10:12,  5.30it/s]                                     \n",
      "Gaps to fill: 100%|███████████████████████████| 289/289 [00:58<00:00,  4.92it/s]\n"
     ]
    }
   ],
   "source": [
    "to_math_crs(nv_vest_shp)\n",
    "nv_vest_shp = maup.smart_repair(nv_vest_shp)"
   ]
  },
  {
   "cell_type": "code",
   "execution_count": 10,
   "id": "21d29890-848d-49ba-9e21-acc43819020b",
   "metadata": {
    "scrolled": true
   },
   "outputs": [
    {
     "data": {
      "text/plain": [
       "True"
      ]
     },
     "execution_count": 10,
     "metadata": {},
     "output_type": "execute_result"
    }
   ],
   "source": [
    "maup.doctor(nv_vest_shp)"
   ]
  },
  {
   "cell_type": "code",
   "execution_count": 11,
   "id": "ab545e30-da71-41f1-b79b-913e96ffb2f9",
   "metadata": {},
   "outputs": [
    {
     "data": {
      "text/plain": [
       "Index(['STATEFP', 'COUNTYFP', 'COUNTY', 'VTDST', 'NAME', 'G20PREDBID',\n",
       "       'G20PRERTRU', 'G20PRELJOR', 'G20PREIBLA', 'G20PREONON', 'geometry',\n",
       "       'UNIQUE_ID'],\n",
       "      dtype='object')"
      ]
     },
     "execution_count": 11,
     "metadata": {},
     "output_type": "execute_result"
    }
   ],
   "source": [
    "nv_vest_shp.columns"
   ]
  },
  {
   "cell_type": "markdown",
   "id": "91f198a3-0140-4d96-8958-f1fdd6488a5a",
   "metadata": {},
   "source": [
    "Precinct-Level Presidential Data from [Redistricting Data Hub](https://redistrictingdatahub.org/dataset/vest-2020-nevada-precinct-boundaries-and-election-results-shapefile/)"
   ]
  },
  {
   "cell_type": "markdown",
   "id": "d41c3c9b-3f02-4926-b1c0-c5e5ee8e9f03",
   "metadata": {},
   "source": [
    "### Merging Presidential, Gubernational, Attornery General Elections by Precinct\n",
    "\n",
    "Using an outer join and removing precincts with missing geometry\n",
    "\n",
    "We need geometries do this in order to assign block data to precincts"
   ]
  },
  {
   "cell_type": "code",
   "execution_count": 12,
   "id": "3cde7c0d-06ae-46ce-a8ea-e317b7cd4e41",
   "metadata": {
    "ExecuteTime": {
     "end_time": "2024-05-07T00:27:25.919550Z",
     "start_time": "2024-05-07T00:27:25.905502Z"
    }
   },
   "outputs": [],
   "source": [
    "nv_elections = pd.merge(nv_vest_shp, nv_gov_vote_2022, on='UNIQUE_ID', how='outer')"
   ]
  },
  {
   "cell_type": "code",
   "execution_count": 13,
   "id": "ca29662a-5299-40e7-b062-9e253cc4f8fa",
   "metadata": {
    "ExecuteTime": {
     "end_time": "2024-05-07T00:27:32.587164Z",
     "start_time": "2024-05-07T00:27:27.145467Z"
    }
   },
   "outputs": [
    {
     "name": "stdout",
     "output_type": "stream",
     "text": [
      "There are 95 overlaps.\n"
     ]
    },
    {
     "data": {
      "text/plain": [
       "False"
      ]
     },
     "execution_count": 13,
     "metadata": {},
     "output_type": "execute_result"
    }
   ],
   "source": [
    "# Filter elections with geometry\n",
    "nv_elections_precinct = gpd.GeoDataFrame(nv_elections[nv_elections.geometry != None])\n",
    "nv_elections_precinct.reset_index(drop=True, inplace=True)\n",
    "\n",
    "to_math_crs(nv_elections_precinct)\n",
    "maup.doctor(nv_elections_precinct)"
   ]
  },
  {
   "cell_type": "code",
   "execution_count": 14,
   "id": "02fcf292-2bd8-4d9f-8711-f2ad6ef22260",
   "metadata": {},
   "outputs": [],
   "source": [
    "unnecessary_columns = ['COUNTYFP_x', 'CNTY_NAME', 'PREC', 'COUNTYFP_y', 'COUNTY',\n",
    "                       'VTDST', 'NAME', 'G20PRELJOR', 'G20PREIBLA', 'G20PREONON']"
   ]
  },
  {
   "cell_type": "code",
   "execution_count": 15,
   "id": "7bf6f40e-2dbe-4c74-bcc2-b94b0a26c20c",
   "metadata": {},
   "outputs": [],
   "source": [
    "nv_elections_precinct.drop(unnecessary_columns, axis=1, inplace=True)"
   ]
  },
  {
   "cell_type": "markdown",
   "id": "551fe10e-c265-4a1d-843f-f21be26d9089",
   "metadata": {},
   "source": [
    "### Block-level Demographic data\n",
    "\n",
    "We process the block data to be assigned to precinct-level data using the maup library"
   ]
  },
  {
   "cell_type": "code",
   "execution_count": 16,
   "id": "4d4b16eb-4b44-4a18-81e9-1cfb87be8294",
   "metadata": {
    "ExecuteTime": {
     "end_time": "2024-05-06T19:07:02.457049Z",
     "start_time": "2024-05-06T19:07:01.934630Z"
    }
   },
   "outputs": [],
   "source": [
    "districtr_block_df = gpd.read_file('NV Data/districtr_nv_blockDemo/export-2657.shp')"
   ]
  },
  {
   "cell_type": "markdown",
   "id": "eeacf149-ab9c-4288-8ffa-1ec4a51d8754",
   "metadata": {},
   "source": [
    "Block-Level Demographic Data from [districtr](https://districtr.org/plan)"
   ]
  },
  {
   "cell_type": "code",
   "execution_count": 17,
   "id": "a27b091a-1974-4655-ae54-30ce03b139c8",
   "metadata": {
    "scrolled": true
   },
   "outputs": [
    {
     "data": {
      "text/html": [
       "<div>\n",
       "<style scoped>\n",
       "    .dataframe tbody tr th:only-of-type {\n",
       "        vertical-align: middle;\n",
       "    }\n",
       "\n",
       "    .dataframe tbody tr th {\n",
       "        vertical-align: top;\n",
       "    }\n",
       "\n",
       "    .dataframe thead th {\n",
       "        text-align: right;\n",
       "    }\n",
       "</style>\n",
       "<table border=\"1\" class=\"dataframe\">\n",
       "  <thead>\n",
       "    <tr style=\"text-align: right;\">\n",
       "      <th></th>\n",
       "      <th>STATEFP20</th>\n",
       "      <th>COUNTYFP20</th>\n",
       "      <th>TRACTCE20</th>\n",
       "      <th>BLKGRPCE20</th>\n",
       "      <th>GEOID20</th>\n",
       "      <th>NAMELSAD20</th>\n",
       "      <th>MTFCC20</th>\n",
       "      <th>FUNCSTAT20</th>\n",
       "      <th>ALAND20</th>\n",
       "      <th>AWATER20</th>\n",
       "      <th>...</th>\n",
       "      <th>ASIANVAP</th>\n",
       "      <th>NHPIVAP</th>\n",
       "      <th>OTHERVAP</th>\n",
       "      <th>2MOREVAP</th>\n",
       "      <th>HVAP</th>\n",
       "      <th>LOGRECNO</th>\n",
       "      <th>GEOCODE</th>\n",
       "      <th>SUMLEV</th>\n",
       "      <th>districtr</th>\n",
       "      <th>geometry</th>\n",
       "    </tr>\n",
       "  </thead>\n",
       "  <tbody>\n",
       "    <tr>\n",
       "      <th>0</th>\n",
       "      <td>32</td>\n",
       "      <td>003</td>\n",
       "      <td>003249</td>\n",
       "      <td>2</td>\n",
       "      <td>320030032492</td>\n",
       "      <td>Block Group 2</td>\n",
       "      <td>G5030</td>\n",
       "      <td>S</td>\n",
       "      <td>689920</td>\n",
       "      <td>0</td>\n",
       "      <td>...</td>\n",
       "      <td>128</td>\n",
       "      <td>5</td>\n",
       "      <td>4</td>\n",
       "      <td>57</td>\n",
       "      <td>172</td>\n",
       "      <td>1465</td>\n",
       "      <td>320030032492</td>\n",
       "      <td>150</td>\n",
       "      <td>-1</td>\n",
       "      <td>POLYGON ((-12730622.676 1592149.446, -12729865...</td>\n",
       "    </tr>\n",
       "    <tr>\n",
       "      <th>1</th>\n",
       "      <td>32</td>\n",
       "      <td>003</td>\n",
       "      <td>003249</td>\n",
       "      <td>1</td>\n",
       "      <td>320030032491</td>\n",
       "      <td>Block Group 1</td>\n",
       "      <td>G5030</td>\n",
       "      <td>S</td>\n",
       "      <td>777076</td>\n",
       "      <td>0</td>\n",
       "      <td>...</td>\n",
       "      <td>168</td>\n",
       "      <td>10</td>\n",
       "      <td>9</td>\n",
       "      <td>88</td>\n",
       "      <td>159</td>\n",
       "      <td>1464</td>\n",
       "      <td>320030032491</td>\n",
       "      <td>150</td>\n",
       "      <td>-1</td>\n",
       "      <td>POLYGON ((-12727670.004 1592245.200, -12727080...</td>\n",
       "    </tr>\n",
       "    <tr>\n",
       "      <th>2</th>\n",
       "      <td>32</td>\n",
       "      <td>003</td>\n",
       "      <td>003251</td>\n",
       "      <td>2</td>\n",
       "      <td>320030032512</td>\n",
       "      <td>Block Group 2</td>\n",
       "      <td>G5030</td>\n",
       "      <td>S</td>\n",
       "      <td>461201</td>\n",
       "      <td>0</td>\n",
       "      <td>...</td>\n",
       "      <td>130</td>\n",
       "      <td>0</td>\n",
       "      <td>7</td>\n",
       "      <td>32</td>\n",
       "      <td>163</td>\n",
       "      <td>1469</td>\n",
       "      <td>320030032512</td>\n",
       "      <td>150</td>\n",
       "      <td>-1</td>\n",
       "      <td>POLYGON ((-12723621.951 1590801.617, -12723599...</td>\n",
       "    </tr>\n",
       "    <tr>\n",
       "      <th>3</th>\n",
       "      <td>32</td>\n",
       "      <td>003</td>\n",
       "      <td>003250</td>\n",
       "      <td>2</td>\n",
       "      <td>320030032502</td>\n",
       "      <td>Block Group 2</td>\n",
       "      <td>G5030</td>\n",
       "      <td>S</td>\n",
       "      <td>1494067</td>\n",
       "      <td>0</td>\n",
       "      <td>...</td>\n",
       "      <td>410</td>\n",
       "      <td>15</td>\n",
       "      <td>11</td>\n",
       "      <td>105</td>\n",
       "      <td>370</td>\n",
       "      <td>1467</td>\n",
       "      <td>320030032502</td>\n",
       "      <td>150</td>\n",
       "      <td>-1</td>\n",
       "      <td>POLYGON ((-12731492.599 1589234.814, -12731259...</td>\n",
       "    </tr>\n",
       "    <tr>\n",
       "      <th>4</th>\n",
       "      <td>32</td>\n",
       "      <td>003</td>\n",
       "      <td>003248</td>\n",
       "      <td>2</td>\n",
       "      <td>320030032482</td>\n",
       "      <td>Block Group 2</td>\n",
       "      <td>G5030</td>\n",
       "      <td>S</td>\n",
       "      <td>202841</td>\n",
       "      <td>0</td>\n",
       "      <td>...</td>\n",
       "      <td>92</td>\n",
       "      <td>2</td>\n",
       "      <td>7</td>\n",
       "      <td>31</td>\n",
       "      <td>179</td>\n",
       "      <td>1462</td>\n",
       "      <td>320030032482</td>\n",
       "      <td>150</td>\n",
       "      <td>-1</td>\n",
       "      <td>POLYGON ((-12705251.225 1590854.349, -12705115...</td>\n",
       "    </tr>\n",
       "    <tr>\n",
       "      <th>...</th>\n",
       "      <td>...</td>\n",
       "      <td>...</td>\n",
       "      <td>...</td>\n",
       "      <td>...</td>\n",
       "      <td>...</td>\n",
       "      <td>...</td>\n",
       "      <td>...</td>\n",
       "      <td>...</td>\n",
       "      <td>...</td>\n",
       "      <td>...</td>\n",
       "      <td>...</td>\n",
       "      <td>...</td>\n",
       "      <td>...</td>\n",
       "      <td>...</td>\n",
       "      <td>...</td>\n",
       "      <td>...</td>\n",
       "      <td>...</td>\n",
       "      <td>...</td>\n",
       "      <td>...</td>\n",
       "      <td>...</td>\n",
       "      <td>...</td>\n",
       "    </tr>\n",
       "    <tr>\n",
       "      <th>1958</th>\n",
       "      <td>32</td>\n",
       "      <td>003</td>\n",
       "      <td>002997</td>\n",
       "      <td>2</td>\n",
       "      <td>320030029972</td>\n",
       "      <td>Block Group 2</td>\n",
       "      <td>G5030</td>\n",
       "      <td>S</td>\n",
       "      <td>980119</td>\n",
       "      <td>0</td>\n",
       "      <td>...</td>\n",
       "      <td>315</td>\n",
       "      <td>28</td>\n",
       "      <td>16</td>\n",
       "      <td>108</td>\n",
       "      <td>356</td>\n",
       "      <td>1350</td>\n",
       "      <td>320030029972</td>\n",
       "      <td>150</td>\n",
       "      <td>-1</td>\n",
       "      <td>POLYGON ((-12720835.058 1563475.382, -12720594...</td>\n",
       "    </tr>\n",
       "    <tr>\n",
       "      <th>1959</th>\n",
       "      <td>32</td>\n",
       "      <td>003</td>\n",
       "      <td>005721</td>\n",
       "      <td>1</td>\n",
       "      <td>320030057211</td>\n",
       "      <td>Block Group 1</td>\n",
       "      <td>G5030</td>\n",
       "      <td>S</td>\n",
       "      <td>1337028</td>\n",
       "      <td>0</td>\n",
       "      <td>...</td>\n",
       "      <td>120</td>\n",
       "      <td>3</td>\n",
       "      <td>9</td>\n",
       "      <td>28</td>\n",
       "      <td>44</td>\n",
       "      <td>2051</td>\n",
       "      <td>320030057211</td>\n",
       "      <td>150</td>\n",
       "      <td>-1</td>\n",
       "      <td>POLYGON ((-12710395.296 1465107.111, -12710322...</td>\n",
       "    </tr>\n",
       "    <tr>\n",
       "      <th>1960</th>\n",
       "      <td>32</td>\n",
       "      <td>003</td>\n",
       "      <td>005365</td>\n",
       "      <td>2</td>\n",
       "      <td>320030053652</td>\n",
       "      <td>Block Group 2</td>\n",
       "      <td>G5030</td>\n",
       "      <td>S</td>\n",
       "      <td>6229658</td>\n",
       "      <td>0</td>\n",
       "      <td>...</td>\n",
       "      <td>241</td>\n",
       "      <td>5</td>\n",
       "      <td>14</td>\n",
       "      <td>79</td>\n",
       "      <td>162</td>\n",
       "      <td>1960</td>\n",
       "      <td>320030053652</td>\n",
       "      <td>150</td>\n",
       "      <td>-1</td>\n",
       "      <td>POLYGON ((-12676867.937 1473351.110, -12675827...</td>\n",
       "    </tr>\n",
       "    <tr>\n",
       "      <th>1961</th>\n",
       "      <td>32</td>\n",
       "      <td>003</td>\n",
       "      <td>005869</td>\n",
       "      <td>1</td>\n",
       "      <td>320030058691</td>\n",
       "      <td>Block Group 1</td>\n",
       "      <td>G5030</td>\n",
       "      <td>S</td>\n",
       "      <td>665498</td>\n",
       "      <td>0</td>\n",
       "      <td>...</td>\n",
       "      <td>723</td>\n",
       "      <td>18</td>\n",
       "      <td>5</td>\n",
       "      <td>144</td>\n",
       "      <td>521</td>\n",
       "      <td>2151</td>\n",
       "      <td>320030058691</td>\n",
       "      <td>150</td>\n",
       "      <td>-1</td>\n",
       "      <td>POLYGON ((-12745201.863 1540668.309, -12745016...</td>\n",
       "    </tr>\n",
       "    <tr>\n",
       "      <th>1962</th>\n",
       "      <td>32</td>\n",
       "      <td>003</td>\n",
       "      <td>003267</td>\n",
       "      <td>1</td>\n",
       "      <td>320030032671</td>\n",
       "      <td>Block Group 1</td>\n",
       "      <td>G5030</td>\n",
       "      <td>S</td>\n",
       "      <td>5465793</td>\n",
       "      <td>0</td>\n",
       "      <td>...</td>\n",
       "      <td>130</td>\n",
       "      <td>7</td>\n",
       "      <td>13</td>\n",
       "      <td>115</td>\n",
       "      <td>264</td>\n",
       "      <td>1495</td>\n",
       "      <td>320030032671</td>\n",
       "      <td>150</td>\n",
       "      <td>-1</td>\n",
       "      <td>POLYGON ((-12707568.923 1621941.691, -12707525...</td>\n",
       "    </tr>\n",
       "  </tbody>\n",
       "</table>\n",
       "<p>1963 rows × 35 columns</p>\n",
       "</div>"
      ],
      "text/plain": [
       "     STATEFP20 COUNTYFP20 TRACTCE20 BLKGRPCE20       GEOID20     NAMELSAD20  \\\n",
       "0           32        003    003249          2  320030032492  Block Group 2   \n",
       "1           32        003    003249          1  320030032491  Block Group 1   \n",
       "2           32        003    003251          2  320030032512  Block Group 2   \n",
       "3           32        003    003250          2  320030032502  Block Group 2   \n",
       "4           32        003    003248          2  320030032482  Block Group 2   \n",
       "...        ...        ...       ...        ...           ...            ...   \n",
       "1958        32        003    002997          2  320030029972  Block Group 2   \n",
       "1959        32        003    005721          1  320030057211  Block Group 1   \n",
       "1960        32        003    005365          2  320030053652  Block Group 2   \n",
       "1961        32        003    005869          1  320030058691  Block Group 1   \n",
       "1962        32        003    003267          1  320030032671  Block Group 1   \n",
       "\n",
       "     MTFCC20 FUNCSTAT20  ALAND20  AWATER20  ... ASIANVAP NHPIVAP  OTHERVAP  \\\n",
       "0      G5030          S   689920         0  ...      128       5         4   \n",
       "1      G5030          S   777076         0  ...      168      10         9   \n",
       "2      G5030          S   461201         0  ...      130       0         7   \n",
       "3      G5030          S  1494067         0  ...      410      15        11   \n",
       "4      G5030          S   202841         0  ...       92       2         7   \n",
       "...      ...        ...      ...       ...  ...      ...     ...       ...   \n",
       "1958   G5030          S   980119         0  ...      315      28        16   \n",
       "1959   G5030          S  1337028         0  ...      120       3         9   \n",
       "1960   G5030          S  6229658         0  ...      241       5        14   \n",
       "1961   G5030          S   665498         0  ...      723      18         5   \n",
       "1962   G5030          S  5465793         0  ...      130       7        13   \n",
       "\n",
       "      2MOREVAP  HVAP  LOGRECNO       GEOCODE  SUMLEV  districtr  \\\n",
       "0           57   172      1465  320030032492     150         -1   \n",
       "1           88   159      1464  320030032491     150         -1   \n",
       "2           32   163      1469  320030032512     150         -1   \n",
       "3          105   370      1467  320030032502     150         -1   \n",
       "4           31   179      1462  320030032482     150         -1   \n",
       "...        ...   ...       ...           ...     ...        ...   \n",
       "1958       108   356      1350  320030029972     150         -1   \n",
       "1959        28    44      2051  320030057211     150         -1   \n",
       "1960        79   162      1960  320030053652     150         -1   \n",
       "1961       144   521      2151  320030058691     150         -1   \n",
       "1962       115   264      1495  320030032671     150         -1   \n",
       "\n",
       "                                               geometry  \n",
       "0     POLYGON ((-12730622.676 1592149.446, -12729865...  \n",
       "1     POLYGON ((-12727670.004 1592245.200, -12727080...  \n",
       "2     POLYGON ((-12723621.951 1590801.617, -12723599...  \n",
       "3     POLYGON ((-12731492.599 1589234.814, -12731259...  \n",
       "4     POLYGON ((-12705251.225 1590854.349, -12705115...  \n",
       "...                                                 ...  \n",
       "1958  POLYGON ((-12720835.058 1563475.382, -12720594...  \n",
       "1959  POLYGON ((-12710395.296 1465107.111, -12710322...  \n",
       "1960  POLYGON ((-12676867.937 1473351.110, -12675827...  \n",
       "1961  POLYGON ((-12745201.863 1540668.309, -12745016...  \n",
       "1962  POLYGON ((-12707568.923 1621941.691, -12707525...  \n",
       "\n",
       "[1963 rows x 35 columns]"
      ]
     },
     "execution_count": 17,
     "metadata": {},
     "output_type": "execute_result"
    }
   ],
   "source": [
    "to_math_crs(nv_elections_precinct)\n",
    "\n",
    "to_math_crs(districtr_block_df)"
   ]
  },
  {
   "cell_type": "code",
   "execution_count": 18,
   "id": "09d38959-9807-4d12-9baa-95fb2a51e160",
   "metadata": {},
   "outputs": [],
   "source": [
    "nv_blocks_to_precinct_assignments = block_to_precinct(districtr_block_df, nv_elections_precinct)"
   ]
  },
  {
   "cell_type": "code",
   "execution_count": 19,
   "id": "fcde4a96-bb4d-411c-86d8-e324e228f8e3",
   "metadata": {},
   "outputs": [
    {
     "data": {
      "text/plain": [
       "Index(['STATEFP20', 'COUNTYFP20', 'TRACTCE20', 'BLKGRPCE20', 'GEOID20',\n",
       "       'NAMELSAD20', 'MTFCC20', 'FUNCSTAT20', 'ALAND20', 'AWATER20',\n",
       "       'INTPTLAT20', 'INTPTLON20', 'TOTPOP', 'WHITE', 'BLACK', 'AMIN', 'ASIAN',\n",
       "       'NHPI', 'OTHER', '2MORE', 'HISP', 'VAP', 'WVAP', 'BVAP', 'AMINVAP',\n",
       "       'ASIANVAP', 'NHPIVAP', 'OTHERVAP', '2MOREVAP', 'HVAP', 'LOGRECNO',\n",
       "       'GEOCODE', 'SUMLEV', 'districtr', 'geometry'],\n",
       "      dtype='object')"
      ]
     },
     "execution_count": 19,
     "metadata": {},
     "output_type": "execute_result"
    }
   ],
   "source": [
    "districtr_block_df.columns"
   ]
  },
  {
   "cell_type": "code",
   "execution_count": 20,
   "id": "0be39071-450c-46ed-b575-cad46a629db6",
   "metadata": {},
   "outputs": [],
   "source": [
    "nv_block_columns = ['VAP', 'WVAP', 'BVAP', 'ASIANVAP', 'HVAP']\n",
    "nv_elections_precinct = variable_grouping(assignment_data=nv_blocks_to_precinct_assignments,\n",
    "                  block_data=districtr_block_df,\n",
    "                  precinct_data=nv_elections_precinct,\n",
    "                  variables=nv_block_columns)"
   ]
  },
  {
   "cell_type": "code",
   "execution_count": 21,
   "id": "52b5c68e-4786-4520-bbc0-df132812bd20",
   "metadata": {},
   "outputs": [
    {
     "name": "stdout",
     "output_type": "stream",
     "text": [
      "There are 95 overlaps.\n"
     ]
    },
    {
     "data": {
      "text/plain": [
       "False"
      ]
     },
     "execution_count": 21,
     "metadata": {},
     "output_type": "execute_result"
    }
   ],
   "source": [
    "maup.doctor(nv_elections_precinct)"
   ]
  },
  {
   "cell_type": "code",
   "execution_count": 22,
   "id": "6c3e51e1-a87a-47c6-804e-6ba428fb4fee",
   "metadata": {},
   "outputs": [],
   "source": [
    "columns_to_fill = ['G22GOVDSIS', 'G22GOVRLOM', 'G22USSDCOR',\n",
    "                   'G22USSRLAX', 'VAP', 'WVAP', 'BVAP', 'ASIANVAP', 'HVAP']\n",
    "vote_results_to_int = ['G22GOVDSIS', 'G22GOVRLOM', 'G22USSDCOR', 'G22USSRLAX',\n",
    "                       'G20PREDBID', 'G20PRERTRU', 'VAP', 'WVAP', 'BVAP', 'ASIANVAP', 'HVAP']"
   ]
  },
  {
   "cell_type": "markdown",
   "id": "add56953-35d5-41ae-80ae-93fcbf2d1b86",
   "metadata": {},
   "source": [
    "Before merging, some of the vote results were formatted as strings rather than integers. \\\n",
    "We reformat all of the voting results as integers for santiy and completeness."
   ]
  },
  {
   "cell_type": "code",
   "execution_count": 23,
   "id": "e3f66af8-547f-4990-8452-805bdbceada3",
   "metadata": {
    "scrolled": true
   },
   "outputs": [],
   "source": [
    "for column in vote_results_to_int:\n",
    "    nv_elections_precinct[column] = pd.to_numeric(nv_elections_precinct[column], errors='coerce')"
   ]
  },
  {
   "cell_type": "markdown",
   "id": "97f8ac11-6cae-4df5-a972-da71257c6c0c",
   "metadata": {},
   "source": [
    "Randomly generate missing values"
   ]
  },
  {
   "cell_type": "code",
   "execution_count": 24,
   "id": "be2ae561-4863-4b18-ab1c-1be42a95cd58",
   "metadata": {},
   "outputs": [],
   "source": [
    "for column_name in columns_to_fill:\n",
    "    fill_missing_pop_w_zero(dataframe=nv_elections_precinct,\n",
    "                                   name=column_name,\n",
    "                                   column=nv_elections_precinct[column_name])"
   ]
  },
  {
   "cell_type": "markdown",
   "id": "927a6dc0-7b33-44b8-93b5-aef2ddb3ba0e",
   "metadata": {},
   "source": [
    "Some values came out as decimals! We can't have partial votes! \\\n",
    "We reformat values into whole integers again"
   ]
  },
  {
   "cell_type": "code",
   "execution_count": 25,
   "id": "7acff755-26fa-4c06-bc6c-0ca857891c79",
   "metadata": {},
   "outputs": [],
   "source": [
    "nv_elections_precinct[columns_to_fill] = np.ceil(nv_elections_precinct[columns_to_fill]).astype(int)"
   ]
  },
  {
   "cell_type": "markdown",
   "id": "04551159-52ad-46fa-8048-bba43958aa28",
   "metadata": {},
   "source": [
    "We reorganize the column names for readiability and formatting"
   ]
  },
  {
   "cell_type": "code",
   "execution_count": 26,
   "id": "5e3c1881-f775-4da1-81fc-15c64833ee54",
   "metadata": {},
   "outputs": [],
   "source": [
    "pct_votes = ['pct_wvap', 'pct_bvap', 'pct_asianvap', 'pct_hvap']"
   ]
  },
  {
   "cell_type": "code",
   "execution_count": 27,
   "id": "15c2ced6-2c0f-494d-95c3-c351aedeb5c9",
   "metadata": {},
   "outputs": [],
   "source": [
    "nv_elections_precinct[pct_votes] = (nv_elections_precinct[['WVAP', 'BVAP', 'ASIANVAP', 'HVAP']]\n",
    "                                    .div(nv_elections_precinct['VAP'], axis=0)).astype(float)"
   ]
  },
  {
   "cell_type": "code",
   "execution_count": 28,
   "id": "ac87ebb9-55f3-4fe8-87dc-aa7a0876730a",
   "metadata": {},
   "outputs": [],
   "source": [
    "vote_share = ['pct_bid', 'pct_tru', 'pct_cor', 'pct_lax']\n",
    "\n",
    "nv_elections_precinct = nv_elections_precinct.assign(\n",
    "                             pct_tru=lambda row: (row['G20PRERTRU'] / (row['G20PRERTRU'] + row['G20PREDBID'])).astype(float),\n",
    "                             pct_bid=lambda row: (row['G20PREDBID'] / (row['G20PRERTRU'] + row['G20PREDBID'])).astype(float),\n",
    "                             pct_cor=lambda row: (row['G22USSDCOR'] / (row['G22USSRLAX'] + row['G22USSDCOR'])).astype(float),\n",
    "                             pct_lax=lambda row: (row['G22USSRLAX'] / (row['G22USSRLAX'] + row['G22USSDCOR'])).astype(float))"
   ]
  },
  {
   "cell_type": "code",
   "execution_count": 29,
   "id": "b877b8ba-952a-4fba-8159-cd6c07bac4f3",
   "metadata": {
    "ExecuteTime": {
     "end_time": "2024-05-06T21:17:46.767446Z",
     "start_time": "2024-05-06T21:17:46.737511Z"
    }
   },
   "outputs": [],
   "source": [
    "new_column_order = ['UNIQUE_ID', 'STATEFP', 'G20PREDBID', 'G20PRERTRU', 'G22USSDCOR', 'G22USSRLAX', \n",
    "                    'pct_bid', 'pct_tru', 'pct_cor', 'pct_lax', 'VAP', 'WVAP', 'BVAP', 'ASIANVAP', \n",
    "                    'HVAP', 'pct_wvap', 'pct_bvap', 'pct_asianvap', 'pct_hvap', 'geometry']\n",
    "new_column_names = {\n",
    "    'UNIQUE_ID': 'uniqueId',\n",
    "    'STATEFP': 'state', \n",
    "    'G20PREDBID': 'PRE20D',\n",
    "    'G20PRERTRU': 'PRE20R', \n",
    "    'G22USSDCOR': 'USS22D', \n",
    "    'G22USSRLAX': 'USS22R', \n",
    "    'VAP': 'vap', \n",
    "    'WVAP': 'wvap', \n",
    "    'BVAP': 'bvap', \n",
    "    'ASIANVAP': 'asianvap', \n",
    "    'HVAP': 'hvap',\n",
    "    'pct_wvap' :'pct_wvap', \n",
    "    'pct_bvap' :'pct_bvap', \n",
    "    'pct_asianvap': 'pct_asianvap', \n",
    "    'pct_hvap': 'pct_hvap',\n",
    "    'geometry': 'geometry'\n",
    "}\n",
    "\n",
    "nv_elections_precinct['STATEFP'] = 'Nevada'\n",
    "\n",
    "nv_precinct_level_data = reorder_columns(dataframe=nv_elections_precinct, columns=new_column_order)\n",
    "rename_columns(dataframe=nv_precinct_level_data, columns_map=new_column_names)"
   ]
  },
  {
   "cell_type": "markdown",
   "id": "b8123235-bdc2-4072-96de-852439fcca5a",
   "metadata": {},
   "source": [
    "Because some of the areas have ZERO population, the dataframe results in NaN values, \\\n",
    "so we will fill them with "
   ]
  },
  {
   "cell_type": "code",
   "execution_count": 30,
   "id": "b4651612-f8cf-4ff8-9863-a84fb131af23",
   "metadata": {},
   "outputs": [],
   "source": [
    "nv_precinct_level_data[pct_votes] = nv_precinct_level_data[pct_votes].fillna(0)\n",
    "nv_precinct_level_data[vote_share] = nv_precinct_level_data[vote_share].fillna(0)"
   ]
  },
  {
   "cell_type": "code",
   "execution_count": 31,
   "id": "10becb01-1866-4552-8836-ed275cbd6457",
   "metadata": {},
   "outputs": [],
   "source": [
    "pct_columns_to_int = ['pct_bid', 'pct_tru', 'pct_cor', 'pct_lax', \n",
    "                           'pct_wvap', 'pct_bvap', 'pct_asianvap', 'pct_hvap']"
   ]
  },
  {
   "cell_type": "code",
   "execution_count": 32,
   "id": "4ebc6de6-d739-434a-841f-30bf732774c2",
   "metadata": {},
   "outputs": [],
   "source": [
    "for column in pct_columns_to_int:\n",
    "    nv_precinct_level_data[column] = nv_precinct_level_data[column].astype(float)"
   ]
  },
  {
   "cell_type": "code",
   "execution_count": 33,
   "id": "0751310f-fd59-4082-88c7-8f7ad31cd02c",
   "metadata": {},
   "outputs": [
    {
     "name": "stdout",
     "output_type": "stream",
     "text": [
      "There are 95 overlaps.\n"
     ]
    },
    {
     "data": {
      "text/plain": [
       "False"
      ]
     },
     "execution_count": 33,
     "metadata": {},
     "output_type": "execute_result"
    }
   ],
   "source": [
    "to_math_crs(nv_precinct_level_data)\n",
    "maup.doctor(nv_precinct_level_data)"
   ]
  },
  {
   "cell_type": "code",
   "execution_count": 34,
   "id": "b323635c-6f97-4c3e-a793-3199fedd84d3",
   "metadata": {
    "scrolled": true
   },
   "outputs": [
    {
     "name": "stderr",
     "output_type": "stream",
     "text": [
      "/Users/aaronlin/anaconda3/lib/python3.11/site-packages/maup/adjacencies.py:69: OverlapWarning: Found overlapping polygons while computing adjacencies.\n",
      "This could be evidence of topological problems.\n",
      "Indices of overlaps: {(2097, 2099), (2100, 2104), (2096, 2097), (2105, 2109), (2106, 2110), (2097, 2101), (2108, 2110), (1995, 1998), (2098, 2099), (2106, 2112), (2109, 2111), (2107, 2111), (2103, 2104), (2097, 2103), (2099, 2100), (2108, 2112), (1995, 2000), (2096, 2104), (2098, 2101), (2107, 2113), (1991, 1993), (2099, 2102), (2100, 2101), (2110, 2111), (1997, 1999), (1992, 1994), (2106, 2107), (2098, 2103), (2101, 2102), (2102, 2103), (2097, 2098), (2099, 2104), (2100, 2103), (1998, 2000), (2096, 2099), (2106, 2109), (2105, 2111), (2107, 2108), (2097, 2100), (2108, 2109), (1995, 1997), (2096, 2101), (2106, 2111), (2105, 2113), (2107, 2110), (2109, 2113), (2097, 2102), (90, 91), (2108, 2111), (1995, 1999), (1996, 1998), (2105, 2106), (2096, 2103), (2098, 2100), (2106, 2113), (2107, 2112), (1991, 1992), (2111, 2112), (2097, 2104), (1997, 1998), (1996, 2000), (2110, 2113), (2105, 2108), (1993, 1994), (2098, 2102), (1991, 1994), (2101, 2104), (2112, 2113), (2100, 2102), (1998, 1999), (2096, 2098), (2105, 2110), (2098, 2104), (2109, 2110), (2102, 2104), (1995, 1996), (2096, 2100), (2105, 2112), (2107, 2109), (2109, 2112), (1996, 1997), (2099, 2101), (2116, 2117), (2108, 2113), (2096, 2102), (1992, 1993), (1996, 1999), (2099, 2103), (2110, 2112), (1997, 2000), (2105, 2107), (2106, 2108), (2101, 2103), (2111, 2113), (1999, 2000)}\n",
      "  warnings.warn(\n"
     ]
    },
    {
     "data": {
      "text/plain": [
       "0     2116    MULTILINESTRING ((-13082865.838 3420430.714, -...\n",
       "      2117    MULTILINESTRING ((-13082865.838 3420430.714, -...\n",
       "      1988    MULTILINESTRING ((-13090263.261 3468099.662, -...\n",
       "      2034    MULTILINESTRING ((-13010961.386 3413141.451, -...\n",
       "      2036    MULTILINESTRING ((-13068011.278 3323866.853, -...\n",
       "                                    ...                        \n",
       "2113  2114    MULTILINESTRING ((-13219616.629 3342923.944, -...\n",
       "2114  2115    MULTILINESTRING ((-13272798.512 3301245.560, -...\n",
       "      2116    MULTILINESTRING ((-13200555.513 3392428.958, -...\n",
       "      2117    MULTILINESTRING ((-13200555.513 3392428.958, -...\n",
       "2116  2117    POLYGON ((-13072265.730 3306634.463, -13072265...\n",
       "Length: 5688, dtype: geometry"
      ]
     },
     "execution_count": 34,
     "metadata": {},
     "output_type": "execute_result"
    }
   ],
   "source": [
    "nv_prec_adj = maup.adjacencies(nv_precinct_level_data)\n",
    "nv_prec_adj"
   ]
  },
  {
   "cell_type": "markdown",
   "id": "ed2872b2-910f-42a1-9d8e-273bad5c36fd",
   "metadata": {},
   "source": [
    "### Cleaning the district-level"
   ]
  },
  {
   "cell_type": "code",
   "execution_count": 35,
   "id": "8386893b-4e66-4ac7-805c-4b29b4ffb2ce",
   "metadata": {
    "ExecuteTime": {
     "end_time": "2024-05-07T02:15:25.686689Z",
     "start_time": "2024-05-07T02:15:25.683409Z"
    }
   },
   "outputs": [],
   "source": [
    "nv_district_df.drop(['ADJPOP', 'TAWHITEALN', 'TABLACKCMB', 'TAAIANCMB',\n",
    "       'TAASIANCMB', 'TANHOPICMB', 'TAOTHERALN', 'TA2RACE', 'TAHISPANIC',\n",
    "       'VAPERSONS', 'TOTVOTER20', 'DEMVOTER20', 'REPVOTER20', 'NPVOTER20',\n",
    "       'OTHVOTER20', 'PRES20_TOT', 'PRES20_DEM', 'PRES20_REP', 'PRES20_OTH',\n",
    "       'AG18_TOTAL', 'AG18_DEM', 'AG18_REP', 'AG18_OTH', 'SOS18_TOTA',\n",
    "       'SOS18_DEM', 'SOS18_REP', 'SOS18_OTH', 'PRES16_TOT', 'PRES16_DEM',\n",
    "       'PRES16_REP', 'PRES16_OTH'], inplace=True, axis=1)"
   ]
  },
  {
   "cell_type": "code",
   "execution_count": 36,
   "id": "8d8fbf6d-5097-4120-9869-0ee5d9ad47d4",
   "metadata": {
    "ExecuteTime": {
     "end_time": "2024-05-07T02:15:28.728141Z",
     "start_time": "2024-05-07T02:15:28.600757Z"
    },
    "scrolled": true
   },
   "outputs": [
    {
     "data": {
      "text/html": [
       "<div>\n",
       "<style scoped>\n",
       "    .dataframe tbody tr th:only-of-type {\n",
       "        vertical-align: middle;\n",
       "    }\n",
       "\n",
       "    .dataframe tbody tr th {\n",
       "        vertical-align: top;\n",
       "    }\n",
       "\n",
       "    .dataframe thead th {\n",
       "        text-align: right;\n",
       "    }\n",
       "</style>\n",
       "<table border=\"1\" class=\"dataframe\">\n",
       "  <thead>\n",
       "    <tr style=\"text-align: right;\">\n",
       "      <th></th>\n",
       "      <th>DISTRICTNO</th>\n",
       "      <th>geometry</th>\n",
       "    </tr>\n",
       "  </thead>\n",
       "  <tbody>\n",
       "    <tr>\n",
       "      <th>0</th>\n",
       "      <td>1.0</td>\n",
       "      <td>POLYGON ((-12663960.761 1628120.510, -12663822...</td>\n",
       "    </tr>\n",
       "    <tr>\n",
       "      <th>1</th>\n",
       "      <td>2.0</td>\n",
       "      <td>POLYGON ((-12743582.415 1586031.647, -12743130...</td>\n",
       "    </tr>\n",
       "    <tr>\n",
       "      <th>2</th>\n",
       "      <td>3.0</td>\n",
       "      <td>POLYGON ((-12699574.188 1601093.523, -12699423...</td>\n",
       "    </tr>\n",
       "    <tr>\n",
       "      <th>3</th>\n",
       "      <td>4.0</td>\n",
       "      <td>POLYGON ((-12711060.964 1619981.583, -12710861...</td>\n",
       "    </tr>\n",
       "    <tr>\n",
       "      <th>4</th>\n",
       "      <td>5.0</td>\n",
       "      <td>POLYGON ((-12728714.738 1576191.521, -12728607...</td>\n",
       "    </tr>\n",
       "    <tr>\n",
       "      <th>5</th>\n",
       "      <td>6.0</td>\n",
       "      <td>POLYGON ((-12683909.699 1580156.286, -12683885...</td>\n",
       "    </tr>\n",
       "    <tr>\n",
       "      <th>6</th>\n",
       "      <td>7.0</td>\n",
       "      <td>POLYGON ((-12684929.242 1588830.120, -12684859...</td>\n",
       "    </tr>\n",
       "    <tr>\n",
       "      <th>7</th>\n",
       "      <td>8.0</td>\n",
       "      <td>POLYGON ((-12737472.970 1534352.800, -12735772...</td>\n",
       "    </tr>\n",
       "    <tr>\n",
       "      <th>8</th>\n",
       "      <td>9.0</td>\n",
       "      <td>POLYGON ((-12752851.470 1559729.249, -12750721...</td>\n",
       "    </tr>\n",
       "    <tr>\n",
       "      <th>9</th>\n",
       "      <td>10.0</td>\n",
       "      <td>POLYGON ((-12714862.966 1568358.656, -12713506...</td>\n",
       "    </tr>\n",
       "    <tr>\n",
       "      <th>10</th>\n",
       "      <td>11.0</td>\n",
       "      <td>POLYGON ((-12682147.924 1549798.180, -12682135...</td>\n",
       "    </tr>\n",
       "    <tr>\n",
       "      <th>11</th>\n",
       "      <td>12.0</td>\n",
       "      <td>POLYGON ((-12650947.316 1530799.417, -12650855...</td>\n",
       "    </tr>\n",
       "    <tr>\n",
       "      <th>12</th>\n",
       "      <td>13.0</td>\n",
       "      <td>POLYGON ((-12698771.347 1628261.039, -12698355...</td>\n",
       "    </tr>\n",
       "    <tr>\n",
       "      <th>13</th>\n",
       "      <td>14.0</td>\n",
       "      <td>POLYGON ((-12668158.247 1540861.219, -12668117...</td>\n",
       "    </tr>\n",
       "    <tr>\n",
       "      <th>14</th>\n",
       "      <td>15.0</td>\n",
       "      <td>POLYGON ((-12703031.759 1543715.161, -12702563...</td>\n",
       "    </tr>\n",
       "    <tr>\n",
       "      <th>15</th>\n",
       "      <td>16.0</td>\n",
       "      <td>POLYGON ((-12720506.547 1537966.006, -12720229...</td>\n",
       "    </tr>\n",
       "    <tr>\n",
       "      <th>16</th>\n",
       "      <td>17.0</td>\n",
       "      <td>POLYGON ((-12651722.876 1594704.141, -12651645...</td>\n",
       "    </tr>\n",
       "    <tr>\n",
       "      <th>17</th>\n",
       "      <td>18.0</td>\n",
       "      <td>POLYGON ((-12671933.813 1514488.549, -12671809...</td>\n",
       "    </tr>\n",
       "    <tr>\n",
       "      <th>18</th>\n",
       "      <td>19.0</td>\n",
       "      <td>POLYGON ((-12652818.962 1605639.380, -12652290...</td>\n",
       "    </tr>\n",
       "    <tr>\n",
       "      <th>19</th>\n",
       "      <td>20.0</td>\n",
       "      <td>POLYGON ((-12683134.819 1528035.511, -12683115...</td>\n",
       "    </tr>\n",
       "    <tr>\n",
       "      <th>20</th>\n",
       "      <td>21.0</td>\n",
       "      <td>POLYGON ((-12696267.653 1506582.594, -12696153...</td>\n",
       "    </tr>\n",
       "    <tr>\n",
       "      <th>21</th>\n",
       "      <td>22.0</td>\n",
       "      <td>POLYGON ((-12699158.304 1485682.893, -12699025...</td>\n",
       "    </tr>\n",
       "    <tr>\n",
       "      <th>22</th>\n",
       "      <td>23.0</td>\n",
       "      <td>POLYGON ((-12868439.354 1367431.723, -12866018...</td>\n",
       "    </tr>\n",
       "    <tr>\n",
       "      <th>23</th>\n",
       "      <td>24.0</td>\n",
       "      <td>POLYGON ((-13261116.546 3685496.490, -13261093...</td>\n",
       "    </tr>\n",
       "    <tr>\n",
       "      <th>24</th>\n",
       "      <td>25.0</td>\n",
       "      <td>POLYGON ((-13307349.153 3705842.549, -13307226...</td>\n",
       "    </tr>\n",
       "    <tr>\n",
       "      <th>25</th>\n",
       "      <td>26.0</td>\n",
       "      <td>POLYGON ((-13377344.413 3627976.485, -13376075...</td>\n",
       "    </tr>\n",
       "    <tr>\n",
       "      <th>26</th>\n",
       "      <td>27.0</td>\n",
       "      <td>POLYGON ((-13261918.858 3736659.859, -13261060...</td>\n",
       "    </tr>\n",
       "    <tr>\n",
       "      <th>27</th>\n",
       "      <td>28.0</td>\n",
       "      <td>POLYGON ((-12652544.958 1559043.744, -12651950...</td>\n",
       "    </tr>\n",
       "    <tr>\n",
       "      <th>28</th>\n",
       "      <td>29.0</td>\n",
       "      <td>POLYGON ((-12676402.302 1506352.240, -12676354...</td>\n",
       "    </tr>\n",
       "    <tr>\n",
       "      <th>29</th>\n",
       "      <td>30.0</td>\n",
       "      <td>POLYGON ((-13244633.466 3689592.302, -13244234...</td>\n",
       "    </tr>\n",
       "    <tr>\n",
       "      <th>30</th>\n",
       "      <td>31.0</td>\n",
       "      <td>POLYGON ((-13247015.308 3732078.983, -13246971...</td>\n",
       "    </tr>\n",
       "    <tr>\n",
       "      <th>31</th>\n",
       "      <td>32.0</td>\n",
       "      <td>POLYGON ((-13304116.705 3727113.126, -13300123...</td>\n",
       "    </tr>\n",
       "    <tr>\n",
       "      <th>32</th>\n",
       "      <td>33.0</td>\n",
       "      <td>POLYGON ((-12874270.595 2640834.938, -12874155...</td>\n",
       "    </tr>\n",
       "    <tr>\n",
       "      <th>33</th>\n",
       "      <td>34.0</td>\n",
       "      <td>POLYGON ((-12723621.951 1590801.617, -12723599...</td>\n",
       "    </tr>\n",
       "    <tr>\n",
       "      <th>34</th>\n",
       "      <td>35.0</td>\n",
       "      <td>POLYGON ((-12759493.945 1521936.957, -12759437...</td>\n",
       "    </tr>\n",
       "    <tr>\n",
       "      <th>35</th>\n",
       "      <td>36.0</td>\n",
       "      <td>POLYGON ((-12984612.699 1762807.285, -12983046...</td>\n",
       "    </tr>\n",
       "    <tr>\n",
       "      <th>36</th>\n",
       "      <td>37.0</td>\n",
       "      <td>POLYGON ((-12725358.882 1605090.942, -12724514...</td>\n",
       "    </tr>\n",
       "    <tr>\n",
       "      <th>37</th>\n",
       "      <td>38.0</td>\n",
       "      <td>POLYGON ((-13186312.034 3558309.698, -13186298...</td>\n",
       "    </tr>\n",
       "    <tr>\n",
       "      <th>38</th>\n",
       "      <td>39.0</td>\n",
       "      <td>POLYGON ((-13430074.879 3456118.011, -13430126...</td>\n",
       "    </tr>\n",
       "    <tr>\n",
       "      <th>39</th>\n",
       "      <td>40.0</td>\n",
       "      <td>POLYGON ((-13404675.663 3588519.222, -13403799...</td>\n",
       "    </tr>\n",
       "    <tr>\n",
       "      <th>40</th>\n",
       "      <td>41.0</td>\n",
       "      <td>POLYGON ((-12729392.382 1477596.676, -12729276...</td>\n",
       "    </tr>\n",
       "    <tr>\n",
       "      <th>41</th>\n",
       "      <td>42.0</td>\n",
       "      <td>POLYGON ((-12739357.721 1537448.039, -12739216...</td>\n",
       "    </tr>\n",
       "  </tbody>\n",
       "</table>\n",
       "</div>"
      ],
      "text/plain": [
       "    DISTRICTNO                                           geometry\n",
       "0          1.0  POLYGON ((-12663960.761 1628120.510, -12663822...\n",
       "1          2.0  POLYGON ((-12743582.415 1586031.647, -12743130...\n",
       "2          3.0  POLYGON ((-12699574.188 1601093.523, -12699423...\n",
       "3          4.0  POLYGON ((-12711060.964 1619981.583, -12710861...\n",
       "4          5.0  POLYGON ((-12728714.738 1576191.521, -12728607...\n",
       "5          6.0  POLYGON ((-12683909.699 1580156.286, -12683885...\n",
       "6          7.0  POLYGON ((-12684929.242 1588830.120, -12684859...\n",
       "7          8.0  POLYGON ((-12737472.970 1534352.800, -12735772...\n",
       "8          9.0  POLYGON ((-12752851.470 1559729.249, -12750721...\n",
       "9         10.0  POLYGON ((-12714862.966 1568358.656, -12713506...\n",
       "10        11.0  POLYGON ((-12682147.924 1549798.180, -12682135...\n",
       "11        12.0  POLYGON ((-12650947.316 1530799.417, -12650855...\n",
       "12        13.0  POLYGON ((-12698771.347 1628261.039, -12698355...\n",
       "13        14.0  POLYGON ((-12668158.247 1540861.219, -12668117...\n",
       "14        15.0  POLYGON ((-12703031.759 1543715.161, -12702563...\n",
       "15        16.0  POLYGON ((-12720506.547 1537966.006, -12720229...\n",
       "16        17.0  POLYGON ((-12651722.876 1594704.141, -12651645...\n",
       "17        18.0  POLYGON ((-12671933.813 1514488.549, -12671809...\n",
       "18        19.0  POLYGON ((-12652818.962 1605639.380, -12652290...\n",
       "19        20.0  POLYGON ((-12683134.819 1528035.511, -12683115...\n",
       "20        21.0  POLYGON ((-12696267.653 1506582.594, -12696153...\n",
       "21        22.0  POLYGON ((-12699158.304 1485682.893, -12699025...\n",
       "22        23.0  POLYGON ((-12868439.354 1367431.723, -12866018...\n",
       "23        24.0  POLYGON ((-13261116.546 3685496.490, -13261093...\n",
       "24        25.0  POLYGON ((-13307349.153 3705842.549, -13307226...\n",
       "25        26.0  POLYGON ((-13377344.413 3627976.485, -13376075...\n",
       "26        27.0  POLYGON ((-13261918.858 3736659.859, -13261060...\n",
       "27        28.0  POLYGON ((-12652544.958 1559043.744, -12651950...\n",
       "28        29.0  POLYGON ((-12676402.302 1506352.240, -12676354...\n",
       "29        30.0  POLYGON ((-13244633.466 3689592.302, -13244234...\n",
       "30        31.0  POLYGON ((-13247015.308 3732078.983, -13246971...\n",
       "31        32.0  POLYGON ((-13304116.705 3727113.126, -13300123...\n",
       "32        33.0  POLYGON ((-12874270.595 2640834.938, -12874155...\n",
       "33        34.0  POLYGON ((-12723621.951 1590801.617, -12723599...\n",
       "34        35.0  POLYGON ((-12759493.945 1521936.957, -12759437...\n",
       "35        36.0  POLYGON ((-12984612.699 1762807.285, -12983046...\n",
       "36        37.0  POLYGON ((-12725358.882 1605090.942, -12724514...\n",
       "37        38.0  POLYGON ((-13186312.034 3558309.698, -13186298...\n",
       "38        39.0  POLYGON ((-13430074.879 3456118.011, -13430126...\n",
       "39        40.0  POLYGON ((-13404675.663 3588519.222, -13403799...\n",
       "40        41.0  POLYGON ((-12729392.382 1477596.676, -12729276...\n",
       "41        42.0  POLYGON ((-12739357.721 1537448.039, -12739216..."
      ]
     },
     "execution_count": 36,
     "metadata": {},
     "output_type": "execute_result"
    }
   ],
   "source": [
    "to_math_crs(nv_district_df)"
   ]
  },
  {
   "cell_type": "code",
   "execution_count": 37,
   "id": "3b2e134b-b909-4812-af70-e1db8d2b2bde",
   "metadata": {
    "ExecuteTime": {
     "end_time": "2024-05-07T02:15:30.354944Z",
     "start_time": "2024-05-07T02:15:30.343811Z"
    }
   },
   "outputs": [
    {
     "data": {
      "text/plain": [
       "0    37\n",
       "1    37\n",
       "2    37\n",
       "3    37\n",
       "4    37\n",
       "dtype: int64"
      ]
     },
     "execution_count": 37,
     "metadata": {},
     "output_type": "execute_result"
    }
   ],
   "source": [
    "precinct_to_district_assignment = maup.assign(nv_precinct_level_data, nv_district_df)\n",
    "# Add the assigned districts as a column of the `precincts` GeoDataFrame:\n",
    "nv_precinct_level_data[\"districtNum\"] = precinct_to_district_assignment\n",
    "precinct_to_district_assignment.head()"
   ]
  },
  {
   "cell_type": "code",
   "execution_count": 38,
   "id": "7299f737-2460-4eb8-9b85-12e89c0029c3",
   "metadata": {},
   "outputs": [],
   "source": [
    "nv_district_variables = ['PRE20D', 'PRE20R', 'USS22D', 'USS22R', 'vap', 'wvap', 'bvap', 'asianvap', 'hvap']\n",
    "variable_grouping(assignment_data=precinct_to_district_assignment,\n",
    "                  block_data=nv_precinct_level_data, \n",
    "                  precinct_data=nv_district_df,\n",
    "                  variables=nv_district_variables)\n",
    "\n",
    "nv_district_df[pct_votes] = (nv_district_df[['wvap', 'bvap', 'asianvap', 'hvap']].div(nv_district_df['vap'], axis=0)).astype(float)\n",
    "nv_district_df['state'] = 'Nevada'\n",
    "nv_district_df = nv_district_df.assign(\n",
    "                             pct_rep=lambda row: (row['PRE20R'] / (row['PRE20R'] + row['PRE20D'])).astype(float),\n",
    "                             pct_dem=lambda row: (row['PRE20D'] / (row['PRE20R'] + row['PRE20D'])).astype(float))"
   ]
  },
  {
   "cell_type": "code",
   "execution_count": 39,
   "id": "e50a726e-8359-4a51-a196-3ab10278c998",
   "metadata": {},
   "outputs": [
    {
     "data": {
      "text/plain": [
       "Index(['DISTRICTNO', 'geometry', 'PRE20D', 'PRE20R', 'USS22D', 'USS22R', 'vap',\n",
       "       'wvap', 'bvap', 'asianvap', 'hvap', 'pct_wvap', 'pct_bvap',\n",
       "       'pct_asianvap', 'pct_hvap', 'state', 'pct_rep', 'pct_dem'],\n",
       "      dtype='object')"
      ]
     },
     "execution_count": 39,
     "metadata": {},
     "output_type": "execute_result"
    }
   ],
   "source": [
    "nv_district_df.columns"
   ]
  },
  {
   "cell_type": "code",
   "execution_count": 40,
   "id": "aaebbade-65f9-45b9-9784-60caa6a8ecc1",
   "metadata": {},
   "outputs": [],
   "source": [
    "district_column_names = {\n",
    "    'DISTRICTNO': 'districtNum'\n",
    "}\n",
    "\n",
    "rename_columns(dataframe=nv_district_df, columns_map=district_column_names)"
   ]
  },
  {
   "cell_type": "code",
   "execution_count": 41,
   "id": "70ac1902-a7db-4e86-97ee-012af7812dce",
   "metadata": {},
   "outputs": [],
   "source": [
    "for column in pct_votes:\n",
    "    nv_district_df[column] = nv_district_df[column].astype(float)\n",
    "for column in ['pct_rep', 'pct_dem']:\n",
    "    nv_district_df[column] = nv_district_df[column].astype(float)"
   ]
  },
  {
   "cell_type": "code",
   "execution_count": 42,
   "id": "3ba04071-d73e-4289-bda7-5df75050f5ac",
   "metadata": {},
   "outputs": [],
   "source": [
    "testing = nv_precinct_level_data.copy()"
   ]
  },
  {
   "cell_type": "code",
   "execution_count": 43,
   "id": "9abe5de7-fd3e-4eb5-9c71-a1c88e4bcdfc",
   "metadata": {},
   "outputs": [
    {
     "data": {
      "text/html": [
       "<div>\n",
       "<style scoped>\n",
       "    .dataframe tbody tr th:only-of-type {\n",
       "        vertical-align: middle;\n",
       "    }\n",
       "\n",
       "    .dataframe tbody tr th {\n",
       "        vertical-align: top;\n",
       "    }\n",
       "\n",
       "    .dataframe thead th {\n",
       "        text-align: right;\n",
       "    }\n",
       "</style>\n",
       "<table border=\"1\" class=\"dataframe\">\n",
       "  <thead>\n",
       "    <tr style=\"text-align: right;\">\n",
       "      <th></th>\n",
       "      <th>uniqueId</th>\n",
       "      <th>state</th>\n",
       "      <th>PRE20D</th>\n",
       "      <th>PRE20R</th>\n",
       "      <th>USS22D</th>\n",
       "      <th>USS22R</th>\n",
       "      <th>pct_bid</th>\n",
       "      <th>pct_tru</th>\n",
       "      <th>pct_cor</th>\n",
       "      <th>pct_lax</th>\n",
       "      <th>...</th>\n",
       "      <th>wvap</th>\n",
       "      <th>bvap</th>\n",
       "      <th>asianvap</th>\n",
       "      <th>hvap</th>\n",
       "      <th>pct_wvap</th>\n",
       "      <th>pct_bvap</th>\n",
       "      <th>pct_asianvap</th>\n",
       "      <th>pct_hvap</th>\n",
       "      <th>geometry</th>\n",
       "      <th>districtNum</th>\n",
       "    </tr>\n",
       "  </thead>\n",
       "  <tbody>\n",
       "    <tr>\n",
       "      <th>0</th>\n",
       "      <td>Churchill-14</td>\n",
       "      <td>Nevada</td>\n",
       "      <td>100.0</td>\n",
       "      <td>500.0</td>\n",
       "      <td>89</td>\n",
       "      <td>398</td>\n",
       "      <td>0.166667</td>\n",
       "      <td>0.833333</td>\n",
       "      <td>0.182752</td>\n",
       "      <td>0.817248</td>\n",
       "      <td>...</td>\n",
       "      <td>1087</td>\n",
       "      <td>4</td>\n",
       "      <td>13</td>\n",
       "      <td>144</td>\n",
       "      <td>0.816066</td>\n",
       "      <td>0.003003</td>\n",
       "      <td>0.009760</td>\n",
       "      <td>0.108108</td>\n",
       "      <td>POLYGON ((335142.709 4343785.533, 335149.249 4...</td>\n",
       "      <td>37</td>\n",
       "    </tr>\n",
       "    <tr>\n",
       "      <th>1</th>\n",
       "      <td>Churchill-19</td>\n",
       "      <td>Nevada</td>\n",
       "      <td>117.0</td>\n",
       "      <td>504.0</td>\n",
       "      <td>99</td>\n",
       "      <td>375</td>\n",
       "      <td>0.188406</td>\n",
       "      <td>0.811594</td>\n",
       "      <td>0.208861</td>\n",
       "      <td>0.791139</td>\n",
       "      <td>...</td>\n",
       "      <td>609</td>\n",
       "      <td>6</td>\n",
       "      <td>6</td>\n",
       "      <td>83</td>\n",
       "      <td>0.799213</td>\n",
       "      <td>0.007874</td>\n",
       "      <td>0.007874</td>\n",
       "      <td>0.108924</td>\n",
       "      <td>POLYGON ((320386.119 4378922.928, 320386.120 4...</td>\n",
       "      <td>37</td>\n",
       "    </tr>\n",
       "    <tr>\n",
       "      <th>2</th>\n",
       "      <td>Esmeralda-1</td>\n",
       "      <td>Nevada</td>\n",
       "      <td>36.0</td>\n",
       "      <td>179.0</td>\n",
       "      <td>29</td>\n",
       "      <td>142</td>\n",
       "      <td>0.167442</td>\n",
       "      <td>0.832558</td>\n",
       "      <td>0.169591</td>\n",
       "      <td>0.830409</td>\n",
       "      <td>...</td>\n",
       "      <td>0</td>\n",
       "      <td>0</td>\n",
       "      <td>0</td>\n",
       "      <td>0</td>\n",
       "      <td>0.000000</td>\n",
       "      <td>0.000000</td>\n",
       "      <td>0.000000</td>\n",
       "      <td>0.000000</td>\n",
       "      <td>POLYGON ((462092.848 4182265.703, 462147.684 4...</td>\n",
       "      <td>37</td>\n",
       "    </tr>\n",
       "    <tr>\n",
       "      <th>3</th>\n",
       "      <td>Esmeralda-2</td>\n",
       "      <td>Nevada</td>\n",
       "      <td>4.0</td>\n",
       "      <td>42.0</td>\n",
       "      <td>4</td>\n",
       "      <td>32</td>\n",
       "      <td>0.086957</td>\n",
       "      <td>0.913043</td>\n",
       "      <td>0.111111</td>\n",
       "      <td>0.888889</td>\n",
       "      <td>...</td>\n",
       "      <td>449</td>\n",
       "      <td>1</td>\n",
       "      <td>4</td>\n",
       "      <td>108</td>\n",
       "      <td>0.753356</td>\n",
       "      <td>0.001678</td>\n",
       "      <td>0.006711</td>\n",
       "      <td>0.181208</td>\n",
       "      <td>POLYGON ((462147.684 4182318.485, 462092.848 4...</td>\n",
       "      <td>37</td>\n",
       "    </tr>\n",
       "    <tr>\n",
       "      <th>4</th>\n",
       "      <td>Esmeralda-3</td>\n",
       "      <td>Nevada</td>\n",
       "      <td>30.0</td>\n",
       "      <td>165.0</td>\n",
       "      <td>32</td>\n",
       "      <td>162</td>\n",
       "      <td>0.153846</td>\n",
       "      <td>0.846154</td>\n",
       "      <td>0.164948</td>\n",
       "      <td>0.835052</td>\n",
       "      <td>...</td>\n",
       "      <td>0</td>\n",
       "      <td>0</td>\n",
       "      <td>0</td>\n",
       "      <td>0</td>\n",
       "      <td>0.000000</td>\n",
       "      <td>0.000000</td>\n",
       "      <td>0.000000</td>\n",
       "      <td>0.000000</td>\n",
       "      <td>POLYGON ((432572.221 4156828.418, 432994.949 4...</td>\n",
       "      <td>37</td>\n",
       "    </tr>\n",
       "    <tr>\n",
       "      <th>...</th>\n",
       "      <td>...</td>\n",
       "      <td>...</td>\n",
       "      <td>...</td>\n",
       "      <td>...</td>\n",
       "      <td>...</td>\n",
       "      <td>...</td>\n",
       "      <td>...</td>\n",
       "      <td>...</td>\n",
       "      <td>...</td>\n",
       "      <td>...</td>\n",
       "      <td>...</td>\n",
       "      <td>...</td>\n",
       "      <td>...</td>\n",
       "      <td>...</td>\n",
       "      <td>...</td>\n",
       "      <td>...</td>\n",
       "      <td>...</td>\n",
       "      <td>...</td>\n",
       "      <td>...</td>\n",
       "      <td>...</td>\n",
       "      <td>...</td>\n",
       "    </tr>\n",
       "    <tr>\n",
       "      <th>2113</th>\n",
       "      <td>Lyon-1</td>\n",
       "      <td>Nevada</td>\n",
       "      <td>169.0</td>\n",
       "      <td>480.0</td>\n",
       "      <td>183</td>\n",
       "      <td>396</td>\n",
       "      <td>0.260401</td>\n",
       "      <td>0.739599</td>\n",
       "      <td>0.316062</td>\n",
       "      <td>0.683938</td>\n",
       "      <td>...</td>\n",
       "      <td>0</td>\n",
       "      <td>0</td>\n",
       "      <td>0</td>\n",
       "      <td>0</td>\n",
       "      <td>0.000000</td>\n",
       "      <td>0.000000</td>\n",
       "      <td>0.000000</td>\n",
       "      <td>0.000000</td>\n",
       "      <td>POLYGON ((320442.068 4314904.336, 320435.447 4...</td>\n",
       "      <td>37</td>\n",
       "    </tr>\n",
       "    <tr>\n",
       "      <th>2114</th>\n",
       "      <td>Lyon-6</td>\n",
       "      <td>Nevada</td>\n",
       "      <td>319.0</td>\n",
       "      <td>968.0</td>\n",
       "      <td>202</td>\n",
       "      <td>356</td>\n",
       "      <td>0.247863</td>\n",
       "      <td>0.752137</td>\n",
       "      <td>0.362007</td>\n",
       "      <td>0.637993</td>\n",
       "      <td>...</td>\n",
       "      <td>670</td>\n",
       "      <td>4</td>\n",
       "      <td>5</td>\n",
       "      <td>187</td>\n",
       "      <td>0.740331</td>\n",
       "      <td>0.004420</td>\n",
       "      <td>0.005525</td>\n",
       "      <td>0.206630</td>\n",
       "      <td>POLYGON ((333784.429 4264646.522, 333784.429 4...</td>\n",
       "      <td>37</td>\n",
       "    </tr>\n",
       "    <tr>\n",
       "      <th>2115</th>\n",
       "      <td>Lyon-8</td>\n",
       "      <td>Nevada</td>\n",
       "      <td>68.0</td>\n",
       "      <td>269.0</td>\n",
       "      <td>82</td>\n",
       "      <td>246</td>\n",
       "      <td>0.201780</td>\n",
       "      <td>0.798220</td>\n",
       "      <td>0.250000</td>\n",
       "      <td>0.750000</td>\n",
       "      <td>...</td>\n",
       "      <td>1303</td>\n",
       "      <td>11</td>\n",
       "      <td>9</td>\n",
       "      <td>360</td>\n",
       "      <td>0.733258</td>\n",
       "      <td>0.006190</td>\n",
       "      <td>0.005065</td>\n",
       "      <td>0.202589</td>\n",
       "      <td>POLYGON ((333784.429 4264646.522, 333781.694 4...</td>\n",
       "      <td>37</td>\n",
       "    </tr>\n",
       "    <tr>\n",
       "      <th>2116</th>\n",
       "      <td>Lyon-5</td>\n",
       "      <td>Nevada</td>\n",
       "      <td>15.0</td>\n",
       "      <td>28.0</td>\n",
       "      <td>148</td>\n",
       "      <td>336</td>\n",
       "      <td>0.348837</td>\n",
       "      <td>0.651163</td>\n",
       "      <td>0.305785</td>\n",
       "      <td>0.694215</td>\n",
       "      <td>...</td>\n",
       "      <td>1780</td>\n",
       "      <td>18</td>\n",
       "      <td>12</td>\n",
       "      <td>306</td>\n",
       "      <td>0.746331</td>\n",
       "      <td>0.007547</td>\n",
       "      <td>0.005031</td>\n",
       "      <td>0.128302</td>\n",
       "      <td>POLYGON ((348287.097 4326522.281, 348287.097 4...</td>\n",
       "      <td>37</td>\n",
       "    </tr>\n",
       "    <tr>\n",
       "      <th>2117</th>\n",
       "      <td>Lyon-5</td>\n",
       "      <td>Nevada</td>\n",
       "      <td>15.0</td>\n",
       "      <td>28.0</td>\n",
       "      <td>173</td>\n",
       "      <td>555</td>\n",
       "      <td>0.348837</td>\n",
       "      <td>0.651163</td>\n",
       "      <td>0.237637</td>\n",
       "      <td>0.762363</td>\n",
       "      <td>...</td>\n",
       "      <td>0</td>\n",
       "      <td>0</td>\n",
       "      <td>0</td>\n",
       "      <td>0</td>\n",
       "      <td>0.000000</td>\n",
       "      <td>0.000000</td>\n",
       "      <td>0.000000</td>\n",
       "      <td>0.000000</td>\n",
       "      <td>POLYGON ((348287.097 4326522.281, 348287.097 4...</td>\n",
       "      <td>37</td>\n",
       "    </tr>\n",
       "  </tbody>\n",
       "</table>\n",
       "<p>2118 rows × 21 columns</p>\n",
       "</div>"
      ],
      "text/plain": [
       "          uniqueId   state  PRE20D  PRE20R  USS22D  USS22R   pct_bid  \\\n",
       "0     Churchill-14  Nevada   100.0   500.0      89     398  0.166667   \n",
       "1     Churchill-19  Nevada   117.0   504.0      99     375  0.188406   \n",
       "2      Esmeralda-1  Nevada    36.0   179.0      29     142  0.167442   \n",
       "3      Esmeralda-2  Nevada     4.0    42.0       4      32  0.086957   \n",
       "4      Esmeralda-3  Nevada    30.0   165.0      32     162  0.153846   \n",
       "...            ...     ...     ...     ...     ...     ...       ...   \n",
       "2113        Lyon-1  Nevada   169.0   480.0     183     396  0.260401   \n",
       "2114        Lyon-6  Nevada   319.0   968.0     202     356  0.247863   \n",
       "2115        Lyon-8  Nevada    68.0   269.0      82     246  0.201780   \n",
       "2116        Lyon-5  Nevada    15.0    28.0     148     336  0.348837   \n",
       "2117        Lyon-5  Nevada    15.0    28.0     173     555  0.348837   \n",
       "\n",
       "       pct_tru   pct_cor   pct_lax  ...  wvap  bvap  asianvap  hvap  pct_wvap  \\\n",
       "0     0.833333  0.182752  0.817248  ...  1087     4        13   144  0.816066   \n",
       "1     0.811594  0.208861  0.791139  ...   609     6         6    83  0.799213   \n",
       "2     0.832558  0.169591  0.830409  ...     0     0         0     0  0.000000   \n",
       "3     0.913043  0.111111  0.888889  ...   449     1         4   108  0.753356   \n",
       "4     0.846154  0.164948  0.835052  ...     0     0         0     0  0.000000   \n",
       "...        ...       ...       ...  ...   ...   ...       ...   ...       ...   \n",
       "2113  0.739599  0.316062  0.683938  ...     0     0         0     0  0.000000   \n",
       "2114  0.752137  0.362007  0.637993  ...   670     4         5   187  0.740331   \n",
       "2115  0.798220  0.250000  0.750000  ...  1303    11         9   360  0.733258   \n",
       "2116  0.651163  0.305785  0.694215  ...  1780    18        12   306  0.746331   \n",
       "2117  0.651163  0.237637  0.762363  ...     0     0         0     0  0.000000   \n",
       "\n",
       "      pct_bvap  pct_asianvap  pct_hvap  \\\n",
       "0     0.003003      0.009760  0.108108   \n",
       "1     0.007874      0.007874  0.108924   \n",
       "2     0.000000      0.000000  0.000000   \n",
       "3     0.001678      0.006711  0.181208   \n",
       "4     0.000000      0.000000  0.000000   \n",
       "...        ...           ...       ...   \n",
       "2113  0.000000      0.000000  0.000000   \n",
       "2114  0.004420      0.005525  0.206630   \n",
       "2115  0.006190      0.005065  0.202589   \n",
       "2116  0.007547      0.005031  0.128302   \n",
       "2117  0.000000      0.000000  0.000000   \n",
       "\n",
       "                                               geometry districtNum  \n",
       "0     POLYGON ((335142.709 4343785.533, 335149.249 4...          37  \n",
       "1     POLYGON ((320386.119 4378922.928, 320386.120 4...          37  \n",
       "2     POLYGON ((462092.848 4182265.703, 462147.684 4...          37  \n",
       "3     POLYGON ((462147.684 4182318.485, 462092.848 4...          37  \n",
       "4     POLYGON ((432572.221 4156828.418, 432994.949 4...          37  \n",
       "...                                                 ...         ...  \n",
       "2113  POLYGON ((320442.068 4314904.336, 320435.447 4...          37  \n",
       "2114  POLYGON ((333784.429 4264646.522, 333784.429 4...          37  \n",
       "2115  POLYGON ((333784.429 4264646.522, 333781.694 4...          37  \n",
       "2116  POLYGON ((348287.097 4326522.281, 348287.097 4...          37  \n",
       "2117  POLYGON ((348287.097 4326522.281, 348287.097 4...          37  \n",
       "\n",
       "[2118 rows x 21 columns]"
      ]
     },
     "execution_count": 43,
     "metadata": {},
     "output_type": "execute_result"
    }
   ],
   "source": [
    "to_math_crs(testing, testing.estimate_utm_crs())"
   ]
  },
  {
   "cell_type": "code",
   "execution_count": 1182,
   "id": "14d140e4-404f-40a5-b046-09de42dbb523",
   "metadata": {
    "scrolled": true
   },
   "outputs": [
    {
     "name": "stdout",
     "output_type": "stream",
     "text": [
      "Snapping all geometries to a grid with precision 10^( -4 ) to avoid GEOS errors.\n",
      "Identifying overlaps...\n",
      "Resolving overlaps...\n",
      "Assigning order 2 pieces...\n",
      "Couldn't find a polygon to glue a component in the intersection of geometries {2116, 2117} to\n",
      "Couldn't find a polygon to glue a component in the intersection of geometries {90, 91} to\n",
      "Assigning order 3 pieces...\n",
      "Assigning order 4 pieces...\n",
      "Couldn't find a polygon to glue a component in the intersection of geometries {1992, 1993, 1994, 1991} to\n",
      "Assigning order 5 pieces...\n",
      "Assigning order 6 pieces...\n",
      "Couldn't find a polygon to glue a component in the intersection of geometries {2000, 1995, 1996, 1997, 1998, 1999} to\n",
      "Assigning order 7 pieces...\n",
      "Assigning order 8 pieces...\n",
      "Assigning order 9 pieces...\n",
      "Couldn't find a polygon to glue a component in the intersection of geometries {2096, 2097, 2098, 2099, 2100, 2101, 2102, 2103, 2104} to\n",
      "Couldn't find a polygon to glue a component in the intersection of geometries {2112, 2113, 2105, 2106, 2107, 2108, 2109, 2110, 2111} to\n",
      "Filling gaps...\n"
     ]
    },
    {
     "name": "stderr",
     "output_type": "stream",
     "text": [
      "Gaps to simplify: 0it [00:00, ?it/s]\n",
      "Gaps to fill: 0it [00:00, ?it/s]\n"
     ]
    }
   ],
   "source": [
    "testing_repaired = maup.smart_repair(testing)"
   ]
  },
  {
   "cell_type": "code",
   "execution_count": 1183,
   "id": "e487fef2-e084-4be7-80f0-d1e75b404176",
   "metadata": {},
   "outputs": [
    {
     "name": "stdout",
     "output_type": "stream",
     "text": [
      "There are 2 holes.\n"
     ]
    },
    {
     "data": {
      "text/plain": [
       "False"
      ]
     },
     "execution_count": 1183,
     "metadata": {},
     "output_type": "execute_result"
    }
   ],
   "source": [
    "maup.doctor(testing_repaired)"
   ]
  },
  {
   "cell_type": "code",
   "execution_count": 1184,
   "id": "d8f4f773-4610-47a2-9558-0c908f95a93c",
   "metadata": {},
   "outputs": [],
   "source": [
    "def close_holes(poly: Polygon) -> Polygon:\n",
    "        \"\"\"\n",
    "        Close polygon holes by limitation to the exterior ring.\n",
    "        Args:\n",
    "            poly: Input shapely Polygon\n",
    "        Example:\n",
    "            df.geometry.apply(lambda p: close_holes(p))\n",
    "        \"\"\"\n",
    "        if poly.interiors:\n",
    "            # return MultiPolygon(Polygon(p.exterior) for p in poly)\n",
    "            return Polygon(list(poly.exterior.coords))\n",
    "        else:\n",
    "            return poly\n",
    "\n",
    "def hole_func(poly: MultiPolygon):\n",
    "    # eps = 0.01\n",
    "    # omega = unary_union([\n",
    "    #     Polygon(component.exterior).buffer(eps).buffer(-eps) for component in poly.geoms\n",
    "    # ])\n",
    "    return MultiPolygon(Polygon(p.exterior) for p in poly.geoms)"
   ]
  },
  {
   "cell_type": "code",
   "execution_count": 1186,
   "id": "7f9c895f-9f76-4d11-9702-81b4694dfa79",
   "metadata": {},
   "outputs": [],
   "source": [
    "testing_repaired = testing_repaired.geometry.apply(lambda p: hole_func(p) if p.geom_type == 'MultiPolygon' else close_holes(p))\n",
    "# testing_repaired = testing_repaired.geometry.apply(lambda p: hole_func(p))"
   ]
  },
  {
   "cell_type": "code",
   "execution_count": 1187,
   "id": "ae5ddc07-3d85-46ce-87cf-94fa4943e623",
   "metadata": {},
   "outputs": [
    {
     "name": "stdout",
     "output_type": "stream",
     "text": [
      "There are 116 overlaps.\n",
      "There are 2 holes.\n"
     ]
    },
    {
     "data": {
      "text/plain": [
       "False"
      ]
     },
     "execution_count": 1187,
     "metadata": {},
     "output_type": "execute_result"
    }
   ],
   "source": [
    "maup.doctor(testing_repaired)"
   ]
  },
  {
   "cell_type": "code",
   "execution_count": 1188,
   "id": "02788fd2-9505-49ec-a2ff-1f4faaeffd8b",
   "metadata": {},
   "outputs": [
    {
     "data": {
      "text/plain": [
       "<Axes: >"
      ]
     },
     "execution_count": 1188,
     "metadata": {},
     "output_type": "execute_result"
    },
    {
     "data": {
      "image/png": "[encoded data removed]",
      "text/plain": [
       "<Figure size 640x480 with 1 Axes>"
      ]
     },
     "metadata": {},
     "output_type": "display_data"
    }
   ],
   "source": [
    "testing_repaired.plot()"
   ]
  },
  {
   "cell_type": "code",
   "execution_count": 1189,
   "id": "e88c7fb0-e9bf-48e1-9cb0-e79b5ef0b801",
   "metadata": {},
   "outputs": [
    {
     "name": "stdout",
     "output_type": "stream",
     "text": [
      "Snapping all geometries to a grid with precision 10^( -4 ) to avoid GEOS errors.\n",
      "Identifying overlaps...\n",
      "Resolving overlaps...\n",
      "Assigning order 2 pieces...\n",
      "2 gaps will remain unfilled, because they either are not simply connected or exceed the area threshold.\n",
      "Filling gaps...\n"
     ]
    },
    {
     "name": "stderr",
     "output_type": "stream",
     "text": [
      "Gaps to simplify: 0it [00:00, ?it/s]\n",
      "Gaps to fill: 0it [00:00, ?it/s]\n"
     ]
    }
   ],
   "source": [
    "testing_repaired2 = maup.smart_repair(testing_repaired)"
   ]
  },
  {
   "cell_type": "code",
   "execution_count": 1190,
   "id": "6262c677-e156-4216-b82a-a05e00925dd2",
   "metadata": {},
   "outputs": [
    {
     "name": "stdout",
     "output_type": "stream",
     "text": [
      "There are 2 holes.\n"
     ]
    },
    {
     "data": {
      "text/plain": [
       "False"
      ]
     },
     "execution_count": 1190,
     "metadata": {},
     "output_type": "execute_result"
    }
   ],
   "source": [
    "maup.doctor(testing_repaired2)"
   ]
  },
  {
   "cell_type": "code",
   "execution_count": 1194,
   "id": "f3d0d1ad-28c9-47c4-8cdf-2f901aaeda3f",
   "metadata": {},
   "outputs": [],
   "source": [
    "testing_repaired2 = testing_repaired2.geometry.apply(lambda p: hole_func(p) if p.geom_type == 'MultiPolygon' else close_holes(p))\n",
    "# testing_repaired = testing_repaired.geometry.apply(lambda p: hole_func(p))"
   ]
  },
  {
   "cell_type": "code",
   "execution_count": 1195,
   "id": "515b689f-49bb-413c-96b8-7d80da83c3e4",
   "metadata": {},
   "outputs": [
    {
     "name": "stdout",
     "output_type": "stream",
     "text": [
      "There are 2 holes.\n"
     ]
    },
    {
     "data": {
      "text/plain": [
       "False"
      ]
     },
     "execution_count": 1195,
     "metadata": {},
     "output_type": "execute_result"
    }
   ],
   "source": [
    "maup.doctor(testing_repaired2)"
   ]
  },
  {
   "cell_type": "code",
   "execution_count": 1196,
   "id": "9681da4d-ce99-4d3d-a02e-3a070fc15f8c",
   "metadata": {},
   "outputs": [
    {
     "data": {
      "text/plain": [
       "<Axes: >"
      ]
     },
     "execution_count": 1196,
     "metadata": {},
     "output_type": "execute_result"
    },
    {
     "data": {
      "image/png": "[encoded data removed]",
      "text/plain": [
       "<Figure size 640x480 with 1 Axes>"
      ]
     },
     "metadata": {},
     "output_type": "display_data"
    }
   ],
   "source": [
    "testing_repaired2.plot()"
   ]
  },
  {
   "cell_type": "code",
   "execution_count": 1192,
   "id": "66392cc9-db12-48a6-86a7-38f129af24fc",
   "metadata": {},
   "outputs": [
    {
     "name": "stdout",
     "output_type": "stream",
     "text": [
      "Snapping all geometries to a grid with precision 10^( -4 ) to avoid GEOS errors.\n",
      "Identifying overlaps...\n",
      "Resolving overlaps...\n",
      "2 gaps will remain unfilled, because they either are not simply connected or exceed the area threshold.\n",
      "Filling gaps...\n"
     ]
    },
    {
     "name": "stderr",
     "output_type": "stream",
     "text": [
      "Gaps to simplify: 0it [00:00, ?it/s]\n",
      "Gaps to fill: 0it [00:00, ?it/s]\n"
     ]
    }
   ],
   "source": [
    "testing_repaired3 = maup.smart_repair(testing_repaired2)"
   ]
  },
  {
   "cell_type": "code",
   "execution_count": 1075,
   "id": "4c4d8522-d09f-41f5-b525-abc29447a7b5",
   "metadata": {},
   "outputs": [
    {
     "name": "stderr",
     "output_type": "stream",
     "text": [
      "/var/folders/7j/y8hy2rmn39l7q9f22wdvf5rr0000gn/T/ipykernel_28828/3754758534.py:1: UserWarning: Column names longer than 10 characters will be truncated when saved to ESRI Shapefile.\n",
      "  nv_district_df.to_file('nv_district_final_data.shp')\n",
      "/var/folders/7j/y8hy2rmn39l7q9f22wdvf5rr0000gn/T/ipykernel_28828/3754758534.py:2: UserWarning: Column names longer than 10 characters will be truncated when saved to ESRI Shapefile.\n",
      "  nv_precinct_level_data.to_file('nv_precinct_final_data.shp')\n"
     ]
    }
   ],
   "source": [
    "# nv_district_df.to_file('nv_district_final_data.shp')\n",
    "# nv_precinct_level_data.to_file('nv_precinct_final_data.shp')"
   ]
  },
  {
   "cell_type": "code",
   "execution_count": null,
   "id": "7682a203-ae4b-44b9-8e73-c3574fecabdc",
   "metadata": {},
   "outputs": [],
   "source": [
    "to_world_crs(nv_district_df)\n",
    "to_world_crs(nv_precinct_level_data)"
   ]
  },
  {
   "cell_type": "code",
   "execution_count": null,
   "id": "b91a0fdf-56f2-455b-8550-33470b7d0d83",
   "metadata": {},
   "outputs": [],
   "source": [
    "simplify_geometry(nv_district_df)\n",
    "simplify_geometry(nv_precinct_level_data)"
   ]
  },
  {
   "cell_type": "code",
   "execution_count": null,
   "id": "b41fcccc-0e81-43f1-aea9-fc0f2c84ce27",
   "metadata": {
    "scrolled": true
   },
   "outputs": [],
   "source": [
    "geometry_to_wkt(nv_district_df)\n",
    "geometry_to_wkt(nv_precinct_level_data)"
   ]
  },
  {
   "cell_type": "markdown",
   "id": "b25391ca-66fa-4a11-a063-ed48a09ce8bf",
   "metadata": {},
   "source": [
    "### Exporting Files\n",
    "\n",
    "Before we export them we must simplifiy the geometry and turn them into WKT, we also format them into dictionaries to be sent to the database"
   ]
  },
  {
   "cell_type": "code",
   "execution_count": 974,
   "id": "79477064-b106-41eb-bffa-162ba65d26d3",
   "metadata": {},
   "outputs": [],
   "source": [
    "# nv_district_df.to_file('nv_district_final_data.shp')\n",
    "# nv_district_df.to_file('nv_district_final_data.geojson', driver='GeoJSON')\n",
    "nv_district_df.to_csv('nv_district_final_data.csv', index=False)"
   ]
  },
  {
   "cell_type": "code",
   "execution_count": 975,
   "id": "9036f3e2-2152-476d-b74a-59f8e50507e7",
   "metadata": {},
   "outputs": [],
   "source": [
    "# nv_precinct_level_data.to_file('nv_precinct_final_data.shp')\n",
    "# nv_precinct_level_data.to_file('nv_precinct_final_data.geojson', driver='GeoJSON')\n",
    "nv_precinct_level_data.to_csv('nv_precinct_final_data.csv', index=False)"
   ]
  },
  {
   "cell_type": "markdown",
   "id": "2b5b839d-ccf1-4cc4-80c7-fef32e7aa3cf",
   "metadata": {},
   "source": [
    "# Mississippi Preprocessing"
   ]
  },
  {
   "cell_type": "markdown",
   "id": "27f43123-2e66-49d8-b0c0-6844adb0c6a2",
   "metadata": {},
   "source": [
    "### Importing Block-level data\n",
    "\n",
    "This data includes the demographic values on a block level collected MGGG's Districtr website source, which was sourced via the US Census Bureau"
   ]
  },
  {
   "cell_type": "code",
   "execution_count": 983,
   "id": "9cd931ce-509a-4e20-8b06-bc3c4c6ff4f5",
   "metadata": {},
   "outputs": [],
   "source": [
    "ms_districtr_block_df = gpd.read_file('MS Data/districtr_ms_blockDemo/export-3230.shp')"
   ]
  },
  {
   "cell_type": "markdown",
   "id": "32dd2b5c-fd86-42a3-ba87-aca30d194b5b",
   "metadata": {},
   "source": [
    "Block-Level Demographic Data from [districtr](https://districtr.org/plan)"
   ]
  },
  {
   "cell_type": "code",
   "execution_count": 984,
   "id": "41c3d8e1-6de5-481f-a14d-6d883d103331",
   "metadata": {
    "scrolled": true
   },
   "outputs": [
    {
     "data": {
      "text/html": [
       "<div>\n",
       "<style scoped>\n",
       "    .dataframe tbody tr th:only-of-type {\n",
       "        vertical-align: middle;\n",
       "    }\n",
       "\n",
       "    .dataframe tbody tr th {\n",
       "        vertical-align: top;\n",
       "    }\n",
       "\n",
       "    .dataframe thead th {\n",
       "        text-align: right;\n",
       "    }\n",
       "</style>\n",
       "<table border=\"1\" class=\"dataframe\">\n",
       "  <thead>\n",
       "    <tr style=\"text-align: right;\">\n",
       "      <th></th>\n",
       "      <th>STATEFP20</th>\n",
       "      <th>COUNTYFP20</th>\n",
       "      <th>TRACTCE20</th>\n",
       "      <th>BLKGRPCE20</th>\n",
       "      <th>GEOID20</th>\n",
       "      <th>NAMELSAD20</th>\n",
       "      <th>MTFCC20</th>\n",
       "      <th>FUNCSTAT20</th>\n",
       "      <th>ALAND20</th>\n",
       "      <th>AWATER20</th>\n",
       "      <th>...</th>\n",
       "      <th>ASIANVAP</th>\n",
       "      <th>NHPIVAP</th>\n",
       "      <th>OTHERVAP</th>\n",
       "      <th>2MOREVAP</th>\n",
       "      <th>HVAP</th>\n",
       "      <th>LOGRECNO</th>\n",
       "      <th>GEOCODE</th>\n",
       "      <th>SUMLEV</th>\n",
       "      <th>districtr</th>\n",
       "      <th>geometry</th>\n",
       "    </tr>\n",
       "  </thead>\n",
       "  <tbody>\n",
       "    <tr>\n",
       "      <th>0</th>\n",
       "      <td>28</td>\n",
       "      <td>151</td>\n",
       "      <td>000300</td>\n",
       "      <td>3</td>\n",
       "      <td>281510003003</td>\n",
       "      <td>Block Group 3</td>\n",
       "      <td>G5030</td>\n",
       "      <td>S</td>\n",
       "      <td>2322883</td>\n",
       "      <td>0</td>\n",
       "      <td>...</td>\n",
       "      <td>0</td>\n",
       "      <td>0</td>\n",
       "      <td>0</td>\n",
       "      <td>6</td>\n",
       "      <td>3</td>\n",
       "      <td>3684</td>\n",
       "      <td>281510003003</td>\n",
       "      <td>150</td>\n",
       "      <td>-1</td>\n",
       "      <td>POLYGON ((-5511001.592 -2209698.629, -5510804....</td>\n",
       "    </tr>\n",
       "    <tr>\n",
       "      <th>1</th>\n",
       "      <td>28</td>\n",
       "      <td>151</td>\n",
       "      <td>001500</td>\n",
       "      <td>2</td>\n",
       "      <td>281510015002</td>\n",
       "      <td>Block Group 2</td>\n",
       "      <td>G5030</td>\n",
       "      <td>S</td>\n",
       "      <td>38328376</td>\n",
       "      <td>227053</td>\n",
       "      <td>...</td>\n",
       "      <td>7</td>\n",
       "      <td>0</td>\n",
       "      <td>0</td>\n",
       "      <td>13</td>\n",
       "      <td>13</td>\n",
       "      <td>3719</td>\n",
       "      <td>281510015002</td>\n",
       "      <td>150</td>\n",
       "      <td>-1</td>\n",
       "      <td>POLYGON ((-5546486.069 -2240332.909, -5546470....</td>\n",
       "    </tr>\n",
       "    <tr>\n",
       "      <th>2</th>\n",
       "      <td>28</td>\n",
       "      <td>151</td>\n",
       "      <td>000800</td>\n",
       "      <td>1</td>\n",
       "      <td>281510008001</td>\n",
       "      <td>Block Group 1</td>\n",
       "      <td>G5030</td>\n",
       "      <td>S</td>\n",
       "      <td>16951616</td>\n",
       "      <td>16692</td>\n",
       "      <td>...</td>\n",
       "      <td>14</td>\n",
       "      <td>0</td>\n",
       "      <td>0</td>\n",
       "      <td>22</td>\n",
       "      <td>11</td>\n",
       "      <td>3701</td>\n",
       "      <td>281510008001</td>\n",
       "      <td>150</td>\n",
       "      <td>-1</td>\n",
       "      <td>POLYGON ((-5536686.909 -2242928.386, -5536665....</td>\n",
       "    </tr>\n",
       "    <tr>\n",
       "      <th>3</th>\n",
       "      <td>28</td>\n",
       "      <td>151</td>\n",
       "      <td>001400</td>\n",
       "      <td>2</td>\n",
       "      <td>281510014002</td>\n",
       "      <td>Block Group 2</td>\n",
       "      <td>G5030</td>\n",
       "      <td>S</td>\n",
       "      <td>816612</td>\n",
       "      <td>0</td>\n",
       "      <td>...</td>\n",
       "      <td>0</td>\n",
       "      <td>0</td>\n",
       "      <td>0</td>\n",
       "      <td>4</td>\n",
       "      <td>1</td>\n",
       "      <td>3715</td>\n",
       "      <td>281510014002</td>\n",
       "      <td>150</td>\n",
       "      <td>-1</td>\n",
       "      <td>POLYGON ((-5508667.705 -2222065.234, -5508528....</td>\n",
       "    </tr>\n",
       "    <tr>\n",
       "      <th>4</th>\n",
       "      <td>28</td>\n",
       "      <td>151</td>\n",
       "      <td>000100</td>\n",
       "      <td>1</td>\n",
       "      <td>281510001001</td>\n",
       "      <td>Block Group 1</td>\n",
       "      <td>G5030</td>\n",
       "      <td>S</td>\n",
       "      <td>729919265</td>\n",
       "      <td>7673494</td>\n",
       "      <td>...</td>\n",
       "      <td>0</td>\n",
       "      <td>1</td>\n",
       "      <td>0</td>\n",
       "      <td>17</td>\n",
       "      <td>19</td>\n",
       "      <td>3678</td>\n",
       "      <td>281510001001</td>\n",
       "      <td>150</td>\n",
       "      <td>-1</td>\n",
       "      <td>POLYGON ((-5489943.210 -2206802.150, -5489779....</td>\n",
       "    </tr>\n",
       "    <tr>\n",
       "      <th>...</th>\n",
       "      <td>...</td>\n",
       "      <td>...</td>\n",
       "      <td>...</td>\n",
       "      <td>...</td>\n",
       "      <td>...</td>\n",
       "      <td>...</td>\n",
       "      <td>...</td>\n",
       "      <td>...</td>\n",
       "      <td>...</td>\n",
       "      <td>...</td>\n",
       "      <td>...</td>\n",
       "      <td>...</td>\n",
       "      <td>...</td>\n",
       "      <td>...</td>\n",
       "      <td>...</td>\n",
       "      <td>...</td>\n",
       "      <td>...</td>\n",
       "      <td>...</td>\n",
       "      <td>...</td>\n",
       "      <td>...</td>\n",
       "      <td>...</td>\n",
       "    </tr>\n",
       "    <tr>\n",
       "      <th>2440</th>\n",
       "      <td>28</td>\n",
       "      <td>023</td>\n",
       "      <td>950201</td>\n",
       "      <td>2</td>\n",
       "      <td>280239502012</td>\n",
       "      <td>Block Group 2</td>\n",
       "      <td>G5030</td>\n",
       "      <td>S</td>\n",
       "      <td>107308151</td>\n",
       "      <td>363431</td>\n",
       "      <td>...</td>\n",
       "      <td>0</td>\n",
       "      <td>1</td>\n",
       "      <td>4</td>\n",
       "      <td>30</td>\n",
       "      <td>6</td>\n",
       "      <td>1561</td>\n",
       "      <td>280239502012</td>\n",
       "      <td>150</td>\n",
       "      <td>-1</td>\n",
       "      <td>POLYGON ((-4922975.077 -2788058.383, -4922825....</td>\n",
       "    </tr>\n",
       "    <tr>\n",
       "      <th>2441</th>\n",
       "      <td>28</td>\n",
       "      <td>023</td>\n",
       "      <td>950201</td>\n",
       "      <td>1</td>\n",
       "      <td>280239502011</td>\n",
       "      <td>Block Group 1</td>\n",
       "      <td>G5030</td>\n",
       "      <td>S</td>\n",
       "      <td>79891973</td>\n",
       "      <td>366607</td>\n",
       "      <td>...</td>\n",
       "      <td>1</td>\n",
       "      <td>0</td>\n",
       "      <td>0</td>\n",
       "      <td>17</td>\n",
       "      <td>2</td>\n",
       "      <td>1560</td>\n",
       "      <td>280239502011</td>\n",
       "      <td>150</td>\n",
       "      <td>-1</td>\n",
       "      <td>POLYGON ((-4890956.464 -2797400.603, -4890947....</td>\n",
       "    </tr>\n",
       "    <tr>\n",
       "      <th>2442</th>\n",
       "      <td>28</td>\n",
       "      <td>023</td>\n",
       "      <td>950201</td>\n",
       "      <td>3</td>\n",
       "      <td>280239502013</td>\n",
       "      <td>Block Group 3</td>\n",
       "      <td>G5030</td>\n",
       "      <td>S</td>\n",
       "      <td>25890533</td>\n",
       "      <td>309692</td>\n",
       "      <td>...</td>\n",
       "      <td>0</td>\n",
       "      <td>0</td>\n",
       "      <td>2</td>\n",
       "      <td>14</td>\n",
       "      <td>7</td>\n",
       "      <td>1562</td>\n",
       "      <td>280239502013</td>\n",
       "      <td>150</td>\n",
       "      <td>-1</td>\n",
       "      <td>POLYGON ((-4901476.111 -2805535.039, -4901383....</td>\n",
       "    </tr>\n",
       "    <tr>\n",
       "      <th>2443</th>\n",
       "      <td>28</td>\n",
       "      <td>023</td>\n",
       "      <td>950202</td>\n",
       "      <td>1</td>\n",
       "      <td>280239502021</td>\n",
       "      <td>Block Group 1</td>\n",
       "      <td>G5030</td>\n",
       "      <td>S</td>\n",
       "      <td>34870139</td>\n",
       "      <td>625672</td>\n",
       "      <td>...</td>\n",
       "      <td>0</td>\n",
       "      <td>0</td>\n",
       "      <td>0</td>\n",
       "      <td>8</td>\n",
       "      <td>2</td>\n",
       "      <td>1563</td>\n",
       "      <td>280239502021</td>\n",
       "      <td>150</td>\n",
       "      <td>-1</td>\n",
       "      <td>POLYGON ((-4886610.436 -2822570.680, -4886598....</td>\n",
       "    </tr>\n",
       "    <tr>\n",
       "      <th>2444</th>\n",
       "      <td>28</td>\n",
       "      <td>023</td>\n",
       "      <td>950202</td>\n",
       "      <td>2</td>\n",
       "      <td>280239502022</td>\n",
       "      <td>Block Group 2</td>\n",
       "      <td>G5030</td>\n",
       "      <td>S</td>\n",
       "      <td>145234737</td>\n",
       "      <td>395020</td>\n",
       "      <td>...</td>\n",
       "      <td>0</td>\n",
       "      <td>3</td>\n",
       "      <td>1</td>\n",
       "      <td>18</td>\n",
       "      <td>9</td>\n",
       "      <td>1564</td>\n",
       "      <td>280239502022</td>\n",
       "      <td>150</td>\n",
       "      <td>-1</td>\n",
       "      <td>POLYGON ((-4928154.367 -2820455.195, -4928149....</td>\n",
       "    </tr>\n",
       "  </tbody>\n",
       "</table>\n",
       "<p>2445 rows × 35 columns</p>\n",
       "</div>"
      ],
      "text/plain": [
       "     STATEFP20 COUNTYFP20 TRACTCE20 BLKGRPCE20       GEOID20     NAMELSAD20  \\\n",
       "0           28        151    000300          3  281510003003  Block Group 3   \n",
       "1           28        151    001500          2  281510015002  Block Group 2   \n",
       "2           28        151    000800          1  281510008001  Block Group 1   \n",
       "3           28        151    001400          2  281510014002  Block Group 2   \n",
       "4           28        151    000100          1  281510001001  Block Group 1   \n",
       "...        ...        ...       ...        ...           ...            ...   \n",
       "2440        28        023    950201          2  280239502012  Block Group 2   \n",
       "2441        28        023    950201          1  280239502011  Block Group 1   \n",
       "2442        28        023    950201          3  280239502013  Block Group 3   \n",
       "2443        28        023    950202          1  280239502021  Block Group 1   \n",
       "2444        28        023    950202          2  280239502022  Block Group 2   \n",
       "\n",
       "     MTFCC20 FUNCSTAT20    ALAND20  AWATER20  ... ASIANVAP NHPIVAP  OTHERVAP  \\\n",
       "0      G5030          S    2322883         0  ...        0       0         0   \n",
       "1      G5030          S   38328376    227053  ...        7       0         0   \n",
       "2      G5030          S   16951616     16692  ...       14       0         0   \n",
       "3      G5030          S     816612         0  ...        0       0         0   \n",
       "4      G5030          S  729919265   7673494  ...        0       1         0   \n",
       "...      ...        ...        ...       ...  ...      ...     ...       ...   \n",
       "2440   G5030          S  107308151    363431  ...        0       1         4   \n",
       "2441   G5030          S   79891973    366607  ...        1       0         0   \n",
       "2442   G5030          S   25890533    309692  ...        0       0         2   \n",
       "2443   G5030          S   34870139    625672  ...        0       0         0   \n",
       "2444   G5030          S  145234737    395020  ...        0       3         1   \n",
       "\n",
       "      2MOREVAP  HVAP  LOGRECNO       GEOCODE  SUMLEV  districtr  \\\n",
       "0            6     3      3684  281510003003     150         -1   \n",
       "1           13    13      3719  281510015002     150         -1   \n",
       "2           22    11      3701  281510008001     150         -1   \n",
       "3            4     1      3715  281510014002     150         -1   \n",
       "4           17    19      3678  281510001001     150         -1   \n",
       "...        ...   ...       ...           ...     ...        ...   \n",
       "2440        30     6      1561  280239502012     150         -1   \n",
       "2441        17     2      1560  280239502011     150         -1   \n",
       "2442        14     7      1562  280239502013     150         -1   \n",
       "2443         8     2      1563  280239502021     150         -1   \n",
       "2444        18     9      1564  280239502022     150         -1   \n",
       "\n",
       "                                               geometry  \n",
       "0     POLYGON ((-5511001.592 -2209698.629, -5510804....  \n",
       "1     POLYGON ((-5546486.069 -2240332.909, -5546470....  \n",
       "2     POLYGON ((-5536686.909 -2242928.386, -5536665....  \n",
       "3     POLYGON ((-5508667.705 -2222065.234, -5508528....  \n",
       "4     POLYGON ((-5489943.210 -2206802.150, -5489779....  \n",
       "...                                                 ...  \n",
       "2440  POLYGON ((-4922975.077 -2788058.383, -4922825....  \n",
       "2441  POLYGON ((-4890956.464 -2797400.603, -4890947....  \n",
       "2442  POLYGON ((-4901476.111 -2805535.039, -4901383....  \n",
       "2443  POLYGON ((-4886610.436 -2822570.680, -4886598....  \n",
       "2444  POLYGON ((-4928154.367 -2820455.195, -4928149....  \n",
       "\n",
       "[2445 rows x 35 columns]"
      ]
     },
     "execution_count": 984,
     "metadata": {},
     "output_type": "execute_result"
    }
   ],
   "source": [
    "to_math_crs(ms_districtr_block_df)"
   ]
  },
  {
   "cell_type": "code",
   "execution_count": 985,
   "id": "a5d55e49-6c66-4d53-ae0b-7c1ede21d0fc",
   "metadata": {},
   "outputs": [],
   "source": [
    "ms_vest_20 = gpd.read_file('MS Data/ms_vest_20/ms_vest_20.shp')"
   ]
  },
  {
   "cell_type": "code",
   "execution_count": null,
   "id": "6c89ca6a-eff6-4126-9695-8278fe7ae903",
   "metadata": {},
   "outputs": [],
   "source": []
  },
  {
   "cell_type": "markdown",
   "id": "0879b20c-6525-4e0f-972e-57f653253be5",
   "metadata": {},
   "source": [
    "\"VEST Presidential Election Data from [Redistricting Hub](https://redistrictingdatahub.org/dataset/vest-2020-mississippi-precinct-and-election-results/) \\\n",
    "Precinct-Level Presidential Data + Geometry"
   ]
  },
  {
   "cell_type": "code",
   "execution_count": 986,
   "id": "379343c3-a8f4-4d64-ad46-95545dd4da19",
   "metadata": {},
   "outputs": [
    {
     "name": "stdout",
     "output_type": "stream",
     "text": [
      "Snapping all geometries to a grid with precision 10^( -4 ) to avoid GEOS errors.\n",
      "Identifying overlaps...\n",
      "Resolving overlaps...\n",
      "Assigning order 2 pieces...\n",
      "Assigning order 3 pieces...\n",
      "Filling gaps...\n"
     ]
    },
    {
     "name": "stderr",
     "output_type": "stream",
     "text": [
      "Gaps to simplify: 100%|███████████████████████████| 9/9 [00:00<00:00, 11.14it/s]\n",
      "Gaps to fill: 100%|███████████████████████████████| 3/3 [00:00<00:00, 11.54it/s]\n"
     ]
    }
   ],
   "source": [
    "to_math_crs(ms_vest_20)\n",
    "ms_vest_repaired = maup.smart_repair(ms_vest_20)"
   ]
  },
  {
   "cell_type": "code",
   "execution_count": 1096,
   "id": "eb1dcde8-b315-4671-a171-61a38540b8d4",
   "metadata": {},
   "outputs": [],
   "source": [
    "ms_vest_repaired['UNIQUE_ID'] = ms_vest_repaired['NAME20'] + '-' + ms_vest_repaired['VTDST20'].astype(str)"
   ]
  },
  {
   "cell_type": "markdown",
   "id": "29941ee0-0077-4574-8110-fd2023a2b0b0",
   "metadata": {},
   "source": [
    "Dropping unused columns"
   ]
  },
  {
   "cell_type": "code",
   "execution_count": 1097,
   "id": "9945ddd6-57b3-4735-8297-23ae5ab94a78",
   "metadata": {},
   "outputs": [],
   "source": [
    "ms_unused_prec_col = [ 'G20PRELJOR', 'G20PREGHAW', 'G20PREABLA', \n",
    "                      'G20PREOCAR', 'G20PREIWES', 'G20PREICOL', \n",
    "                      'G20PREIPIE','G20USSLEDW', 'GEOID20']\n",
    "pres_str_to_int = ['STATEFP20', 'COUNTYFP20', 'VTDST20']\n",
    "ms_pres_20 = ms_vest_repaired.drop(ms_unused_prec_col, axis=1)\n",
    "ms_pres_20[pres_str_to_int] = ms_pres_20[pres_str_to_int].astype(int)\n",
    "ms_pres_20.sort_values(by='COUNTYFP20', inplace=True)"
   ]
  },
  {
   "cell_type": "code",
   "execution_count": 1098,
   "id": "f11a1150-f52f-48c2-80b8-565ba74e4085",
   "metadata": {},
   "outputs": [],
   "source": [
    "ms_blocks_to_precinct_assignments = block_to_precinct(ms_districtr_block_df, ms_pres_20)"
   ]
  },
  {
   "cell_type": "code",
   "execution_count": 1099,
   "id": "40aee28a-85ee-403e-a8e7-76ccd8175476",
   "metadata": {},
   "outputs": [],
   "source": [
    "nv_block_columns = ['VAP', 'WVAP', 'BVAP', 'ASIANVAP', 'HVAP']\n",
    "ms_precinct_data = variable_grouping(assignment_data=nv_blocks_to_precinct_assignments,\n",
    "                  block_data=districtr_block_df,\n",
    "                  precinct_data=ms_pres_20,\n",
    "                  variables=nv_block_columns)"
   ]
  },
  {
   "cell_type": "markdown",
   "id": "4cb2143a-9fc3-40ef-90bc-41c32dad4827",
   "metadata": {},
   "source": [
    "We're starting to notice a pattern here with cleaning our data..."
   ]
  },
  {
   "cell_type": "code",
   "execution_count": 1100,
   "id": "a0d21b4d-10f9-4bc6-ad87-0ac3ac467776",
   "metadata": {},
   "outputs": [],
   "source": [
    "columns_to_fill = ['VAP', 'WVAP', 'BVAP', 'ASIANVAP', 'HVAP']"
   ]
  },
  {
   "cell_type": "code",
   "execution_count": 1101,
   "id": "fc9f0e28-3c93-46a0-afd2-a62850905127",
   "metadata": {},
   "outputs": [],
   "source": [
    "ms_precinct_data[columns_to_fill] = ms_precinct_data[columns_to_fill].fillna(0)\n",
    "ms_precinct_data[columns_to_fill] = np.ceil(ms_precinct_data[columns_to_fill]).astype(int)"
   ]
  },
  {
   "cell_type": "code",
   "execution_count": 1102,
   "id": "9cebb1fc-d3bd-41c6-9b28-a5a73f6fb351",
   "metadata": {},
   "outputs": [],
   "source": [
    "ms_precinct_data[pct_votes] = (ms_precinct_data[['WVAP', 'BVAP', 'ASIANVAP', 'HVAP']]\n",
    "                                    .div(ms_precinct_data['VAP'], axis=0)).astype(float)"
   ]
  },
  {
   "cell_type": "code",
   "execution_count": 1103,
   "id": "d9ff1781-cc05-40a7-9434-62bcc7ccdb6c",
   "metadata": {},
   "outputs": [],
   "source": [
    "ms_precinct_data[pct_votes] = ms_precinct_data[pct_votes].fillna(0)"
   ]
  },
  {
   "cell_type": "code",
   "execution_count": 1104,
   "id": "3ac5aa52-3f5e-47b0-98b4-dd94636941ab",
   "metadata": {},
   "outputs": [],
   "source": [
    "vote_share = ['pct_bid', 'pct_tru', 'pct_hyd', 'pct_esp']\n",
    "\n",
    "ms_precinct_data = ms_precinct_data.assign(\n",
    "                             pct_tru=lambda row: (row['G20PRERTRU'] / (row['G20PRERTRU'] + row['G20PREDBID'])).astype(float),\n",
    "                             pct_bid=lambda row: (row['G20PREDBID'] / (row['G20PRERTRU'] + row['G20PREDBID'])).astype(float),\n",
    "                             pct_hyd=lambda row: (row['G20USSRHYD'] / (row['G20USSDESP'] + row['G20USSRHYD'])).astype(float),\n",
    "                             pct_esp=lambda row: (row['G20USSDESP'] / (row['G20USSDESP'] + row['G20USSRHYD'])).astype(float))"
   ]
  },
  {
   "cell_type": "code",
   "execution_count": 1105,
   "id": "3a2826b4-eef7-4005-bed0-6167909dc561",
   "metadata": {},
   "outputs": [],
   "source": [
    "new_column_order = ['UNIQUE_ID', 'STATEFP', 'G20PREDBID', 'G20PRERTRU', 'G20USSDESP', 'G20USSRHYD', \n",
    "                    'pct_bid', 'pct_tru', 'pct_hyd', 'pct_esp', 'VAP', 'WVAP', 'BVAP', 'ASIANVAP', \n",
    "                    'HVAP', 'pct_wvap', 'pct_bvap', 'pct_asianvap', 'pct_hvap', 'geometry']\n",
    "new_column_names = {\n",
    "    'UNIQUE_ID': 'uniqueId',\n",
    "    'STATEFP': 'state', \n",
    "    'G20PREDBID': 'PRE20D',\n",
    "    'G20PRERTRU': 'PRE20R', \n",
    "    'G20USSDESP': 'USS20D', \n",
    "    'G20USSRHYD': 'USS20R', \n",
    "    'VAP': 'vap', \n",
    "    'WVAP': 'wvap', \n",
    "    'BVAP': 'bvap', \n",
    "    'ASIANVAP': 'asianvap', \n",
    "    'HVAP': 'hvap',\n",
    "    'pct_wvap' :'pct_wvap', \n",
    "    'pct_bvap' :'pct_bvap', \n",
    "    'pct_asianvap': 'pct_asianvap', \n",
    "    'pct_hvap': 'pct_hvap',\n",
    "    'geometry': 'geometry'\n",
    "}\n",
    "\n",
    "ms_precinct_data['STATEFP'] = 'Mississippi'\n",
    "\n",
    "ms_precinct_level_data = reorder_columns(dataframe=ms_precinct_data, columns=new_column_order)\n",
    "rename_columns(dataframe=ms_precinct_level_data, columns_map=new_column_names)\n",
    "ms_precinct_level_data.reset_index(inplace=True)"
   ]
  },
  {
   "cell_type": "code",
   "execution_count": 1106,
   "id": "2facd8d3-e9c0-42c9-8913-7382462b84d2",
   "metadata": {},
   "outputs": [
    {
     "data": {
      "text/plain": [
       "Index(['index', 'uniqueId', 'state', 'PRE20D', 'PRE20R', 'USS20D', 'USS20R',\n",
       "       'pct_bid', 'pct_tru', 'pct_hyd', 'pct_esp', 'vap', 'wvap', 'bvap',\n",
       "       'asianvap', 'hvap', 'pct_wvap', 'pct_bvap', 'pct_asianvap', 'pct_hvap',\n",
       "       'geometry'],\n",
       "      dtype='object')"
      ]
     },
     "execution_count": 1106,
     "metadata": {},
     "output_type": "execute_result"
    }
   ],
   "source": [
    "ms_precinct_level_data.columns"
   ]
  },
  {
   "cell_type": "markdown",
   "id": "6d6d4e0c-e9e3-41e6-b73b-c2744665b2fb",
   "metadata": {},
   "source": [
    "### Importing Mississippi District Data\n",
    "\n",
    "We only need the geometry and the District Num associated with it, so we drop everything else"
   ]
  },
  {
   "cell_type": "code",
   "execution_count": 1107,
   "id": "acb76ec4-ac74-4709-b0d7-f5e752e480c0",
   "metadata": {
    "scrolled": true
   },
   "outputs": [],
   "source": [
    "ms_districts_lower = gpd.read_file('MS Data/ms_sldl_adopted_2022/MS_HouseDists_Mar292022.shp')"
   ]
  },
  {
   "cell_type": "markdown",
   "id": "8c13e61c-06c4-4860-9fbb-de2490272d50",
   "metadata": {},
   "source": [
    "District-level Data from [Redistricting Hub](https://redistrictingdatahub.org/dataset/2022-mississippi-senate-districts-approved-plan/)"
   ]
  },
  {
   "cell_type": "code",
   "execution_count": 1108,
   "id": "11274d2d-615c-4555-884f-c8144b9ce858",
   "metadata": {
    "scrolled": true
   },
   "outputs": [],
   "source": [
    "ms_districts_lower.drop(['ID', 'MEMBERS', 'LOCKED', 'NAME', 'POPULATION', 'WHITE', 'BLACK', \n",
    "                         'F18_POP', 'F18_WHT', 'F18_BLK', 'F18_AP_BLK', 'DEVIATION', 'F_DEVIATIO', \n",
    "                         'F_WHITE', 'F_BLACK', 'F_18_POP', 'F_18_WHT', 'F_18_BLK', 'MULTIPLE_F', \n",
    "                         'F_18_AP_BL', 'DISTRICT_L', 'Shade_Num', 'DISTRICT', 'AREA', 'IDEAL_VALU'], inplace=True, axis=1)"
   ]
  },
  {
   "cell_type": "code",
   "execution_count": 1109,
   "id": "7e28e48e-5c5e-4b47-bd40-a7aeafdcb4dc",
   "metadata": {},
   "outputs": [
    {
     "data": {
      "text/html": [
       "<div>\n",
       "<style scoped>\n",
       "    .dataframe tbody tr th:only-of-type {\n",
       "        vertical-align: middle;\n",
       "    }\n",
       "\n",
       "    .dataframe tbody tr th {\n",
       "        vertical-align: top;\n",
       "    }\n",
       "\n",
       "    .dataframe thead th {\n",
       "        text-align: right;\n",
       "    }\n",
       "</style>\n",
       "<table border=\"1\" class=\"dataframe\">\n",
       "  <thead>\n",
       "    <tr style=\"text-align: right;\">\n",
       "      <th></th>\n",
       "      <th>Distnum</th>\n",
       "      <th>geometry</th>\n",
       "    </tr>\n",
       "  </thead>\n",
       "  <tbody>\n",
       "    <tr>\n",
       "      <th>0</th>\n",
       "      <td>1</td>\n",
       "      <td>POLYGON ((-4617675.501 -1798450.879, -4617657....</td>\n",
       "    </tr>\n",
       "    <tr>\n",
       "      <th>1</th>\n",
       "      <td>2</td>\n",
       "      <td>POLYGON ((-4625743.935 -1772237.728, -4625717....</td>\n",
       "    </tr>\n",
       "    <tr>\n",
       "      <th>2</th>\n",
       "      <td>3</td>\n",
       "      <td>POLYGON ((-4601978.778 -1978812.823, -4602026....</td>\n",
       "    </tr>\n",
       "    <tr>\n",
       "      <th>3</th>\n",
       "      <td>4</td>\n",
       "      <td>POLYGON ((-4780105.975 -1777388.784, -4779991....</td>\n",
       "    </tr>\n",
       "    <tr>\n",
       "      <th>4</th>\n",
       "      <td>5</td>\n",
       "      <td>POLYGON ((-4970927.462 -1755538.949, -4970828....</td>\n",
       "    </tr>\n",
       "    <tr>\n",
       "      <th>...</th>\n",
       "      <td>...</td>\n",
       "      <td>...</td>\n",
       "    </tr>\n",
       "    <tr>\n",
       "      <th>117</th>\n",
       "      <td>119</td>\n",
       "      <td>POLYGON ((-5097826.536 -3456329.024, -5097880....</td>\n",
       "    </tr>\n",
       "    <tr>\n",
       "      <th>118</th>\n",
       "      <td>120</td>\n",
       "      <td>POLYGON ((-5132081.830 -3511787.899, -5129547....</td>\n",
       "    </tr>\n",
       "    <tr>\n",
       "      <th>119</th>\n",
       "      <td>121</td>\n",
       "      <td>POLYGON ((-5129289.140 -3495134.848, -5129547....</td>\n",
       "    </tr>\n",
       "    <tr>\n",
       "      <th>120</th>\n",
       "      <td>122</td>\n",
       "      <td>POLYGON ((-5171829.696 -3448658.179, -5168604....</td>\n",
       "    </tr>\n",
       "    <tr>\n",
       "      <th>121</th>\n",
       "      <td>20</td>\n",
       "      <td>POLYGON ((-5080695.136 -1700418.414, -5080728....</td>\n",
       "    </tr>\n",
       "  </tbody>\n",
       "</table>\n",
       "<p>122 rows × 2 columns</p>\n",
       "</div>"
      ],
      "text/plain": [
       "     Distnum                                           geometry\n",
       "0          1  POLYGON ((-4617675.501 -1798450.879, -4617657....\n",
       "1          2  POLYGON ((-4625743.935 -1772237.728, -4625717....\n",
       "2          3  POLYGON ((-4601978.778 -1978812.823, -4602026....\n",
       "3          4  POLYGON ((-4780105.975 -1777388.784, -4779991....\n",
       "4          5  POLYGON ((-4970927.462 -1755538.949, -4970828....\n",
       "..       ...                                                ...\n",
       "117      119  POLYGON ((-5097826.536 -3456329.024, -5097880....\n",
       "118      120  POLYGON ((-5132081.830 -3511787.899, -5129547....\n",
       "119      121  POLYGON ((-5129289.140 -3495134.848, -5129547....\n",
       "120      122  POLYGON ((-5171829.696 -3448658.179, -5168604....\n",
       "121       20  POLYGON ((-5080695.136 -1700418.414, -5080728....\n",
       "\n",
       "[122 rows x 2 columns]"
      ]
     },
     "execution_count": 1109,
     "metadata": {},
     "output_type": "execute_result"
    }
   ],
   "source": [
    "to_math_crs(ms_districts_lower)"
   ]
  },
  {
   "cell_type": "code",
   "execution_count": 1110,
   "id": "3051d7d6-d8fd-454a-b3a7-ad967bc779fc",
   "metadata": {},
   "outputs": [],
   "source": [
    "ms_precinct_to_district_assignment = maup.assign(ms_precinct_level_data, ms_districts_lower)\n",
    "# Add the assigned districts as a column of the `precincts` GeoDataFrame:\n",
    "ms_precinct_level_data[\"distrctNum\"] = ms_precinct_to_district_assignment"
   ]
  },
  {
   "cell_type": "code",
   "execution_count": 1111,
   "id": "57575007-1d84-4e81-ae5d-a35468d31570",
   "metadata": {},
   "outputs": [],
   "source": [
    "ms_district_variables = ['PRE20D', 'PRE20R', 'USS20D', 'USS20R',\n",
    "                         'vap', 'wvap', 'bvap', 'asianvap', 'hvap']\n",
    "ms_district_df = variable_grouping(assignment_data=ms_precinct_to_district_assignment,\n",
    "                  block_data=ms_precinct_level_data, \n",
    "                  precinct_data=ms_districts_lower,\n",
    "                  variables=ms_district_variables)"
   ]
  },
  {
   "cell_type": "code",
   "execution_count": 1112,
   "id": "47109c50-758c-4120-8b1f-433c1b0c9480",
   "metadata": {},
   "outputs": [],
   "source": [
    "ms_district_df[pct_votes] = (ms_district_df[['wvap', 'bvap', 'asianvap', 'hvap']].div(ms_district_df['vap'], axis=0)).astype(float)\n",
    "ms_district_df['state'] = 'Mississippi'\n",
    "ms_district_df = ms_district_df.assign(\n",
    "                             pct_rep=lambda row: (row['PRE20R'] / (row['PRE20R'] + row['PRE20D'])).astype(float),\n",
    "                             pct_dem=lambda row: (row['PRE20D'] / (row['PRE20R'] + row['PRE20D'])).astype(float))"
   ]
  },
  {
   "cell_type": "code",
   "execution_count": 1113,
   "id": "9386decc-4f30-4ca2-af47-f10f6c2a64df",
   "metadata": {},
   "outputs": [
    {
     "data": {
      "text/plain": [
       "Index(['Distnum', 'geometry', 'PRE20D', 'PRE20R', 'USS20D', 'USS20R', 'vap',\n",
       "       'wvap', 'bvap', 'asianvap', 'hvap', 'pct_wvap', 'pct_bvap',\n",
       "       'pct_asianvap', 'pct_hvap', 'state', 'pct_rep', 'pct_dem'],\n",
       "      dtype='object')"
      ]
     },
     "execution_count": 1113,
     "metadata": {},
     "output_type": "execute_result"
    }
   ],
   "source": [
    "ms_district_df.columns"
   ]
  },
  {
   "cell_type": "code",
   "execution_count": 1114,
   "id": "ffd66360-b59a-4237-a25a-2e4c63dd5fb9",
   "metadata": {},
   "outputs": [],
   "source": [
    "new_column_order = ['Distnum', 'state', 'PRE20D', 'PRE20R', 'USS20D', 'USS20R', 'pct_rep', 'pct_dem', 'vap', \n",
    "                    'wvap', 'bvap', 'asianvap', 'hvap', 'pct_wvap', 'pct_bvap', 'pct_asianvap', 'pct_hvap', 'geometry']\n",
    "\n",
    "district_column_names = {\n",
    "    'Distnum': 'districtNum'\n",
    "}\n",
    "\n",
    "ms_district_df = reorder_columns(dataframe=ms_district_df, columns=new_column_order)\n",
    "rename_columns(dataframe=ms_district_df, columns_map=district_column_names)\n",
    "ms_district_df.sort_values(by='districtNum', inplace=True)"
   ]
  },
  {
   "cell_type": "code",
   "execution_count": 1117,
   "id": "fa01ab92-b193-4488-9440-410b073e02d3",
   "metadata": {},
   "outputs": [
    {
     "name": "stderr",
     "output_type": "stream",
     "text": [
      "/var/folders/7j/y8hy2rmn39l7q9f22wdvf5rr0000gn/T/ipykernel_28828/3340539031.py:1: UserWarning: Column names longer than 10 characters will be truncated when saved to ESRI Shapefile.\n",
      "  ms_district_df.to_file('ms_district_final_data.shp')\n",
      "/var/folders/7j/y8hy2rmn39l7q9f22wdvf5rr0000gn/T/ipykernel_28828/3340539031.py:2: UserWarning: Column names longer than 10 characters will be truncated when saved to ESRI Shapefile.\n",
      "  ms_precinct_level_data.to_file('ms_precinct_final_data.shp')\n"
     ]
    }
   ],
   "source": [
    "ms_district_df.to_file('ms_district_final_data.shp')\n",
    "ms_precinct_level_data.to_file('ms_precinct_final_data.shp')"
   ]
  },
  {
   "cell_type": "code",
   "execution_count": 1095,
   "id": "cbd7202c-bff1-4eaa-9003-50c578abbe03",
   "metadata": {},
   "outputs": [
    {
     "data": {
      "text/html": [
       "<div>\n",
       "<style scoped>\n",
       "    .dataframe tbody tr th:only-of-type {\n",
       "        vertical-align: middle;\n",
       "    }\n",
       "\n",
       "    .dataframe tbody tr th {\n",
       "        vertical-align: top;\n",
       "    }\n",
       "\n",
       "    .dataframe thead th {\n",
       "        text-align: right;\n",
       "    }\n",
       "</style>\n",
       "<table border=\"1\" class=\"dataframe\">\n",
       "  <thead>\n",
       "    <tr style=\"text-align: right;\">\n",
       "      <th></th>\n",
       "      <th>index</th>\n",
       "      <th>uniqueId</th>\n",
       "      <th>state</th>\n",
       "      <th>PRE20D</th>\n",
       "      <th>PRE20R</th>\n",
       "      <th>USS20D</th>\n",
       "      <th>USS20R</th>\n",
       "      <th>pct_bid</th>\n",
       "      <th>pct_tru</th>\n",
       "      <th>pct_hyd</th>\n",
       "      <th>...</th>\n",
       "      <th>wvap</th>\n",
       "      <th>bvap</th>\n",
       "      <th>asianvap</th>\n",
       "      <th>hvap</th>\n",
       "      <th>pct_wvap</th>\n",
       "      <th>pct_bvap</th>\n",
       "      <th>pct_asianvap</th>\n",
       "      <th>pct_hvap</th>\n",
       "      <th>geometry</th>\n",
       "      <th>distrctNum</th>\n",
       "    </tr>\n",
       "  </thead>\n",
       "  <tbody>\n",
       "    <tr>\n",
       "      <th>0</th>\n",
       "      <td>139</td>\n",
       "      <td>Morgantown-000405</td>\n",
       "      <td>Mississippi</td>\n",
       "      <td>352</td>\n",
       "      <td>106</td>\n",
       "      <td>362</td>\n",
       "      <td>99</td>\n",
       "      <td>0.768559</td>\n",
       "      <td>0.231441</td>\n",
       "      <td>0.214751</td>\n",
       "      <td>...</td>\n",
       "      <td>0</td>\n",
       "      <td>0</td>\n",
       "      <td>0</td>\n",
       "      <td>0</td>\n",
       "      <td>0.000000</td>\n",
       "      <td>0.000000</td>\n",
       "      <td>0.000000</td>\n",
       "      <td>0.000000</td>\n",
       "      <td>POLYGON ((-91.33804 31.59586, -91.33781 31.595...</td>\n",
       "      <td>92</td>\n",
       "    </tr>\n",
       "    <tr>\n",
       "      <th>1</th>\n",
       "      <td>138</td>\n",
       "      <td>Northside School-000401</td>\n",
       "      <td>Mississippi</td>\n",
       "      <td>1062</td>\n",
       "      <td>58</td>\n",
       "      <td>1069</td>\n",
       "      <td>55</td>\n",
       "      <td>0.948214</td>\n",
       "      <td>0.051786</td>\n",
       "      <td>0.048932</td>\n",
       "      <td>...</td>\n",
       "      <td>1291</td>\n",
       "      <td>3</td>\n",
       "      <td>8</td>\n",
       "      <td>114</td>\n",
       "      <td>0.841591</td>\n",
       "      <td>0.001956</td>\n",
       "      <td>0.005215</td>\n",
       "      <td>0.074316</td>\n",
       "      <td>POLYGON ((-91.40701 31.56919, -91.40776 31.569...</td>\n",
       "      <td>92</td>\n",
       "    </tr>\n",
       "    <tr>\n",
       "      <th>2</th>\n",
       "      <td>122</td>\n",
       "      <td>By-Pass Firestation-000102</td>\n",
       "      <td>Mississippi</td>\n",
       "      <td>521</td>\n",
       "      <td>262</td>\n",
       "      <td>539</td>\n",
       "      <td>248</td>\n",
       "      <td>0.665390</td>\n",
       "      <td>0.334610</td>\n",
       "      <td>0.315121</td>\n",
       "      <td>...</td>\n",
       "      <td>437</td>\n",
       "      <td>11</td>\n",
       "      <td>15</td>\n",
       "      <td>100</td>\n",
       "      <td>0.724710</td>\n",
       "      <td>0.018242</td>\n",
       "      <td>0.024876</td>\n",
       "      <td>0.165837</td>\n",
       "      <td>POLYGON ((-91.42313 31.50167, -91.42315 31.501...</td>\n",
       "      <td>94</td>\n",
       "    </tr>\n",
       "    <tr>\n",
       "      <th>3</th>\n",
       "      <td>123</td>\n",
       "      <td>Courthouse-000101</td>\n",
       "      <td>Mississippi</td>\n",
       "      <td>185</td>\n",
       "      <td>399</td>\n",
       "      <td>199</td>\n",
       "      <td>385</td>\n",
       "      <td>0.316781</td>\n",
       "      <td>0.683219</td>\n",
       "      <td>0.659247</td>\n",
       "      <td>...</td>\n",
       "      <td>0</td>\n",
       "      <td>0</td>\n",
       "      <td>0</td>\n",
       "      <td>0</td>\n",
       "      <td>0.000000</td>\n",
       "      <td>0.000000</td>\n",
       "      <td>0.000000</td>\n",
       "      <td>0.000000</td>\n",
       "      <td>POLYGON ((-91.39589 31.54052, -91.39673 31.540...</td>\n",
       "      <td>95</td>\n",
       "    </tr>\n",
       "    <tr>\n",
       "      <th>4</th>\n",
       "      <td>124</td>\n",
       "      <td>Duncan Park-000202</td>\n",
       "      <td>Mississippi</td>\n",
       "      <td>387</td>\n",
       "      <td>466</td>\n",
       "      <td>410</td>\n",
       "      <td>432</td>\n",
       "      <td>0.453693</td>\n",
       "      <td>0.546307</td>\n",
       "      <td>0.513064</td>\n",
       "      <td>...</td>\n",
       "      <td>798</td>\n",
       "      <td>0</td>\n",
       "      <td>2</td>\n",
       "      <td>80</td>\n",
       "      <td>0.845339</td>\n",
       "      <td>0.000000</td>\n",
       "      <td>0.002119</td>\n",
       "      <td>0.084746</td>\n",
       "      <td>MULTIPOLYGON (((-91.37858 31.53672, -91.37843 ...</td>\n",
       "      <td>92</td>\n",
       "    </tr>\n",
       "    <tr>\n",
       "      <th>...</th>\n",
       "      <td>...</td>\n",
       "      <td>...</td>\n",
       "      <td>...</td>\n",
       "      <td>...</td>\n",
       "      <td>...</td>\n",
       "      <td>...</td>\n",
       "      <td>...</td>\n",
       "      <td>...</td>\n",
       "      <td>...</td>\n",
       "      <td>...</td>\n",
       "      <td>...</td>\n",
       "      <td>...</td>\n",
       "      <td>...</td>\n",
       "      <td>...</td>\n",
       "      <td>...</td>\n",
       "      <td>...</td>\n",
       "      <td>...</td>\n",
       "      <td>...</td>\n",
       "      <td>...</td>\n",
       "      <td>...</td>\n",
       "      <td>...</td>\n",
       "    </tr>\n",
       "    <tr>\n",
       "      <th>1759</th>\n",
       "      <td>891</td>\n",
       "      <td>Valley-000109</td>\n",
       "      <td>Mississippi</td>\n",
       "      <td>21</td>\n",
       "      <td>157</td>\n",
       "      <td>33</td>\n",
       "      <td>144</td>\n",
       "      <td>0.117978</td>\n",
       "      <td>0.882022</td>\n",
       "      <td>0.813559</td>\n",
       "      <td>...</td>\n",
       "      <td>484</td>\n",
       "      <td>61</td>\n",
       "      <td>101</td>\n",
       "      <td>130</td>\n",
       "      <td>0.601242</td>\n",
       "      <td>0.075776</td>\n",
       "      <td>0.125466</td>\n",
       "      <td>0.161491</td>\n",
       "      <td>POLYGON ((-90.43728 32.76199, -90.43718 32.761...</td>\n",
       "      <td>52</td>\n",
       "    </tr>\n",
       "    <tr>\n",
       "      <th>1760</th>\n",
       "      <td>890</td>\n",
       "      <td>Ward 2 Welfare Office-000204</td>\n",
       "      <td>Mississippi</td>\n",
       "      <td>221</td>\n",
       "      <td>127</td>\n",
       "      <td>238</td>\n",
       "      <td>115</td>\n",
       "      <td>0.635057</td>\n",
       "      <td>0.364943</td>\n",
       "      <td>0.325779</td>\n",
       "      <td>...</td>\n",
       "      <td>725</td>\n",
       "      <td>78</td>\n",
       "      <td>108</td>\n",
       "      <td>171</td>\n",
       "      <td>0.615973</td>\n",
       "      <td>0.066270</td>\n",
       "      <td>0.091759</td>\n",
       "      <td>0.145285</td>\n",
       "      <td>POLYGON ((-90.39991 32.85521, -90.40008 32.855...</td>\n",
       "      <td>49</td>\n",
       "    </tr>\n",
       "    <tr>\n",
       "      <th>1761</th>\n",
       "      <td>889</td>\n",
       "      <td>3-2 Old Jr. High-000302</td>\n",
       "      <td>Mississippi</td>\n",
       "      <td>467</td>\n",
       "      <td>80</td>\n",
       "      <td>495</td>\n",
       "      <td>58</td>\n",
       "      <td>0.853748</td>\n",
       "      <td>0.146252</td>\n",
       "      <td>0.104882</td>\n",
       "      <td>...</td>\n",
       "      <td>0</td>\n",
       "      <td>0</td>\n",
       "      <td>0</td>\n",
       "      <td>0</td>\n",
       "      <td>0.000000</td>\n",
       "      <td>0.000000</td>\n",
       "      <td>0.000000</td>\n",
       "      <td>0.000000</td>\n",
       "      <td>POLYGON ((-90.41407 32.84650, -90.41375 32.847...</td>\n",
       "      <td>49</td>\n",
       "    </tr>\n",
       "    <tr>\n",
       "      <th>1762</th>\n",
       "      <td>500</td>\n",
       "      <td>Fugates-000104</td>\n",
       "      <td>Mississippi</td>\n",
       "      <td>180</td>\n",
       "      <td>197</td>\n",
       "      <td>185</td>\n",
       "      <td>189</td>\n",
       "      <td>0.477454</td>\n",
       "      <td>0.522546</td>\n",
       "      <td>0.505348</td>\n",
       "      <td>...</td>\n",
       "      <td>0</td>\n",
       "      <td>0</td>\n",
       "      <td>0</td>\n",
       "      <td>0</td>\n",
       "      <td>0.000000</td>\n",
       "      <td>0.000000</td>\n",
       "      <td>0.000000</td>\n",
       "      <td>0.000000</td>\n",
       "      <td>POLYGON ((-90.31540 32.66580, -90.31527 32.665...</td>\n",
       "      <td>52</td>\n",
       "    </tr>\n",
       "    <tr>\n",
       "      <th>1763</th>\n",
       "      <td>1517</td>\n",
       "      <td>Benton-000201</td>\n",
       "      <td>Mississippi</td>\n",
       "      <td>251</td>\n",
       "      <td>492</td>\n",
       "      <td>261</td>\n",
       "      <td>474</td>\n",
       "      <td>0.337820</td>\n",
       "      <td>0.662180</td>\n",
       "      <td>0.644898</td>\n",
       "      <td>...</td>\n",
       "      <td>374</td>\n",
       "      <td>334</td>\n",
       "      <td>88</td>\n",
       "      <td>352</td>\n",
       "      <td>0.304560</td>\n",
       "      <td>0.271987</td>\n",
       "      <td>0.071661</td>\n",
       "      <td>0.286645</td>\n",
       "      <td>POLYGON ((-90.26604 32.72042, -90.26607 32.720...</td>\n",
       "      <td>52</td>\n",
       "    </tr>\n",
       "  </tbody>\n",
       "</table>\n",
       "<p>1764 rows × 22 columns</p>\n",
       "</div>"
      ],
      "text/plain": [
       "      index                      uniqueId        state  PRE20D  PRE20R  \\\n",
       "0       139             Morgantown-000405  Mississippi     352     106   \n",
       "1       138       Northside School-000401  Mississippi    1062      58   \n",
       "2       122    By-Pass Firestation-000102  Mississippi     521     262   \n",
       "3       123             Courthouse-000101  Mississippi     185     399   \n",
       "4       124            Duncan Park-000202  Mississippi     387     466   \n",
       "...     ...                           ...          ...     ...     ...   \n",
       "1759    891                 Valley-000109  Mississippi      21     157   \n",
       "1760    890  Ward 2 Welfare Office-000204  Mississippi     221     127   \n",
       "1761    889       3-2 Old Jr. High-000302  Mississippi     467      80   \n",
       "1762    500                Fugates-000104  Mississippi     180     197   \n",
       "1763   1517                 Benton-000201  Mississippi     251     492   \n",
       "\n",
       "      USS20D  USS20R   pct_bid   pct_tru   pct_hyd  ...  wvap  bvap  asianvap  \\\n",
       "0        362      99  0.768559  0.231441  0.214751  ...     0     0         0   \n",
       "1       1069      55  0.948214  0.051786  0.048932  ...  1291     3         8   \n",
       "2        539     248  0.665390  0.334610  0.315121  ...   437    11        15   \n",
       "3        199     385  0.316781  0.683219  0.659247  ...     0     0         0   \n",
       "4        410     432  0.453693  0.546307  0.513064  ...   798     0         2   \n",
       "...      ...     ...       ...       ...       ...  ...   ...   ...       ...   \n",
       "1759      33     144  0.117978  0.882022  0.813559  ...   484    61       101   \n",
       "1760     238     115  0.635057  0.364943  0.325779  ...   725    78       108   \n",
       "1761     495      58  0.853748  0.146252  0.104882  ...     0     0         0   \n",
       "1762     185     189  0.477454  0.522546  0.505348  ...     0     0         0   \n",
       "1763     261     474  0.337820  0.662180  0.644898  ...   374   334        88   \n",
       "\n",
       "      hvap  pct_wvap  pct_bvap  pct_asianvap  pct_hvap  \\\n",
       "0        0  0.000000  0.000000      0.000000  0.000000   \n",
       "1      114  0.841591  0.001956      0.005215  0.074316   \n",
       "2      100  0.724710  0.018242      0.024876  0.165837   \n",
       "3        0  0.000000  0.000000      0.000000  0.000000   \n",
       "4       80  0.845339  0.000000      0.002119  0.084746   \n",
       "...    ...       ...       ...           ...       ...   \n",
       "1759   130  0.601242  0.075776      0.125466  0.161491   \n",
       "1760   171  0.615973  0.066270      0.091759  0.145285   \n",
       "1761     0  0.000000  0.000000      0.000000  0.000000   \n",
       "1762     0  0.000000  0.000000      0.000000  0.000000   \n",
       "1763   352  0.304560  0.271987      0.071661  0.286645   \n",
       "\n",
       "                                               geometry  distrctNum  \n",
       "0     POLYGON ((-91.33804 31.59586, -91.33781 31.595...          92  \n",
       "1     POLYGON ((-91.40701 31.56919, -91.40776 31.569...          92  \n",
       "2     POLYGON ((-91.42313 31.50167, -91.42315 31.501...          94  \n",
       "3     POLYGON ((-91.39589 31.54052, -91.39673 31.540...          95  \n",
       "4     MULTIPOLYGON (((-91.37858 31.53672, -91.37843 ...          92  \n",
       "...                                                 ...         ...  \n",
       "1759  POLYGON ((-90.43728 32.76199, -90.43718 32.761...          52  \n",
       "1760  POLYGON ((-90.39991 32.85521, -90.40008 32.855...          49  \n",
       "1761  POLYGON ((-90.41407 32.84650, -90.41375 32.847...          49  \n",
       "1762  POLYGON ((-90.31540 32.66580, -90.31527 32.665...          52  \n",
       "1763  POLYGON ((-90.26604 32.72042, -90.26607 32.720...          52  \n",
       "\n",
       "[1764 rows x 22 columns]"
      ]
     },
     "execution_count": 1095,
     "metadata": {},
     "output_type": "execute_result"
    }
   ],
   "source": [
    "to_world_crs(ms_district_df)\n",
    "to_world_crs(ms_precinct_level_data)"
   ]
  },
  {
   "cell_type": "code",
   "execution_count": null,
   "id": "4e2dd7d6-133b-451f-86a3-7020ca044da1",
   "metadata": {},
   "outputs": [],
   "source": [
    "simplify_geometry(ms_district_df)\n",
    "simplify_geometry(ms_precinct_level_data)"
   ]
  },
  {
   "cell_type": "code",
   "execution_count": null,
   "id": "68da49ed-eb3a-4158-82f4-da1fe963dc92",
   "metadata": {
    "scrolled": true
   },
   "outputs": [],
   "source": [
    "geometry_to_wkt(ms_district_df)\n",
    "geometry_to_wkt(ms_precinct_level_data)"
   ]
  },
  {
   "cell_type": "markdown",
   "id": "f15dbe6c-db2f-43e7-a4af-c92dbd0ac624",
   "metadata": {},
   "source": [
    "### Exporting Mississippi Data\n",
    "\n",
    "Just like before, we export the data to a csv for convenience"
   ]
  },
  {
   "cell_type": "code",
   "execution_count": 1033,
   "id": "48c0616d-4e0a-418b-9817-6682d6333313",
   "metadata": {},
   "outputs": [],
   "source": [
    "ms_district_df.to_csv('ms_district_final_data.csv')\n",
    "ms_precinct_level_data.to_csv('ms_precinct_final_data.csv')"
   ]
  },
  {
   "cell_type": "markdown",
   "id": "b1db9aa2-ffb9-4a2e-818b-38d1c3b77e6f",
   "metadata": {},
   "source": [
    "### Assigning Demographic data on the Block Level to Election Results on the Precinct Level\n",
    "\n",
    "Using the Maup library we assign blocks to precincts"
   ]
  },
  {
   "cell_type": "code",
   "execution_count": 823,
   "id": "1c45a845-eaea-407a-b7ac-22bb6bda6339",
   "metadata": {},
   "outputs": [],
   "source": [
    "test = gpd.read_file('NV Data/nv_sldl_2021/nv_sldl_2021.shp')\n",
    "\n",
    "test.to_excel('nv_districts.xlsx')"
   ]
  },
  {
   "cell_type": "code",
   "execution_count": null,
   "id": "b1395dba-84b9-4d84-9ce5-f991cc6040be",
   "metadata": {},
   "outputs": [],
   "source": []
  }
 ],
 "metadata": {
  "kernelspec": {
   "display_name": "Python 3 (ipykernel)",
   "language": "python",
   "name": "python3"
  },
  "language_info": {
   "codemirror_mode": {
    "name": "ipython",
    "version": 3
   },
   "file_extension": ".py",
   "mimetype": "text/x-python",
   "name": "python",
   "nbconvert_exporter": "python",
   "pygments_lexer": "ipython3",
   "version": "3.11.5"
  }
 },
 "nbformat": 4,
 "nbformat_minor": 5
}
