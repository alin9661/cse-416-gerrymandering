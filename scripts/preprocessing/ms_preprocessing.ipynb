{
 "cells": [
  {
   "cell_type": "code",
   "execution_count": 1,
   "id": "1f7f0bd9-1ae9-423f-8485-fc8e046a2c86",
   "metadata": {
    "ExecuteTime": {
     "end_time": "2024-05-07T00:30:07.304443Z",
     "start_time": "2024-05-07T00:30:07.301881Z"
    }
   },
   "source": [
    "from pprint import pprint\n",
    "import geopandas as gpd\n",
    "import pandas as pd\n",
    "import matplotlib.pyplot as plt\n",
    "import folium\n",
    "import os\n",
    "import maup\n",
    "import multiprocessing as mp\n",
    "from pyproj import CRS\n",
    "import re"
   ],
   "outputs": []
  },
  {
   "cell_type": "code",
   "execution_count": 2,
   "id": "3a640804-7726-4d19-9b07-65a2af29a151",
   "metadata": {
    "ExecuteTime": {
     "end_time": "2024-05-07T00:30:15.950203Z",
     "start_time": "2024-05-07T00:30:15.948168Z"
    }
   },
   "source": [
    "# Get the current working directory\n",
    "current_directory = os.getcwd()\n",
    "move_up = os.path.dirname(os.path.dirname(current_directory))\n",
    "data_dir = os.path.join(move_up, 'Data')\n",
    "new_path = os.chdir(data_dir)\n",
    "print(os.getcwd())"
   ],
   "outputs": []
  },
  {
   "cell_type": "markdown",
   "id": "be6407c4-5c2e-4c01-99e9-dcedc961e2f8",
   "metadata": {},
   "source": [
    "# Data\n",
    "\n",
    "---\n",
    "\n",
    "- [ ] Find Precinct Data (Nevada + Mississippi)\n",
    "- [ ] Find State Assembly Shapefile\n",
    "- [ ] Demographic Population"
   ]
  },
  {
   "cell_type": "markdown",
   "id": "fa9a3c34-8162-4dd2-95dd-827ee857acb0",
   "metadata": {},
   "source": [
    "# Pre-processing\n",
    "\n",
    "---\n",
    "\n",
    "- [ ] Read ShapeFile\n",
    "- [ ] Convert ShapeFile -> GeoJSON\n",
    "- [ ] Multi-threaded and Parallelize Code\n",
    "- [ ] "
   ]
  },
  {
   "cell_type": "markdown",
   "id": "555348e1-eea6-4d47-9e7b-f0d0f52d62fc",
   "metadata": {},
   "source": [
    "### Mississippi State Assembly Data Processing"
   ]
  },
  {
   "cell_type": "code",
   "execution_count": 345,
   "id": "e62a9b3a-d60a-4075-bb0f-287286c5164a",
   "metadata": {
    "ExecuteTime": {
     "end_time": "2024-05-06T23:57:42.218289Z",
     "start_time": "2024-05-06T23:57:41.741190Z"
    }
   },
   "source": [
    "ms_districts_df = gpd.read_file('ms_State_Assembly_2022.geojson')\n",
    "ms_districts_df.plot()\n",
    "\n",
    "# plt.show()\n",
    "\n",
    "ms_districts_df.to_crs(epsg=4326, inplace=True)\n",
    "display(ms_districts_df.crs)\n",
    "display(ms_districts_df.columns)\n",
    "\n",
    "# ms_districts_df.to_file('ms_State_Assembly_2022.geojson', driver='GeoJSON')\n"
   ],
   "outputs": []
  },
  {
   "cell_type": "markdown",
   "id": "728ae3f6-2030-426a-9efc-4bff4b761e1e",
   "metadata": {},
   "source": [
    "Data gathered from [Redistricting Data](https://redistrictingdatahub.org/dataset/2022-mississippi-senate-districts-approved-plan/)"
   ]
  },
  {
   "cell_type": "markdown",
   "id": "acf0444e-4d79-4f62-a8b2-111bc3615d32",
   "metadata": {},
   "source": [
    "### Demographic Data on Block Level"
   ]
  },
  {
   "cell_type": "code",
   "execution_count": 344,
   "id": "69b51de3-b74b-4bf7-87fb-b30ea8ec588b",
   "metadata": {
    "ExecuteTime": {
     "end_time": "2024-05-06T23:57:32.826374Z",
     "start_time": "2024-05-06T23:57:30.307798Z"
    }
   },
   "source": [
    "ms_block_race_df = gpd.read_file('ms-block-demo-2020.geojson')\n",
    "\n",
    "# ms_block_race_df['area'] = ms_block_race_df['geometry'].area\n",
    "# ms_block_race_df.explore('area', legend=False)\n",
    "# ms_block_race_df.explore('STATEFP20', legend=False)\n",
    "ms_block_race_df.plot()\n",
    "display(ms_block_race_df.head())\n",
    "display(ms_block_race_df.columns)\n",
    "\n",
    "# https://redistrictingdatahub.org/dataset/mississippi-2022-select-race-data-from-the-american-community-survey-20182022-at-the-block-group-level/\n",
    "# diff_block_df = gpd.read_file('MS/ms_race_2022_bg/ms_race_2022_bg.shp')\n",
    "# display(diff_block_df.isna().sum())\n",
    "# display(diff_block_df.columns)\n",
    "\n",
    "\n",
    "# fig, (ax1,ax2) = plt.subplots(nrows=1, ncols=2, figsize=(20, 16))\n",
    "# ax1 = diff_block_df.plot(ax=ax1)\n",
    "# ax2 = ms_block_race_df.plot(ax=ax2)"
   ],
   "outputs": []
  },
  {
   "cell_type": "markdown",
   "id": "4eed2573-50dc-4d9a-aab9-8ca812974e27",
   "metadata": {},
   "source": [
    "Data from [Districtr](https://districtr.org/plan)"
   ]
  },
  {
   "cell_type": "markdown",
   "id": "6ac4b8e8-6cf9-4ba8-922d-2b000367322b",
   "metadata": {},
   "source": [
    "### General Elections Precinct Data + Geometry"
   ]
  },
  {
   "cell_type": "code",
   "execution_count": 350,
   "id": "ef2137dc-3935-4164-b71b-97487b32bae2",
   "metadata": {
    "ExecuteTime": {
     "end_time": "2024-05-07T00:30:41.571139Z",
     "start_time": "2024-05-07T00:30:41.532332Z"
    }
   },
   "source": [
    "ms_prec_bound_2022_df = gpd.read_file('ms_gen_22_prec/ms_gen_22_prec.shp')\n",
    "# ms_prec_bound_2022_df.to_file('msGenPrecBound2022', driver='GeoJSON')\n",
    "# ms_prec_bound_2022_df.explore()\n",
    "\n",
    "\n",
    "ms_prec_bound_2022_df\n",
    "\n",
    "# fig, (ax1,ax2) = plt.subplots(nrows=1, ncols=2, figsize=(20, 16))\n",
    "# ax1 = ms_prec_bound_2022_df.plot(ax=ax1)\n",
    "# ax2 = ms_block_race_df.plot(ax=ax2)"
   ],
   "outputs": []
  },
  {
   "cell_type": "code",
   "execution_count": null,
   "id": "606060ec-7b28-4d08-8929-34388e1305e3",
   "metadata": {},
   "source": [
    "ms_prec_bound_2022_df.columns"
   ],
   "outputs": []
  },
  {
   "cell_type": "markdown",
   "id": "b9302b9b-50a8-4270-a768-619354be1ff1",
   "metadata": {},
   "source": [
    "Data from [Redistricting Hub](https://redistrictingdatahub.org/dataset/mississippi-2022-general-election-precinct-level-results-and-boundaries/)"
   ]
  },
  {
   "cell_type": "code",
   "execution_count": null,
   "id": "8262efb3-5339-4d84-b6d8-669bbf2c809b",
   "metadata": {},
   "source": [
    "ms_prec_data = ms_prec_bound_2022_df\n",
    "display(ms_prec_data.columns)\n",
    "\n",
    "ms_block_data = ms_block_race_df\n",
    "display(ms_block_data.columns)\n",
    "\n",
    "ms_block_data.to_crs(32030, inplace=True)\n",
    "ms_prec_data.to_crs(32030, inplace=True)\n",
    "display(ms_prec_data.crs)\n"
   ],
   "outputs": []
  },
  {
   "cell_type": "code",
   "execution_count": null,
   "id": "223fd502-01bd-4da1-9055-44143ff8e633",
   "metadata": {},
   "source": [
    "# maup.doctor(ms_block_data)\n",
    "maup.doctor(ms_prec_data)\n",
    "# print(ms_prec_data.geometry.is_valid)"
   ],
   "outputs": []
  },
  {
   "cell_type": "code",
   "execution_count": null,
   "id": "15cba74b-d78c-4fe7-bbf4-c935c932c744",
   "metadata": {},
   "source": [
    "display(ms_prec_data.estimate_utm_crs())\n",
    "ms_prec_data.to_crs(epsg=32030, inplace=True)\n",
    "ms_prec_data = maup.smart_repair(ms_prec_data)"
   ],
   "outputs": []
  },
  {
   "cell_type": "code",
   "execution_count": null,
   "id": "9d055ee5-9196-442f-99e5-cbaef3304377",
   "metadata": {},
   "source": [
    "ms_prec_data\n",
    "block_prec_aggr = maup.assign(ms_block_data, ms_prec_data)\n",
    "display(ms_prec_data.columns.intersection(ms_block_data.columns))\n"
   ],
   "outputs": []
  },
  {
   "cell_type": "code",
   "execution_count": null,
   "id": "e174629a-386b-48ea-afc8-9c9c53f55341",
   "metadata": {},
   "source": [
    "display(ms_prec_data)\n",
    "ms_prec_data.to_file(\"fixed_ms_prec_geom.geojson\", driver=\"GeoJSON\")"
   ],
   "outputs": []
  },
  {
   "cell_type": "code",
   "execution_count": null,
   "id": "9788e6a8-3413-46ea-9d7e-85c57b0a21de",
   "metadata": {},
   "source": [
    "display(ms_prec_data.columns)\n",
    "display(ms_block_data.columns)"
   ],
   "outputs": []
  },
  {
   "cell_type": "markdown",
   "id": "e18af01d-4737-4f96-ba29-6314c504fcbb",
   "metadata": {},
   "source": [
    "### Redistrcting Hub Precinct Level Data + Districtr Block Demographic Data provided better geometry"
   ]
  },
  {
   "cell_type": "code",
   "execution_count": null,
   "id": "69890c71-5cc6-4a18-8601-36477a1e6d8f",
   "metadata": {},
   "source": [
    "variables = ['TOTPOP', 'WHITE', 'BLACK', 'ASIAN', 'HISP']\n",
    "\n",
    "ms_prec_data[variables] = ms_block_data[variables].groupby(block_prec_aggr).sum()\n",
    "\n",
    "\n",
    "# display(ms_prec_data[variables].head())\n",
    "# display(ms_prec_data.isna().sum())\n",
    "# display(ms_prec_data)\n",
    "# ms_prec_data.plot()"
   ],
   "outputs": []
  },
  {
   "cell_type": "code",
   "execution_count": null,
   "id": "29eaa310-e267-4951-834a-1e5ab0aadc6a",
   "metadata": {},
   "source": [
    "ms_prec_data['2022_DEMOCRATIC'] = ms_prec_data[['GCON01DBLA', 'GCON02DTHO', 'GCON03DYOU', 'GCON04DDUP']].sum(axis=1)\n",
    "ms_prec_data['2022_REPUBLICAN'] = ms_prec_data[['GCON01RKEL', 'GCON02RFLO', 'GCON03RGUE', 'GCON04REZE']].sum(axis=1)\n",
    "ms_prec_data['2022_LIBERAL'] = ms_prec_data[['GCON04LJOH']].sum(axis=1)\n",
    "\n",
    "# display(ms_prec_data)\n",
    "\n",
    "ms_prec_data['border'] = ms_prec_data.buffer(200)\n",
    "\n",
    "# ms_prec_data['border'].plot()\n",
    "rows = [row for _, row in ms_prec_data.groupby(ms_prec_data.index)]\n",
    "\n",
    "new_prec_data = ms_prec_data.drop(['GCON01DBLA', 'GCON02DTHO', 'GCON03DYOU', 'GCON04DDUP', \n",
    "                                      'GCON01RKEL', 'GCON02RFLO', 'GCON03RGUE', 'GCON04REZE', \n",
    "                                     'GCON04LJOH', 'POLL_LOC', 'CNTY_CODE'], axis=1)\n",
    "\n",
    "new_prec_data"
   ],
   "outputs": []
  },
  {
   "cell_type": "code",
   "execution_count": null,
   "id": "5c82b4d0-9374-4aa9-8614-b7972e693653",
   "metadata": {},
   "source": [
    "new_prec_data.plot(column='WHITE', cmap='OrRd', legend=True)"
   ],
   "outputs": []
  },
  {
   "cell_type": "markdown",
   "id": "4c578e32-63a2-471a-b2e3-6ab61e155e75",
   "metadata": {},
   "source": [
    "# 2023 General Election Precinct-Level Results"
   ]
  },
  {
   "cell_type": "code",
   "execution_count": 19,
   "id": "baeabff1-5150-4a87-a1e5-e22e2f200707",
   "metadata": {
    "ExecuteTime": {
     "end_time": "2024-05-07T00:48:33.069441Z",
     "start_time": "2024-05-07T00:48:19.432926Z"
    }
   },
   "source": [
    "ms_gen_23 = gpd.read_file('MS Data/ms_gen_2023_prec/ms_gen_2023_prec.csv')\n",
    "ms_gov_unfiltered = ms_gen_23.iloc[:, :4].join(ms_gen_23.iloc[:, 10:13])"
   ],
   "outputs": []
  },
  {
   "cell_type": "code",
   "execution_count": 20,
   "id": "217e0f8c01f834cf",
   "metadata": {
    "ExecuteTime": {
     "end_time": "2024-05-07T00:48:35.100028Z",
     "start_time": "2024-05-07T00:48:35.095507Z"
    },
    "scrolled": true
   },
   "source": [
    "ms_gov_unfiltered"
   ],
   "outputs": []
  },
  {
   "cell_type": "code",
   "execution_count": null,
   "id": "cf55429ebc0cdaca",
   "metadata": {},
   "source": [
    "\n",
    "ms_gov_unfiltered.to_excel('ms_atg_gov_unfiltered.xlsx')"
   ],
   "outputs": []
  },
  {
   "cell_type": "markdown",
   "id": "4ac92933a138998d",
   "metadata": {},
   "source": [
    "We remove columns we don't need such as results from Commissioner of Agriculture & Commerce \\\n",
    "and other parties"
   ]
  },
  {
   "cell_type": "code",
   "execution_count": 21,
   "id": "12640c1fa9682484",
   "metadata": {
    "ExecuteTime": {
     "end_time": "2024-05-07T00:48:48.191357Z",
     "start_time": "2024-05-07T00:48:48.188686Z"
    }
   },
   "source": [
    "ms_unused_columns = ['G23GOVIGRA']\n",
    "ms_gov_23 = ms_gov_unfiltered.drop(ms_unused_columns, axis=1)"
   ],
   "outputs": []
  },
  {
   "cell_type": "markdown",
   "id": "8d7339de-3482-41cb-8d89-f7bfe16b2fb4",
   "metadata": {},
   "source": [
    "ATG and GOV data from [Redistricting Hub](https://redistrictingdatahub.org/dataset/mississippi-2023-general-election-precinct-level-results/)"
   ]
  },
  {
   "cell_type": "code",
   "execution_count": 39,
   "id": "851eac82-74cb-4d35-842f-ed7e9765349a",
   "metadata": {
    "ExecuteTime": {
     "end_time": "2024-05-07T00:48:53.087662Z",
     "start_time": "2024-05-07T00:48:52.095704Z"
    }
   },
   "source": [
    "ms_vest_20 = gpd.read_file('MS Data/ms_vest_20/ms_vest_20.shp')\n",
    "ms_vest_20.columns\n",
    "to_m"
   ],
   "outputs": []
  },
  {
   "cell_type": "code",
   "execution_count": 40,
   "id": "59d8e934-eed6-4d6c-a53a-a8d9332d190e",
   "metadata": {},
   "source": [
    "ms_vest_repaired"
   ],
   "outputs": []
  },
  {
   "cell_type": "markdown",
   "id": "20df3545095a1a86",
   "metadata": {},
   "source": [
    "\"VEST Presidential Election Data from [Redistricting Hub](https://redistrictingdatahub.org/dataset/vest-2020-mississippi-precinct-and-election-results/) \\\n",
    "Precinct-Level Presidential Data + Geometry"
   ]
  },
  {
   "cell_type": "code",
   "execution_count": null,
   "id": "2245926d613aa78b",
   "metadata": {},
   "source": [
    "ms_vest_20.to_excel('ms_vest_20.xlsx')"
   ],
   "outputs": []
  },
  {
   "cell_type": "code",
   "execution_count": null,
   "id": "2fa765e3ff5fa2ce",
   "metadata": {},
   "source": [],
   "outputs": []
  },
  {
   "cell_type": "code",
   "execution_count": 24,
   "id": "9bfa01661aa0ba41",
   "metadata": {
    "ExecuteTime": {
     "end_time": "2024-05-07T00:48:56.292365Z",
     "start_time": "2024-05-07T00:48:56.277135Z"
    }
   },
   "source": [
    "ms_pres_prec_20 = ms_vest_20.iloc[:, :7].join(ms_vest_20.iloc[:, -4:])\n",
    "ms_pres_prec_20"
   ],
   "outputs": []
  },
  {
   "cell_type": "code",
   "execution_count": 25,
   "id": "99d9e6096cb1e5c6",
   "metadata": {
    "ExecuteTime": {
     "end_time": "2024-05-07T00:49:17.986699Z",
     "start_time": "2024-05-07T00:49:17.967613Z"
    }
   },
   "source": [
    "ms_unused_prec_col = ['G20USSLEDW', 'GEOID20']\n",
    "pres_str_to_int = ['STATEFP20', 'COUNTYFP20', 'VTDST20']\n",
    "ms_pres_20 = ms_pres_prec_20.drop(ms_unused_prec_col, axis=1)\n",
    "ms_pres_20[pres_str_to_int] = ms_pres_20[pres_str_to_int].astype(int)\n",
    "ms_pres_20.sort_values(by='COUNTYFP20', inplace=True)\n",
    "ms_pres_20"
   ],
   "outputs": []
  },
  {
   "cell_type": "code",
   "execution_count": 26,
   "id": "5e32d086bc502e85",
   "metadata": {
    "ExecuteTime": {
     "end_time": "2024-05-07T00:51:13.281681Z",
     "start_time": "2024-05-07T00:51:13.278945Z"
    }
   },
   "source": [
    "def clean_location(location):\n",
    "    # Replace patterns using regex\n",
    "    location = re.sub(r'Dist\\.\\s\\d+,\\s(.+)\\sPrecinct', r'\\1', location)\n",
    "    location = re.sub(r'County\\sPrecinct\\s\\d+-([A-Za-z])', r'District \\1', location)\n",
    "    location = re.sub(r'Precinct\\s(\\d+)', r'\\1', location)\n",
    "    location = re.sub(r'Beat\\s\\d+\\s([A-Za-z]+)\\s\\([A-Z]+\\)', r'\\1', location)\n",
    "    location = re.sub(r'([A-Za-z]+)\\sNorth\\s-\\s(\\d+b?n)\\s(\\d+)', r'\\1 \\2 \\3', location)\n",
    "    location = re.sub(r'([A-Za-z]+)\\sHighway\\s\\d+\\s-\\s\\d+', r'\\1 Hwy', location)\n",
    "    # Additional regex patterns\n",
    "    location = re.sub(r'\\d+\\s-\\s(.+)', r'\\1', location)\n",
    "    location = re.sub(r'\\(\\d+\\)\\s(.+)', r'\\1', location)\n",
    "    location = re.sub(r'(\\d+)\\s-\\s([A-Za-z-]+)', r'\\2', location)\n",
    "    location = re.sub(r'([A-Za-z ]+)\\(\\w+-\\w+\\)', r'\\1', location)\n",
    "    location = re.sub(r'(\\w+)\\s(\\d+)', r'\\1 \\2', location)\n",
    "    location = re.sub(r'(\\w+)\\s(\\w+)\\s(\\d+)', r'\\1 \\2 \\3', location)\n",
    "    location = re.sub(r'(\\w+)\\s(\\d+)(\\w+)', r'\\1 \\2 \\3', location)\n",
    "    # Remove 'Beat' at the beginning of a string\n",
    "    location = re.sub(r'^Beat\\s*', '', location)\n",
    "    location = re.sub(r'^\\d+\\s*-', '', location.strip())\n",
    "\n",
    "    return location.lstrip('0123456789.- ').upper()\n",
    "\n",
    "def remove_symbols(text):\n",
    "    # Remove '.' and '#'\n",
    "    cleaned_text = re.sub(r'[.#\\']', '', text)\n",
    "    return cleaned_text\n",
    "\n",
    "def replace_with_space(text):\n",
    "    # Replace '/' and '-' with a space\n",
    "    cleaned_text = re.sub(r'[\\\\/-]', ' ', text)\n",
    "    return cleaned_text"
   ],
   "outputs": []
  },
  {
   "cell_type": "code",
   "execution_count": null,
   "id": "622a89c90539f655",
   "metadata": {},
   "source": [],
   "outputs": []
  },
  {
   "cell_type": "code",
   "execution_count": 27,
   "id": "1ab94bf563d68405",
   "metadata": {
    "ExecuteTime": {
     "end_time": "2024-05-07T00:52:02.383764Z",
     "start_time": "2024-05-07T00:52:02.362181Z"
    }
   },
   "source": [
    "ms_gov_23['Location Cleaned'] = ms_gov_23['precinct'].apply(clean_location).apply(remove_symbols).apply(replace_with_space)\n",
    "# ms_atg_gov_23['Location Cleaned'] = ms_atg_gov_23['Location Cleaned']\n",
    "ms_gov_23"
   ],
   "outputs": []
  },
  {
   "cell_type": "code",
   "execution_count": 28,
   "id": "1a258cc77dd31759",
   "metadata": {
    "ExecuteTime": {
     "end_time": "2024-05-07T00:52:12.091645Z",
     "start_time": "2024-05-07T00:52:12.088597Z"
    }
   },
   "source": [
    "ms_gov_23.loc[ms_gov_23['COUNTYFP'] == 'NONE', 'COUNTYFP'] = 33\n",
    "ms_gov_23.columns"
   ],
   "outputs": []
  },
  {
   "cell_type": "code",
   "execution_count": 29,
   "id": "5ee96bc1dfc2fdb7",
   "metadata": {
    "ExecuteTime": {
     "end_time": "2024-05-07T00:52:24.796700Z",
     "start_time": "2024-05-07T00:52:24.788835Z"
    }
   },
   "source": [
    "strs_to_int_col = ['COUNTYFP', 'G23GOVDPRE', 'G23GOVRREE']\n",
    "ms_gov_23[strs_to_int_col] = ms_gov_23[strs_to_int_col].astype('int')\n",
    "ms_gov_23['UNIQUE_ID'] = (ms_gov_23['Location Cleaned'] + ' ' + ms_gov_23['COUNTYFP'].astype('str')).astype('str')"
   ],
   "outputs": []
  },
  {
   "cell_type": "code",
   "execution_count": 30,
   "id": "1108685e01eeb8a2",
   "metadata": {
    "ExecuteTime": {
     "end_time": "2024-05-07T00:52:33.446860Z",
     "start_time": "2024-05-07T00:52:33.437219Z"
    }
   },
   "source": [
    "ms_gov_23"
   ],
   "outputs": []
  },
  {
   "cell_type": "code",
   "execution_count": 373,
   "id": "2faa9354834af220",
   "metadata": {
    "ExecuteTime": {
     "end_time": "2024-05-07T00:52:39.644297Z",
     "start_time": "2024-05-07T00:52:39.366292Z"
    }
   },
   "source": [
    "ms_gov_23.to_excel('ms_atg_gov_23.xlsx')"
   ],
   "outputs": []
  },
  {
   "cell_type": "code",
   "execution_count": 31,
   "id": "b805eb33fb583892",
   "metadata": {
    "ExecuteTime": {
     "end_time": "2024-05-07T00:52:42.700843Z",
     "start_time": "2024-05-07T00:52:42.696591Z"
    }
   },
   "source": [
    "ms_pres_20\n",
    "ms_pres_20['UNIQUE_ID'] = (ms_pres_20['NAME20'].apply(replace_with_space).apply(remove_symbols).str.upper() + ' ' + ms_pres_20['COUNTYFP20'].astype('str')).astype('str')"
   ],
   "outputs": []
  },
  {
   "cell_type": "code",
   "execution_count": 38,
   "id": "b7b7dd7e519ae6e0",
   "metadata": {
    "ExecuteTime": {
     "end_time": "2024-05-07T00:52:43.205320Z",
     "start_time": "2024-05-07T00:52:43.159271Z"
    }
   },
   "source": [
    "ms_pres_20.crs"
   ],
   "outputs": []
  },
  {
   "cell_type": "code",
   "execution_count": 376,
   "id": "6191ef59c7eeca83",
   "metadata": {
    "ExecuteTime": {
     "end_time": "2024-05-07T00:52:59.086937Z",
     "start_time": "2024-05-07T00:52:57.434729Z"
    }
   },
   "source": [
    "ms_pres_20.to_excel('ms_pres_20.xlsx')"
   ],
   "outputs": []
  },
  {
   "cell_type": "code",
   "execution_count": 35,
   "id": "908e1519e08f1247",
   "metadata": {
    "ExecuteTime": {
     "end_time": "2024-05-07T01:05:38.563489Z",
     "start_time": "2024-05-07T01:05:38.557323Z"
    }
   },
   "source": [
    "test_merge = pd.merge(ms_pres_20, ms_gov_23, on='UNIQUE_ID', how='left')\n",
    "pprint(test_merge.isna().sum())\n",
    "test_merge.shape"
   ],
   "outputs": []
  },
  {
   "cell_type": "code",
   "execution_count": 37,
   "id": "bb47bbff-c5df-4cb6-a99a-7c81b94c8f8d",
   "metadata": {},
   "source": [
    "# maup.doctor(test_merge)\n"
   ],
   "outputs": []
  },
  {
   "cell_type": "code",
   "execution_count": 398,
   "id": "f367c5fd4581e8f2",
   "metadata": {
    "ExecuteTime": {
     "end_time": "2024-05-07T01:05:43.097620Z",
     "start_time": "2024-05-07T01:05:43.093214Z"
    }
   },
   "source": [
    "test_merge.drop_duplicates(subset=['NAME20', 'COUNTYFP'], keep='first', inplace=True)\n",
    "test_merge.sort_values(by=['COUNTYFP20', 'UNIQUE_ID'], inplace=True)\n",
    "test_merge.shape"
   ],
   "outputs": []
  },
  {
   "cell_type": "code",
   "execution_count": 399,
   "id": "9da21864f453d118",
   "metadata": {
    "ExecuteTime": {
     "end_time": "2024-05-07T01:05:46.258933Z",
     "start_time": "2024-05-07T01:05:44.486751Z"
    }
   },
   "source": [
    "test_merge.to_excel('merge_outer.xlsx')\n"
   ],
   "outputs": []
  },
  {
   "cell_type": "code",
   "execution_count": 403,
   "id": "4ccb953a3b6b8ec0",
   "metadata": {
    "ExecuteTime": {
     "end_time": "2024-05-07T01:26:12.122564Z",
     "start_time": "2024-05-07T01:26:11.804598Z"
    }
   },
   "source": [
    "testing = pd.read_excel('merge_outer.xlsx')\n",
    "testing"
   ],
   "outputs": []
  },
  {
   "cell_type": "markdown",
   "id": "501221f9-b7d3-44a7-b40b-f9451d3328cd",
   "metadata": {},
   "source": [
    "# Exploratory Data Analysis\n",
    "\n",
    "- [ ] Precinct Neighbors\n",
    "- [ ] MGGG Algorithm\n",
    "- [ ] Calculate Election Winners\n",
    "- [ ] Identify Opportunity Districts\n",
    "- [ ] **Ecological Inference**\n"
   ]
  },
  {
   "cell_type": "code",
   "execution_count": 15,
   "id": "c2fbadd5-9848-4c30-b8af-725c75bee690",
   "metadata": {},
   "source": [
    "ms_election_precinct_df = pd.read_excel('MS Data/ms_election_precinct_data.xlsx')\n",
    "ms_election_precinct_df['geometry'] = gpd.GeoSeries.from_wkt(ms_election_precinct_df['geometry'])\n",
    "\n",
    "\n",
    "# ms_election_precinct_data = gpd.GeoDataFrame(ms_election_precinct_df, geometry=ms_election_precinct_df.geometry, crs='EPSG:4326')\n",
    "# ms_election_precinct_data"
   ],
   "outputs": []
  },
  {
   "cell_type": "code",
   "execution_count": null,
   "id": "dee32b86-fbb3-40de-b80a-aac2e5066988",
   "metadata": {},
   "source": [],
   "outputs": []
  }
 ],
 "metadata": {
  "kernelspec": {
   "display_name": "Python 3 (ipykernel)",
   "language": "python",
   "name": "python3"
  },
  "language_info": {
   "codemirror_mode": {
    "name": "ipython",
    "version": 3
   },
   "file_extension": ".py",
   "mimetype": "text/x-python",
   "name": "python",
   "nbconvert_exporter": "python",
   "pygments_lexer": "ipython3",
   "version": "3.11.5"
  }
 },
 "nbformat": 4,
 "nbformat_minor": 5
}
