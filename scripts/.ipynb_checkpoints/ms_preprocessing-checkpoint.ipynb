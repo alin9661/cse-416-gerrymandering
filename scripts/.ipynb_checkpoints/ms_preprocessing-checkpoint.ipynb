{
 "cells": [
  {
   "cell_type": "code",
   "execution_count": 1,
   "id": "1f7f0bd9-1ae9-423f-8485-fc8e046a2c86",
   "metadata": {},
   "outputs": [
    {
     "name": "stdout",
     "output_type": "stream",
     "text": [
      "Current working directory: /Users/aaronlin/Downloads/Spring 2024/CSE 416/cse416-gui/scripts\n",
      "/Users/aaronlin/Downloads/Spring 2024/CSE 416/cse416-gui/scripts\n"
     ]
    }
   ],
   "source": [
    "import geopandas as gpd\n",
    "import pandas as pd\n",
    "import matplotlib.pyplot as plt\n",
    "import folium\n",
    "import os\n",
    "import maup\n",
    "import multiprocessing as mp\n",
    "from pyproj import CRS\n",
    "\n",
    "# Get the current working directory\n",
    "current_directory = os.getcwd()\n",
    "print(\"Current working directory:\", current_directory)\n",
    "# new_dir = os.chdir(os.path.join(current_directory, 'MS'))\n",
    "print(os.getcwd())\n"
   ]
  },
  {
   "cell_type": "markdown",
   "id": "be6407c4-5c2e-4c01-99e9-dcedc961e2f8",
   "metadata": {},
   "source": [
    "# Data\n",
    "\n",
    "---\n",
    "\n",
    "- [ ] Find Precinct Data (Nevada + Mississippi)\n",
    "- [ ] Find State Assembly Shapefile\n",
    "- [ ] Demographic Population"
   ]
  },
  {
   "cell_type": "markdown",
   "id": "fa9a3c34-8162-4dd2-95dd-827ee857acb0",
   "metadata": {},
   "source": [
    "# Pre-processing\n",
    "\n",
    "---\n",
    "\n",
    "- [ ] Read ShapeFile\n",
    "- [ ] Convert ShapeFile -> GeoJSON\n",
    "- [ ] Multi-threaded and Parallelize Code\n",
    "- [ ] "
   ]
  },
  {
   "cell_type": "markdown",
   "id": "555348e1-eea6-4d47-9e7b-f0d0f52d62fc",
   "metadata": {},
   "source": [
    "### Mississippi State Assembly Data Processing"
   ]
  },
  {
   "cell_type": "code",
   "execution_count": null,
   "id": "e62a9b3a-d60a-4075-bb0f-287286c5164a",
   "metadata": {},
   "outputs": [],
   "source": [
    "ms_districts_df = gpd.read_file('cse416-gui/ms_State_Assembly_2022.geojson')\n",
    "# ms_districts_df.to_file('ms_State_Assembly_2022.geojson', driver='GeoJSON')\n",
    "\n",
    "ms_districts_df.plot()\n",
    "\n",
    "plt.show()\n",
    "\n",
    "ms_districts_df.to_crs(epsg=4326, inplace=True)\n",
    "display(ms_districts_df.crs)\n",
    "display(ms_districts_df.columns)\n",
    "\n",
    "ms_districts_df.to_file('ms_State_Assembly_2022.geojson', driver='GeoJSON')\n",
    "\n",
    "# display(ms_districts_df)\n",
    "\n",
    "# ms_districts_df.boundary.plot(color='black')"
   ]
  }
 ],
 "metadata": {
  "kernelspec": {
   "display_name": "Python 3 (ipykernel)",
   "language": "python",
   "name": "python3"
  },
  "language_info": {
   "codemirror_mode": {
    "name": "ipython",
    "version": 3
   },
   "file_extension": ".py",
   "mimetype": "text/x-python",
   "name": "python",
   "nbconvert_exporter": "python",
   "pygments_lexer": "ipython3",
   "version": "3.11.5"
  }
 },
 "nbformat": 4,
 "nbformat_minor": 5
}
