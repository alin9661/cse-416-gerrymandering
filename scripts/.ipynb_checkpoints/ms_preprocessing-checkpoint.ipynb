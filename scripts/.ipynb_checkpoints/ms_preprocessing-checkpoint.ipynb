{
 "cells": [
  {
   "cell_type": "code",
   "execution_count": null,
   "id": "1f7f0bd9-1ae9-423f-8485-fc8e046a2c86",
   "metadata": {},
   "source": [
    "import geopandas as gpd\n",
    "import pandas as pd\n",
    "import matplotlib.pyplot as plt\n",
    "import folium\n",
    "import os\n",
    "import maup\n",
    "import multiprocessing as mp\n",
    "from pyproj import CRS"
   ],
   "outputs": []
  },
  {
   "cell_type": "code",
   "execution_count": null,
   "id": "3a640804-7726-4d19-9b07-65a2af29a151",
   "metadata": {},
   "source": [
    "# Get the current working directory\n",
    "current_directory = os.getcwd()\n",
    "move_up = os.path.dirname(current_directory)\n",
    "client_dir = os.path.join(move_up, 'client')\n",
    "data_dir = os.path.join(client_dir, 'public')\n",
    "# new_path = os.chdir(os.path.join(data_dir, 'MS'))\n",
    "print(os.getcwd())\n",
    "print(os.listdir())"
   ],
   "outputs": []
  },
  {
   "cell_type": "code",
   "execution_count": null,
   "id": "875a15fb-4450-43e8-b711-020f32f743c3",
   "metadata": {},
   "source": [
    "block_data_bigfile1 = gpd.read_file('ms_pl2020_b/ms_pl2020_h1p5_b.shp')"
   ],
   "outputs": []
  },
  {
   "cell_type": "code",
   "execution_count": null,
   "id": "da6c5ee3-cd5c-4ad9-ba90-1e214486ec54",
   "metadata": {},
   "source": [
    "display(block_data_bigfile1.columns)"
   ],
   "outputs": []
  },
  {
   "cell_type": "code",
   "execution_count": null,
   "id": "63606332-6522-4da6-9e4a-aa9d43637f62",
   "metadata": {},
   "source": [
    "race_data_bigfile = gpd.read_file('ms_pl2020_b/ms_pl2020_p1_b.shp')"
   ],
   "outputs": []
  },
  {
   "cell_type": "code",
   "execution_count": null,
   "id": "6efeef5a-f336-41bd-89cf-f665a44e1cd3",
   "metadata": {},
   "source": [
    "display(race_data_bigfile)"
   ],
   "outputs": []
  },
  {
   "cell_type": "markdown",
   "id": "be6407c4-5c2e-4c01-99e9-dcedc961e2f8",
   "metadata": {},
   "source": [
    "# Data\n",
    "\n",
    "---\n",
    "\n",
    "- [ ] Find Precinct Data (Nevada + Mississippi)\n",
    "- [ ] Find State Assembly Shapefile\n",
    "- [ ] Demographic Population"
   ]
  },
  {
   "cell_type": "markdown",
   "id": "fa9a3c34-8162-4dd2-95dd-827ee857acb0",
   "metadata": {},
   "source": [
    "# Pre-processing\n",
    "\n",
    "---\n",
    "\n",
    "- [ ] Read ShapeFile\n",
    "- [ ] Convert ShapeFile -> GeoJSON\n",
    "- [ ] Multi-threaded and Parallelize Code\n",
    "- [ ] "
   ]
  },
  {
   "cell_type": "markdown",
   "id": "555348e1-eea6-4d47-9e7b-f0d0f52d62fc",
   "metadata": {},
   "source": [
    "### Mississippi State Assembly Data Processing"
   ]
  },
  {
   "cell_type": "code",
   "execution_count": null,
   "id": "e62a9b3a-d60a-4075-bb0f-287286c5164a",
   "metadata": {},
   "source": [
    "ms_districts_df = gpd.read_file('ms_State_Assembly_2022.geojson')\n",
    "ms_districts_df.plot()\n",
    "\n",
    "# plt.show()\n",
    "\n",
    "ms_districts_df.to_crs(epsg=4326, inplace=True)\n",
    "display(ms_districts_df.crs)\n",
    "display(ms_districts_df.columns)\n",
    "\n",
    "# ms_districts_df.to_file('ms_State_Assembly_2022.geojson', driver='GeoJSON')\n"
   ],
   "outputs": []
  },
  {
   "cell_type": "markdown",
   "id": "728ae3f6-2030-426a-9efc-4bff4b761e1e",
   "metadata": {},
   "source": [
    "Data gathered from [Redistricting Data](https://redistrictingdatahub.org/dataset/2022-mississippi-senate-districts-approved-plan/)"
   ]
  },
  {
   "cell_type": "markdown",
   "id": "acf0444e-4d79-4f62-a8b2-111bc3615d32",
   "metadata": {},
   "source": [
    "### Demographic Data on Block Level"
   ]
  },
  {
   "cell_type": "code",
   "execution_count": null,
   "id": "69b51de3-b74b-4bf7-87fb-b30ea8ec588b",
   "metadata": {},
   "source": [
    "ms_block_race_df = gpd.read_file('ms-block-demo-2020.geojson')\n",
    "\n",
    "# ms_block_race_df['area'] = ms_block_race_df['geometry'].area\n",
    "# ms_block_race_df.explore('area', legend=False)\n",
    "# ms_block_race_df.explore('STATEFP20', legend=False)\n",
    "ms_block_race_df.plot()\n",
    "display(ms_block_race_df.head())\n",
    "display(ms_block_race_df.columns)\n",
    "\n",
    "# https://redistrictingdatahub.org/dataset/mississippi-2022-select-race-data-from-the-american-community-survey-20182022-at-the-block-group-level/\n",
    "# diff_block_df = gpd.read_file('MS/ms_race_2022_bg/ms_race_2022_bg.shp')\n",
    "# display(diff_block_df.isna().sum())\n",
    "# display(diff_block_df.columns)\n",
    "\n",
    "\n",
    "# fig, (ax1,ax2) = plt.subplots(nrows=1, ncols=2, figsize=(20, 16))\n",
    "# ax1 = diff_block_df.plot(ax=ax1)\n",
    "# ax2 = ms_block_race_df.plot(ax=ax2)"
   ],
   "outputs": []
  },
  {
   "cell_type": "markdown",
   "id": "4eed2573-50dc-4d9a-aab9-8ca812974e27",
   "metadata": {},
   "source": [
    "Data from [Districtr](https://districtr.org/plan)"
   ]
  },
  {
   "cell_type": "markdown",
   "id": "6ac4b8e8-6cf9-4ba8-922d-2b000367322b",
   "metadata": {},
   "source": [
    "### General Elections Precinct Data + Geometry"
   ]
  },
  {
   "cell_type": "code",
   "execution_count": null,
   "id": "ef2137dc-3935-4164-b71b-97487b32bae2",
   "metadata": {},
   "source": [
    "ms_prec_bound_2022_df = gpd.read_file('ms_gen_22_prec/ms_gen_22_prec.shp')\n",
    "# ms_prec_bound_2022_df.to_file('msGenPrecBound2022', driver='GeoJSON')\n",
    "# ms_prec_bound_2022_df.explore()\n",
    "\n",
    "display(ms_prec_bound_2022_df.head())\n",
    "display(ms_prec_bound_2022_df.crs, ms_block_race_df.crs)\n",
    "\n",
    "fig, (ax1,ax2) = plt.subplots(nrows=1, ncols=2, figsize=(20, 16))\n",
    "ax1 = ms_prec_bound_2022_df.plot(ax=ax1)\n",
    "ax2 = ms_block_race_df.plot(ax=ax2)"
   ],
   "outputs": []
  },
  {
   "cell_type": "code",
   "execution_count": null,
   "id": "606060ec-7b28-4d08-8929-34388e1305e3",
   "metadata": {},
   "source": [
    "ms_prec_bound_2022_df"
   ],
   "outputs": []
  },
  {
   "cell_type": "markdown",
   "id": "b9302b9b-50a8-4270-a768-619354be1ff1",
   "metadata": {},
   "source": [
    "Data from [Redistricting Hub](https://redistrictingdatahub.org/dataset/mississippi-2022-general-election-precinct-level-results-and-boundaries/)"
   ]
  },
  {
   "cell_type": "code",
   "execution_count": null,
   "id": "8262efb3-5339-4d84-b6d8-669bbf2c809b",
   "metadata": {},
   "source": [
    "ms_prec_data = ms_prec_bound_2022_df\n",
    "display(ms_prec_data.columns)\n",
    "\n",
    "ms_block_data = ms_block_race_df\n",
    "display(ms_block_data.columns)\n",
    "\n",
    "ms_block_data.to_crs(32030, inplace=True)\n",
    "ms_prec_data.to_crs(32030, inplace=True)\n",
    "display(ms_prec_data.crs)\n"
   ],
   "outputs": []
  },
  {
   "cell_type": "code",
   "execution_count": null,
   "id": "223fd502-01bd-4da1-9055-44143ff8e633",
   "metadata": {},
   "source": [
    "# maup.doctor(ms_block_data)\n",
    "maup.doctor(ms_prec_data)\n",
    "# print(ms_prec_data.geometry.is_valid)"
   ],
   "outputs": []
  },
  {
   "cell_type": "code",
   "execution_count": null,
   "id": "15cba74b-d78c-4fe7-bbf4-c935c932c744",
   "metadata": {},
   "source": [
    "display(ms_prec_data.estimate_utm_crs())\n",
    "ms_prec_data.to_crs(epsg=32030, inplace=True)\n",
    "ms_prec_data = maup.smart_repair(ms_prec_data)"
   ],
   "outputs": []
  },
  {
   "cell_type": "code",
   "execution_count": null,
   "id": "9d055ee5-9196-442f-99e5-cbaef3304377",
   "metadata": {},
   "source": [
    "ms_prec_data\n",
    "block_prec_aggr = maup.assign(ms_block_data, ms_prec_data)\n",
    "display(ms_prec_data.columns.intersection(ms_block_data.columns))\n"
   ],
   "outputs": []
  },
  {
   "cell_type": "code",
   "execution_count": null,
   "id": "e174629a-386b-48ea-afc8-9c9c53f55341",
   "metadata": {},
   "source": [
    "display(ms_prec_data)\n",
    "ms_prec_data.to_file(\"fixed_ms_prec_geom.geojson\", driver=\"GeoJSON\")"
   ],
   "outputs": []
  },
  {
   "cell_type": "code",
   "execution_count": null,
   "id": "9788e6a8-3413-46ea-9d7e-85c57b0a21de",
   "metadata": {},
   "source": [
    "display(ms_prec_data.columns)\n",
    "display(ms_block_data.columns)"
   ],
   "outputs": []
  },
  {
   "cell_type": "markdown",
   "id": "e18af01d-4737-4f96-ba29-6314c504fcbb",
   "metadata": {},
   "source": [
    "### Redistrcting Hub Precinct Level Data + Districtr Block Demographic Data provided better geometry"
   ]
  },
  {
   "cell_type": "code",
   "execution_count": null,
   "id": "69890c71-5cc6-4a18-8601-36477a1e6d8f",
   "metadata": {},
   "source": [
    "variables = ['TOTPOP', 'WHITE', 'BLACK', 'ASIAN', 'HISP']\n",
    "\n",
    "ms_prec_data[variables] = ms_block_data[variables].groupby(block_prec_aggr).sum()\n",
    "\n",
    "\n",
    "# display(ms_prec_data[variables].head())\n",
    "# display(ms_prec_data.isna().sum())\n",
    "# display(ms_prec_data)\n",
    "# ms_prec_data.plot()"
   ],
   "outputs": []
  },
  {
   "cell_type": "code",
   "execution_count": null,
   "id": "29eaa310-e267-4951-834a-1e5ab0aadc6a",
   "metadata": {},
   "source": [
    "ms_prec_data['2022_DEMOCRATIC'] = ms_prec_data[['GCON01DBLA', 'GCON02DTHO', 'GCON03DYOU', 'GCON04DDUP']].sum(axis=1)\n",
    "ms_prec_data['2022_REPUBLICAN'] = ms_prec_data[['GCON01RKEL', 'GCON02RFLO', 'GCON03RGUE', 'GCON04REZE']].sum(axis=1)\n",
    "ms_prec_data['2022_LIBERAL'] = ms_prec_data[['GCON04LJOH']].sum(axis=1)\n",
    "\n",
    "# display(ms_prec_data)\n",
    "\n",
    "ms_prec_data['border'] = ms_prec_data.buffer(200)\n",
    "\n",
    "# ms_prec_data['border'].plot()\n",
    "rows = [row for _, row in ms_prec_data.groupby(ms_prec_data.index)]\n",
    "\n",
    "new_prec_data = ms_prec_data.drop(['GCON01DBLA', 'GCON02DTHO', 'GCON03DYOU', 'GCON04DDUP', \n",
    "                                      'GCON01RKEL', 'GCON02RFLO', 'GCON03RGUE', 'GCON04REZE', \n",
    "                                     'GCON04LJOH', 'POLL_LOC', 'CNTY_CODE'], axis=1)\n",
    "\n",
    "new_prec_data"
   ],
   "outputs": []
  },
  {
   "cell_type": "code",
   "execution_count": null,
   "id": "5c82b4d0-9374-4aa9-8614-b7972e693653",
   "metadata": {},
   "source": [
    "new_prec_data.plot(column='WHITE', cmap='OrRd', legend=True)"
   ],
   "outputs": []
  },
  {
   "cell_type": "markdown",
   "id": "4c578e32-63a2-471a-b2e3-6ab61e155e75",
   "metadata": {},
   "source": [
    "# 2023 General Election Precinct-Level Results"
   ]
  },
  {
   "cell_type": "code",
   "execution_count": 32,
   "id": "baeabff1-5150-4a87-a1e5-e22e2f200707",
   "metadata": {},
   "source": [
    "ms_gen_23 = gpd.read_file('ms_gen_2023_prec/ms_gen_2023_prec.csv')\n",
    "ms_gen_23.shape"
   ],
   "outputs": []
  },
  {
   "cell_type": "markdown",
   "id": "8d7339de-3482-41cb-8d89-f7bfe16b2fb4",
   "metadata": {},
   "source": [
    "ATG and GOV data from [Redistricting Hub](https://redistrictingdatahub.org/dataset/mississippi-2023-general-election-precinct-level-results/)"
   ]
  },
  {
   "cell_type": "code",
   "execution_count": 33,
   "id": "f0778245-c95f-4816-84b9-1042aef16a4e",
   "metadata": {},
   "source": [
    "ms_vtd = gpd.read_file('tl_2020_28_vtd20/tl_2020_28_vtd20.shp')\n",
    "# display(ms_vtd.columns)\n",
    "ms_vtd.shape"
   ],
   "outputs": []
  },
  {
   "cell_type": "code",
   "execution_count": null,
   "id": "425c4f8c-74ad-43f2-8a74-f38721da90e6",
   "metadata": {},
   "source": [
    "ms_vtd.to_excel('ms_vtd.xlsx')"
   ],
   "outputs": []
  },
  {
   "cell_type": "markdown",
   "id": "a2ea51ff-074b-4b19-9d7d-be130cd201f9",
   "metadata": {},
   "source": [
    "VTD Data from [Data.gov](https://catalog.data.gov/dataset/tiger-line-shapefile-2020-state-mississippi-voting-districts)"
   ]
  },
  {
   "cell_type": "code",
   "execution_count": 34,
   "id": "851eac82-74cb-4d35-842f-ed7e9765349a",
   "metadata": {},
   "source": [
    "ms_vest_20 = gpd.read_file('ms_vest_20/ms_vest_20.shp')\n",
    "ms_vest_20.columns"
   ],
   "outputs": []
  },
  {
   "cell_type": "markdown",
   "id": "2d687381-9468-4f66-a7a1-407703d66bbc",
   "metadata": {},
   "source": [
    "VEST Data from [Redistricting Hub](https://redistrictingdatahub.org/dataset/vest-2020-mississippi-precinct-and-election-results/)"
   ]
  },
  {
   "cell_type": "markdown",
   "id": "501221f9-b7d3-44a7-b40b-f9451d3328cd",
   "metadata": {},
   "source": [
    "# Exploratory Data Analysis\n",
    "\n",
    "- [ ] Precinct Neighbors\n",
    "- [ ] MGGG Algorithm\n",
    "- [ ] Calculate Election Winners\n",
    "- [ ] Identify Opportunity Districts\n",
    "- [ ] **Ecological Inference**\n"
   ]
  },
  {
   "cell_type": "code",
   "execution_count": null,
   "id": "c2fbadd5-9848-4c30-b8af-725c75bee690",
   "metadata": {},
   "source": [],
   "outputs": []
  }
 ],
 "metadata": {
  "kernelspec": {
   "display_name": "Python 3 (ipykernel)",
   "language": "python",
   "name": "python3"
  },
  "language_info": {
   "codemirror_mode": {
    "name": "ipython",
    "version": 3
   },
   "file_extension": ".py",
   "mimetype": "text/x-python",
   "name": "python",
   "nbconvert_exporter": "python",
   "pygments_lexer": "ipython3",
   "version": "3.11.5"
  }
 },
 "nbformat": 4,
 "nbformat_minor": 5
}
